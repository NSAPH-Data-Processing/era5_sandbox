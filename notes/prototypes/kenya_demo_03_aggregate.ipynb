{
 "cells": [
  {
   "cell_type": "markdown",
   "metadata": {},
   "source": [
    "---\n",
    "skip_showdoc: true\n",
    "---"
   ]
  },
  {
   "cell_type": "markdown",
   "metadata": {},
   "source": [
    "# Part 3: Joining Fishnet to the Ward geometries\n",
    "\n",
    "In this file, we will join the fishnet, which is a polygon grid with lines \n",
    "surrounding the grid of the ERA5 raster with the Ward geometries that have\n",
    "been queried from the Database of Global Administrative Boundaries\n",
    "(gadm.org). In merging the polygon grid with the ward polygon data, \n",
    "we ensure that every ward will be aligned with the relevant\n",
    "ERA5 temperature metrics for the area.\n",
    "\n",
    "Next, we Create extraction points from the union of the wards and fishnet. These \n",
    "are what we can use to extract values from the raster that overlaps with\n",
    "with the points aligning to each wards (this file).\n",
    "\n",
    "Lastly, we Estimate the ward-level exposure to ERA5, accounting for the availability\n",
    "of data within the wards (this file)"
   ]
  }
 ],
 "metadata": {},
 "nbformat": 4,
 "nbformat_minor": 2
}
