{
 "cells": [
  {
   "cell_type": "markdown",
   "id": "036be852",
   "metadata": {},
   "source": [
    "# Investigating The Download Results\n",
    "\n",
    "There are a couple of things we should do to QA our data downloads. Specifically, we want to come up with a way of ensuring our aggregations are valid and accurate. This will require some simple EDA."
   ]
  },
  {
   "cell_type": "code",
   "execution_count": null,
   "id": "08094a12",
   "metadata": {},
   "outputs": [],
   "source": [
    "from pyprojroot import here\n",
    "import pandas as pd\n",
    "import os\n",
    "from hydra import initialize, compose\n",
    "from omegaconf import OmegaConf, DictConfig"
   ]
  },
  {
   "cell_type": "code",
   "execution_count": null,
   "id": "c3e18bb3",
   "metadata": {},
   "outputs": [],
   "source": [
    "eg_file = here() / \"data/input/2010_1.nc\""
   ]
  }
 ],
 "metadata": {
  "kernelspec": {
   "display_name": "python3",
   "language": "python",
   "name": "python3"
  }
 },
 "nbformat": 4,
 "nbformat_minor": 5
}
