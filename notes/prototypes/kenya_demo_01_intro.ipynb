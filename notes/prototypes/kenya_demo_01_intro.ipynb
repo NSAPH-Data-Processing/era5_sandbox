{
 "cells": [
  {
   "cell_type": "markdown",
   "metadata": {},
   "source": [
    "---\n",
    "skip_showdoc: true\n",
    "---"
   ]
  },
  {
   "cell_type": "markdown",
   "metadata": {},
   "source": [
    "# Introduction to the ERA 5 Data\n",
    "\n",
    "The ERA5 dataset is the fifth iteration of the ECMWF ReAnalysis dataset, spanning from 1950 to the present. ECMWF is the \"European Centre for Medium-Range Weather Forecasts\".\n",
    "The dataset provides comprehensive and high-resolution historical weather and climate data. The source data is from the [Copernicus Climate Data Store (CDS)](https://cds.climate.copernicus.eu/#!/home). A comprehensive data documentation guide is available [here](https://confluence.ecmwf.int/display/CKB/ERA5%3A+data+documentation). In total, the entire CDS ERA data is over 10Petabytes.\n",
    "\n",
    "Fortunately for us, there are existing [Python](https://github.com/Climate-CAFE/era5-daily-heat-aggregation-python) and [R](https://github.com/Climate-CAFE/era5-daily-heat-aggregation) packages that have gone ahead and demonstrated extracting the data from the API for us, so we are going to use those to develop our workflow. Specifically, we're trying to understand the\n",
    "following characteristics of the data:\n",
    "\n",
    "* size, \n",
    "* how to download, \n",
    "* what are the key transformations to map things into the health sheds\n",
    "* two important variables: \n",
    "    * 2m air temp, and, \n",
    "    * 2m air dew point\n",
    "\n",
    "Let's get started\n"
   ]
  },
  {
   "cell_type": "markdown",
   "metadata": {},
   "source": [
    "Important: we need to install the CDS API first, so you'll need to grab an API key. First, you must register for an account and accept the T&Cs, afterwhich the page [here](https://ecmwf-projects.github.io/copernicus-training-c3s/cds-tutorial.html#install-the-cds-api-key) will autopopulate an API key for you. The following code shows a test case to make sure your API key works"
   ]
  },
  {
   "cell_type": "code",
   "execution_count": null,
   "metadata": {},
   "outputs": [
    {
     "name": "stderr",
     "output_type": "stream",
     "text": [
      "2025-03-03 13:31:07,682 INFO [2024-09-26T00:00:00] Watch our [Forum](https://forum.ecmwf.int/) for Announcements, news and other discussed topics.\n",
      "2025-03-03 13:31:07,683 WARNING [2024-06-16T00:00:00] CDS API syntax is changed and some keys or parameter names may have also changed. To avoid requests failing, please use the \"Show API request code\" tool on the dataset Download Form to check you are using the correct syntax for your API request.\n",
      "2025-03-03 13:31:07,959 INFO Request ID is 07de689d-b7df-439b-b303-2214b8f3eec0\n",
      "2025-03-03 13:31:08,091 INFO status has been updated to accepted\n",
      "2025-03-03 13:34:00,781 INFO status has been updated to successful\n"
     ]
    },
    {
     "data": {
      "application/vnd.jupyter.widget-view+json": {
       "model_id": "fb379a3afd064123b72fc016bd7ea267",
       "version_major": 2,
       "version_minor": 0
      },
      "text/plain": [
       "1fd5a2b7ad40b8c614c78061a75d30d0.grib:   0%|          | 0.00/1.98M [00:00<?, ?B/s]"
      ]
     },
     "metadata": {},
     "output_type": "display_data"
    },
    {
     "data": {
      "text/plain": [
       "'download.grib'"
      ]
     },
     "execution_count": null,
     "metadata": {},
     "output_type": "execute_result"
    }
   ],
   "source": [
    "import cdsapi\n",
    "\n",
    "client = cdsapi.Client()\n",
    "\n",
    "dataset = 'reanalysis-era5-pressure-levels'\n",
    "request = {\n",
    "  'product_type': ['reanalysis'],\n",
    "  'variable': ['geopotential'],\n",
    "  'year': ['2024'],\n",
    "  'month': ['03'],\n",
    "  'day': ['01'],\n",
    "  'time': ['13:00'],\n",
    "  'pressure_level': ['1000'],\n",
    "  'data_format': 'grib',\n",
    "}\n",
    "target = 'download.grib'\n",
    "\n",
    "client.retrieve(dataset, request, target)"
   ]
  },
  {
   "cell_type": "markdown",
   "metadata": {},
   "source": [
    "This demonstration is expected to amass 9GB of data for raw raster files (24 years, 12 files per year). The demonstration generates the 24 years of heat measures across Kenya administrative boundaries, in 1-month periods of ERA5-Land data across Kenya with three variables (2-m temp, dew point temp, skin temp)"
   ]
  },
  {
   "cell_type": "code",
   "execution_count": null,
   "metadata": {},
   "outputs": [],
   "source": [
    "# imports as recommended by the github repo\n",
    "import cdsapi\n",
    "import geopandas as gpd\n",
    "import os\n"
   ]
  },
  {
   "cell_type": "markdown",
   "metadata": {},
   "source": [
    "I'll use pyprojroot to specify a data path"
   ]
  },
  {
   "cell_type": "code",
   "execution_count": null,
   "metadata": {},
   "outputs": [],
   "source": [
    "from pyprojroot.here import here\n",
    "\n",
    "ecmw_dir = here(\"data\")"
   ]
  },
  {
   "cell_type": "code",
   "execution_count": null,
   "metadata": {},
   "outputs": [],
   "source": [
    "def create_dir(path):\n",
    "\n",
    "    if not os.path.exists(path):\n",
    "        os.makedirs(path)\n",
    "\n",
    "    return path"
   ]
  },
  {
   "cell_type": "code",
   "execution_count": null,
   "metadata": {},
   "outputs": [],
   "source": [
    "create_dir(ecmw_dir)"
   ]
  },
  {
   "cell_type": "code",
   "execution_count": null,
   "metadata": {},
   "outputs": [],
   "source": [
    "# create a directory for the kenya data\n",
    "create_dir(os.path.join(ecmw_dir, \"Kenya_GADM\"))"
   ]
  },
  {
   "cell_type": "markdown",
   "metadata": {},
   "source": [
    "Next, we need to manually fetch this GADM file for Kenya from here: https://gadm.org/download_country.html\n",
    "\n",
    "This is a boundaries geopackage; GeoBoundaries is a global database of administrative boundaries (e.g., countries, states, provinces, districts). Hence, this file provides the\n",
    "boundaries for Kenyan regions"
   ]
  },
  {
   "cell_type": "code",
   "execution_count": null,
   "metadata": {},
   "outputs": [],
   "source": [
    "kenya_shape =  gpd.read_file(os.path.join(ecmw_dir, \"Kenya_GADM/gadm41_KEN.gpkg\"), layer = \"ADM_ADM_0\")\n"
   ]
  },
  {
   "cell_type": "code",
   "execution_count": null,
   "metadata": {},
   "outputs": [
    {
     "data": {
      "text/html": [
       "<div>\n",
       "<style scoped>\n",
       "    .dataframe tbody tr th:only-of-type {\n",
       "        vertical-align: middle;\n",
       "    }\n",
       "\n",
       "    .dataframe tbody tr th {\n",
       "        vertical-align: top;\n",
       "    }\n",
       "\n",
       "    .dataframe thead th {\n",
       "        text-align: right;\n",
       "    }\n",
       "</style>\n",
       "<table border=\"1\" class=\"dataframe\">\n",
       "  <thead>\n",
       "    <tr style=\"text-align: right;\">\n",
       "      <th></th>\n",
       "      <th>GID_0</th>\n",
       "      <th>COUNTRY</th>\n",
       "      <th>geometry</th>\n",
       "    </tr>\n",
       "  </thead>\n",
       "  <tbody>\n",
       "    <tr>\n",
       "      <th>0</th>\n",
       "      <td>KEN</td>\n",
       "      <td>Kenya</td>\n",
       "      <td>MULTIPOLYGON (((39.38014 -4.71792, 39.37986 -4...</td>\n",
       "    </tr>\n",
       "  </tbody>\n",
       "</table>\n",
       "</div>"
      ],
      "text/plain": [
       "  GID_0 COUNTRY                                           geometry\n",
       "0   KEN   Kenya  MULTIPOLYGON (((39.38014 -4.71792, 39.37986 -4..."
      ]
     },
     "execution_count": null,
     "metadata": {},
     "output_type": "execute_result"
    }
   ],
   "source": [
    "kenya_shape"
   ]
  },
  {
   "cell_type": "markdown",
   "metadata": {},
   "source": [
    "The bounding box represents the coordinates of the shapefile, which is what we'll\n",
    "use to query Copernicus. Think of it like a mask provided in a file"
   ]
  },
  {
   "cell_type": "code",
   "execution_count": null,
   "metadata": {},
   "outputs": [],
   "source": [
    "kenya_bbox = kenya_shape.total_bounds"
   ]
  },
  {
   "cell_type": "code",
   "execution_count": null,
   "metadata": {},
   "outputs": [
    {
     "data": {
      "text/plain": [
       "array([33.909588  , -4.720417  , 41.92621613,  5.06116581])"
      ]
     },
     "execution_count": null,
     "metadata": {},
     "output_type": "execute_result"
    }
   ],
   "source": [
    "kenya_bbox"
   ]
  },
  {
   "cell_type": "markdown",
   "metadata": {},
   "source": [
    "Technical: Add a small buffer around the bounding box to ensure the whole region \n",
    "is queried, and round the parameters to a 0.1 resolution. A 0.1 resolution\n",
    "is applied because the resolution of netCDF ERA5 data is .25x.25\n",
    "https://confluence.ecmwf.int/display/CKB/ERA5%3A+What+is+the+spatial+reference\n"
   ]
  },
  {
   "cell_type": "code",
   "execution_count": null,
   "metadata": {},
   "outputs": [],
   "source": [
    "kenya_bbox[0] = round(kenya_bbox[0], 1) - 0.1\n",
    "kenya_bbox[1] = round(kenya_bbox[1], 1) - 0.1\n",
    "kenya_bbox[2] = round(kenya_bbox[2], 1) + 0.1\n",
    "kenya_bbox[3] = round(kenya_bbox[3], 1) + 0.1"
   ]
  },
  {
   "cell_type": "code",
   "execution_count": null,
   "metadata": {},
   "outputs": [],
   "source": [
    "# to build a query, specify [xmin, ymin, xmax, ymax]\n",
    "query_area = [kenya_bbox[0], kenya_bbox[1], kenya_bbox[2], kenya_bbox[3]]"
   ]
  },
  {
   "cell_type": "code",
   "execution_count": null,
   "metadata": {},
   "outputs": [],
   "source": [
    "query_years = list(range(2000, 2024))\n",
    "query_years_str = [str(x) for x in query_years]\n",
    "\n",
    "query_months = list(range(1, 13))\n",
    "query_months_str = [str(x).zfill(2) for x in query_months]"
   ]
  },
  {
   "cell_type": "code",
   "execution_count": null,
   "metadata": {},
   "outputs": [],
   "source": [
    "output_dir = create_dir(os.path.join(ecmw_dir, \"ERA5_out\"))"
   ]
  },
  {
   "cell_type": "code",
   "execution_count": null,
   "metadata": {},
   "outputs": [
    {
     "name": "stdout",
     "output_type": "stream",
     "text": [
      "Now processing year  2000 \n",
      "\n",
      "Now processing month  01 \n",
      "\n"
     ]
    },
    {
     "name": "stderr",
     "output_type": "stream",
     "text": [
      "2025-03-03 13:52:06,896 INFO [2024-09-26T00:00:00] Watch our [Forum](https://forum.ecmwf.int/) for Announcements, news and other discussed topics.\n",
      "2025-03-03 13:52:06,897 WARNING [2024-06-16T00:00:00] CDS API syntax is changed and some keys or parameter names may have also changed. To avoid requests failing, please use the \"Show API request code\" tool on the dataset Download Form to check you are using the correct syntax for your API request.\n",
      "2025-03-03 13:52:07,181 INFO Request ID is 56d97887-22e9-441c-b33c-2236e5feaa87\n",
      "2025-03-03 13:52:07,308 INFO status has been updated to accepted\n",
      "2025-03-03 13:52:15,943 INFO status has been updated to successful\n"
     ]
    },
    {
     "data": {
      "application/vnd.jupyter.widget-view+json": {
       "model_id": "5e8426ff1c4d4f7c9c4bf7fe34369109",
       "version_major": 2,
       "version_minor": 0
      },
      "text/plain": [
       "3f0a8829f1720f8fa1289e11eedada58.nc:   0%|          | 0.00/23.4M [00:00<?, ?B/s]"
      ]
     },
     "metadata": {},
     "output_type": "display_data"
    },
    {
     "name": "stdout",
     "output_type": "stream",
     "text": [
      "Now processing month  02 \n",
      "\n"
     ]
    },
    {
     "name": "stderr",
     "output_type": "stream",
     "text": [
      "2025-03-03 13:52:26,335 INFO [2024-09-26T00:00:00] Watch our [Forum](https://forum.ecmwf.int/) for Announcements, news and other discussed topics.\n",
      "2025-03-03 13:52:26,336 WARNING [2024-06-16T00:00:00] CDS API syntax is changed and some keys or parameter names may have also changed. To avoid requests failing, please use the \"Show API request code\" tool on the dataset Download Form to check you are using the correct syntax for your API request.\n",
      "2025-03-03 13:52:26,730 INFO Request ID is 02e31b6b-e047-4f4b-bf56-4eda01d5d08a\n",
      "2025-03-03 13:52:27,070 INFO status has been updated to accepted\n",
      "2025-03-03 13:52:36,181 INFO status has been updated to running\n",
      "2025-03-03 14:02:50,214 INFO status has been updated to successful\n"
     ]
    },
    {
     "data": {
      "application/vnd.jupyter.widget-view+json": {
       "model_id": "3818ec1261d94244826414c00c40038d",
       "version_major": 2,
       "version_minor": 0
      },
      "text/plain": [
       "bdfda68cb5ba4affec5b1f592ec6ed5f.nc:   0%|          | 0.00/20.3M [00:00<?, ?B/s]"
      ]
     },
     "metadata": {},
     "output_type": "display_data"
    },
    {
     "name": "stdout",
     "output_type": "stream",
     "text": [
      "Now processing month  03 \n",
      "\n"
     ]
    },
    {
     "name": "stderr",
     "output_type": "stream",
     "text": [
      "2025-03-03 14:02:56,179 INFO [2024-09-26T00:00:00] Watch our [Forum](https://forum.ecmwf.int/) for Announcements, news and other discussed topics.\n",
      "2025-03-03 14:02:56,180 WARNING [2024-06-16T00:00:00] CDS API syntax is changed and some keys or parameter names may have also changed. To avoid requests failing, please use the \"Show API request code\" tool on the dataset Download Form to check you are using the correct syntax for your API request.\n",
      "2025-03-03 14:02:56,555 INFO Request ID is 3e4ebcbc-7038-43b4-927b-b4ce291fd60f\n",
      "2025-03-03 14:02:56,703 INFO status has been updated to accepted\n",
      "2025-03-03 14:03:18,825 INFO status has been updated to running\n",
      "2025-03-03 14:11:18,070 INFO status has been updated to successful\n"
     ]
    },
    {
     "data": {
      "application/vnd.jupyter.widget-view+json": {
       "model_id": "da26cd78e6ce4e0391eb081bd3d1ed10",
       "version_major": 2,
       "version_minor": 0
      },
      "text/plain": [
       "eadfd863f7f6a6f82d1f077b6f137cdf.nc:   0%|          | 0.00/24.4M [00:00<?, ?B/s]"
      ]
     },
     "metadata": {},
     "output_type": "display_data"
    },
    {
     "name": "stdout",
     "output_type": "stream",
     "text": [
      "Now processing month  04 \n",
      "\n"
     ]
    },
    {
     "name": "stderr",
     "output_type": "stream",
     "text": [
      "2025-03-03 14:11:27,837 INFO [2024-09-26T00:00:00] Watch our [Forum](https://forum.ecmwf.int/) for Announcements, news and other discussed topics.\n",
      "2025-03-03 14:11:27,838 WARNING [2024-06-16T00:00:00] CDS API syntax is changed and some keys or parameter names may have also changed. To avoid requests failing, please use the \"Show API request code\" tool on the dataset Download Form to check you are using the correct syntax for your API request.\n",
      "2025-03-03 14:11:28,199 INFO Request ID is f2a01b32-4853-4d2d-a873-9986d4c668fa\n",
      "2025-03-03 14:11:28,358 INFO status has been updated to accepted\n",
      "2025-03-03 14:11:33,798 INFO status has been updated to running\n",
      "2025-03-03 14:17:48,663 INFO status has been updated to successful\n"
     ]
    },
    {
     "data": {
      "application/vnd.jupyter.widget-view+json": {
       "model_id": "ea59bb3364f648b1a990fa22b58bc379",
       "version_major": 2,
       "version_minor": 0
      },
      "text/plain": [
       "7790b627e1ed17c07398e4943ddc66f8.nc:   0%|          | 0.00/20.2M [00:00<?, ?B/s]"
      ]
     },
     "metadata": {},
     "output_type": "display_data"
    },
    {
     "name": "stdout",
     "output_type": "stream",
     "text": [
      "Now processing month  05 \n",
      "\n"
     ]
    },
    {
     "name": "stderr",
     "output_type": "stream",
     "text": [
      "2025-03-03 14:17:54,131 INFO [2024-09-26T00:00:00] Watch our [Forum](https://forum.ecmwf.int/) for Announcements, news and other discussed topics.\n",
      "2025-03-03 14:17:54,132 WARNING [2024-06-16T00:00:00] CDS API syntax is changed and some keys or parameter names may have also changed. To avoid requests failing, please use the \"Show API request code\" tool on the dataset Download Form to check you are using the correct syntax for your API request.\n",
      "2025-03-03 14:17:54,453 INFO Request ID is 1cf8b1bc-ba8b-4865-a895-1634b22b0cb0\n",
      "2025-03-03 14:17:54,572 INFO status has been updated to accepted\n",
      "2025-03-03 14:18:03,340 INFO status has been updated to running\n",
      "2025-03-03 14:24:14,619 INFO status has been updated to successful\n"
     ]
    },
    {
     "data": {
      "application/vnd.jupyter.widget-view+json": {
       "model_id": "fd851f61eb294e7c94eeecad7903a30e",
       "version_major": 2,
       "version_minor": 0
      },
      "text/plain": [
       "af8da5f83b8f4edfcfdc9e9b01e85167.nc:   0%|          | 0.00/22.7M [00:00<?, ?B/s]"
      ]
     },
     "metadata": {},
     "output_type": "display_data"
    },
    {
     "name": "stdout",
     "output_type": "stream",
     "text": [
      "Now processing month  06 \n",
      "\n"
     ]
    },
    {
     "name": "stderr",
     "output_type": "stream",
     "text": [
      "2025-03-03 14:24:18,644 INFO [2024-09-26T00:00:00] Watch our [Forum](https://forum.ecmwf.int/) for Announcements, news and other discussed topics.\n",
      "2025-03-03 14:24:18,645 WARNING [2024-06-16T00:00:00] CDS API syntax is changed and some keys or parameter names may have also changed. To avoid requests failing, please use the \"Show API request code\" tool on the dataset Download Form to check you are using the correct syntax for your API request.\n",
      "2025-03-03 14:24:18,893 INFO Request ID is 8d9297fa-d2d6-4cf8-8473-669175f205a6\n",
      "2025-03-03 14:24:19,004 INFO status has been updated to accepted\n",
      "2025-03-03 14:24:27,645 INFO status has been updated to running\n",
      "2025-03-03 14:30:40,248 INFO status has been updated to successful\n"
     ]
    },
    {
     "data": {
      "application/vnd.jupyter.widget-view+json": {
       "model_id": "3b2a46c558c242578f2c7e5602495436",
       "version_major": 2,
       "version_minor": 0
      },
      "text/plain": [
       "f222a9f45eec1093306d1f8bbf9bbdd2.nc:   0%|          | 0.00/21.5M [00:00<?, ?B/s]"
      ]
     },
     "metadata": {},
     "output_type": "display_data"
    },
    {
     "name": "stdout",
     "output_type": "stream",
     "text": [
      "Now processing month  07 \n",
      "\n"
     ]
    },
    {
     "name": "stderr",
     "output_type": "stream",
     "text": [
      "2025-03-03 14:30:45,830 INFO [2024-09-26T00:00:00] Watch our [Forum](https://forum.ecmwf.int/) for Announcements, news and other discussed topics.\n",
      "2025-03-03 14:30:45,832 WARNING [2024-06-16T00:00:00] CDS API syntax is changed and some keys or parameter names may have also changed. To avoid requests failing, please use the \"Show API request code\" tool on the dataset Download Form to check you are using the correct syntax for your API request.\n",
      "2025-03-03 14:30:46,161 INFO Request ID is 13f963a5-df07-42b0-9535-40f5dd511890\n",
      "2025-03-03 14:30:46,284 INFO status has been updated to accepted\n",
      "2025-03-03 14:30:54,964 INFO status has been updated to running\n",
      "2025-03-03 14:37:06,377 INFO status has been updated to successful\n"
     ]
    },
    {
     "data": {
      "application/vnd.jupyter.widget-view+json": {
       "model_id": "6a9a32f3b00044ef9dfd2b15db9a892e",
       "version_major": 2,
       "version_minor": 0
      },
      "text/plain": [
       "a56370ec686f31437a5c9328b74e48da.nc:   0%|          | 0.00/22.8M [00:00<?, ?B/s]"
      ]
     },
     "metadata": {},
     "output_type": "display_data"
    },
    {
     "name": "stdout",
     "output_type": "stream",
     "text": [
      "Now processing month  08 \n",
      "\n"
     ]
    },
    {
     "name": "stderr",
     "output_type": "stream",
     "text": [
      "2025-03-03 14:37:13,309 INFO [2024-09-26T00:00:00] Watch our [Forum](https://forum.ecmwf.int/) for Announcements, news and other discussed topics.\n",
      "2025-03-03 14:37:13,310 WARNING [2024-06-16T00:00:00] CDS API syntax is changed and some keys or parameter names may have also changed. To avoid requests failing, please use the \"Show API request code\" tool on the dataset Download Form to check you are using the correct syntax for your API request.\n",
      "2025-03-03 14:37:13,713 INFO Request ID is 33d25bd3-d6a3-4faa-8b21-7e9d93faf9f2\n",
      "2025-03-03 14:37:13,869 INFO status has been updated to accepted\n",
      "2025-03-03 14:37:22,628 INFO status has been updated to running\n",
      "2025-03-03 14:41:33,768 INFO status has been updated to successful\n"
     ]
    },
    {
     "data": {
      "application/vnd.jupyter.widget-view+json": {
       "model_id": "5877f53e1c974f13bda779dd1b2db544",
       "version_major": 2,
       "version_minor": 0
      },
      "text/plain": [
       "a393f6cb418b557a044ef0b4e0fb3b68.nc:   0%|          | 0.00/22.7M [00:00<?, ?B/s]"
      ]
     },
     "metadata": {},
     "output_type": "display_data"
    },
    {
     "name": "stdout",
     "output_type": "stream",
     "text": [
      "Now processing month  09 \n",
      "\n"
     ]
    },
    {
     "name": "stderr",
     "output_type": "stream",
     "text": [
      "2025-03-03 14:41:37,733 INFO [2024-09-26T00:00:00] Watch our [Forum](https://forum.ecmwf.int/) for Announcements, news and other discussed topics.\n",
      "2025-03-03 14:41:37,734 WARNING [2024-06-16T00:00:00] CDS API syntax is changed and some keys or parameter names may have also changed. To avoid requests failing, please use the \"Show API request code\" tool on the dataset Download Form to check you are using the correct syntax for your API request.\n",
      "2025-03-03 14:41:38,015 INFO Request ID is bc09a8e9-669b-4d05-85c4-e4cf6f0cc897\n",
      "2025-03-03 14:41:38,137 INFO status has been updated to accepted\n",
      "2025-03-03 14:41:46,811 INFO status has been updated to running\n",
      "2025-03-03 14:51:58,738 INFO status has been updated to successful\n"
     ]
    },
    {
     "data": {
      "application/vnd.jupyter.widget-view+json": {
       "model_id": "3d87c52f8b2842bfa6745f921025fb64",
       "version_major": 2,
       "version_minor": 0
      },
      "text/plain": [
       "53d56522c26bfa010f95b2a567bfba6b.nc:   0%|          | 0.00/21.7M [00:00<?, ?B/s]"
      ]
     },
     "metadata": {},
     "output_type": "display_data"
    },
    {
     "name": "stdout",
     "output_type": "stream",
     "text": [
      "Now processing month  10 \n",
      "\n"
     ]
    },
    {
     "name": "stderr",
     "output_type": "stream",
     "text": [
      "2025-03-03 14:52:02,100 INFO [2024-09-26T00:00:00] Watch our [Forum](https://forum.ecmwf.int/) for Announcements, news and other discussed topics.\n",
      "2025-03-03 14:52:02,100 WARNING [2024-06-16T00:00:00] CDS API syntax is changed and some keys or parameter names may have also changed. To avoid requests failing, please use the \"Show API request code\" tool on the dataset Download Form to check you are using the correct syntax for your API request.\n",
      "2025-03-03 14:52:02,388 INFO Request ID is 241ee8b5-f821-40e3-85a2-8409879e70f9\n",
      "2025-03-03 14:52:02,514 INFO status has been updated to accepted\n",
      "2025-03-03 14:52:16,437 INFO status has been updated to running\n",
      "2025-03-03 15:00:13,552 INFO status has been updated to successful\n"
     ]
    },
    {
     "data": {
      "application/vnd.jupyter.widget-view+json": {
       "model_id": "679b476a4f144069996a0f2ac17a54a2",
       "version_major": 2,
       "version_minor": 0
      },
      "text/plain": [
       "f7c843ccd2d84ceb1b96e518a6aa2700.nc:   0%|          | 0.00/23.8M [00:00<?, ?B/s]"
      ]
     },
     "metadata": {},
     "output_type": "display_data"
    },
    {
     "name": "stdout",
     "output_type": "stream",
     "text": [
      "Now processing month  11 \n",
      "\n"
     ]
    },
    {
     "name": "stderr",
     "output_type": "stream",
     "text": [
      "2025-03-03 15:00:27,786 INFO [2024-09-26T00:00:00] Watch our [Forum](https://forum.ecmwf.int/) for Announcements, news and other discussed topics.\n",
      "2025-03-03 15:00:27,788 WARNING [2024-06-16T00:00:00] CDS API syntax is changed and some keys or parameter names may have also changed. To avoid requests failing, please use the \"Show API request code\" tool on the dataset Download Form to check you are using the correct syntax for your API request.\n",
      "2025-03-03 15:00:28,099 INFO Request ID is 8105daba-e0c3-4645-99cb-5cfe48933195\n",
      "2025-03-03 15:00:28,306 INFO status has been updated to accepted\n",
      "2025-03-03 15:00:42,459 INFO status has been updated to running\n",
      "2025-03-03 15:04:48,209 INFO status has been updated to successful\n"
     ]
    },
    {
     "data": {
      "application/vnd.jupyter.widget-view+json": {
       "model_id": "4c6742fa7b4b46288fc033cdbcd69d93",
       "version_major": 2,
       "version_minor": 0
      },
      "text/plain": [
       "48275b1e8bd062eebd8362a189661294.nc:   0%|          | 0.00/20.2M [00:00<?, ?B/s]"
      ]
     },
     "metadata": {},
     "output_type": "display_data"
    },
    {
     "name": "stdout",
     "output_type": "stream",
     "text": [
      "Now processing month  12 \n",
      "\n"
     ]
    },
    {
     "name": "stderr",
     "output_type": "stream",
     "text": [
      "2025-03-03 15:04:52,699 INFO [2024-09-26T00:00:00] Watch our [Forum](https://forum.ecmwf.int/) for Announcements, news and other discussed topics.\n",
      "2025-03-03 15:04:52,700 WARNING [2024-06-16T00:00:00] CDS API syntax is changed and some keys or parameter names may have also changed. To avoid requests failing, please use the \"Show API request code\" tool on the dataset Download Form to check you are using the correct syntax for your API request.\n",
      "2025-03-03 15:04:53,116 INFO Request ID is dd89e23a-cada-48d1-8c5f-4792a907f6c0\n",
      "2025-03-03 15:04:53,231 INFO status has been updated to accepted\n",
      "2025-03-03 15:05:07,118 INFO status has been updated to running\n",
      "2025-03-03 15:11:13,173 INFO status has been updated to successful\n"
     ]
    },
    {
     "data": {
      "application/vnd.jupyter.widget-view+json": {
       "model_id": "abb09e98a258494789bbf255afb60293",
       "version_major": 2,
       "version_minor": 0
      },
      "text/plain": [
       "63a09f7c91b0eee81c2abc276659ff0.nc:   0%|          | 0.00/22.8M [00:00<?, ?B/s]"
      ]
     },
     "metadata": {},
     "output_type": "display_data"
    },
    {
     "name": "stdout",
     "output_type": "stream",
     "text": [
      "Now processing year  2001 \n",
      "\n",
      "Now processing month  01 \n",
      "\n"
     ]
    },
    {
     "name": "stderr",
     "output_type": "stream",
     "text": [
      "2025-03-03 15:11:17,671 INFO [2024-09-26T00:00:00] Watch our [Forum](https://forum.ecmwf.int/) for Announcements, news and other discussed topics.\n",
      "2025-03-03 15:11:17,672 WARNING [2024-06-16T00:00:00] CDS API syntax is changed and some keys or parameter names may have also changed. To avoid requests failing, please use the \"Show API request code\" tool on the dataset Download Form to check you are using the correct syntax for your API request.\n",
      "2025-03-03 15:11:18,119 INFO Request ID is d39ace79-6b2b-46f1-9dfc-97a95c08be81\n",
      "2025-03-03 15:11:18,254 INFO status has been updated to accepted\n",
      "2025-03-03 15:11:27,207 INFO status has been updated to running\n",
      "2025-03-03 15:17:38,525 INFO status has been updated to successful\n"
     ]
    },
    {
     "data": {
      "application/vnd.jupyter.widget-view+json": {
       "model_id": "1addb50452054720a0c593ea70d5bbc8",
       "version_major": 2,
       "version_minor": 0
      },
      "text/plain": [
       "a6f5c95b97ba2a5ea63d74168362d060.nc:   0%|          | 0.00/23.0M [00:00<?, ?B/s]"
      ]
     },
     "metadata": {},
     "output_type": "display_data"
    },
    {
     "name": "stdout",
     "output_type": "stream",
     "text": [
      "Now processing month  02 \n",
      "\n"
     ]
    },
    {
     "name": "stderr",
     "output_type": "stream",
     "text": [
      "2025-03-03 15:17:43,072 INFO [2024-09-26T00:00:00] Watch our [Forum](https://forum.ecmwf.int/) for Announcements, news and other discussed topics.\n",
      "2025-03-03 15:17:43,073 WARNING [2024-06-16T00:00:00] CDS API syntax is changed and some keys or parameter names may have also changed. To avoid requests failing, please use the \"Show API request code\" tool on the dataset Download Form to check you are using the correct syntax for your API request.\n",
      "2025-03-03 15:17:43,421 INFO Request ID is 24a2df52-8ea9-47b6-bd22-8e3bdb4abc41\n",
      "2025-03-03 15:17:43,550 INFO status has been updated to accepted\n",
      "2025-03-03 15:17:52,171 INFO status has been updated to running\n",
      "2025-03-03 15:22:03,113 INFO status has been updated to successful\n"
     ]
    },
    {
     "data": {
      "application/vnd.jupyter.widget-view+json": {
       "model_id": "8d7958687cfc4c11a2413e52a8f7053b",
       "version_major": 2,
       "version_minor": 0
      },
      "text/plain": [
       "7353a6681620a6ac4e57207c4c34cf7e.nc:   0%|          | 0.00/19.2M [00:00<?, ?B/s]"
      ]
     },
     "metadata": {},
     "output_type": "display_data"
    },
    {
     "name": "stdout",
     "output_type": "stream",
     "text": [
      "Now processing month  03 \n",
      "\n"
     ]
    },
    {
     "name": "stderr",
     "output_type": "stream",
     "text": [
      "2025-03-03 15:22:06,759 INFO [2024-09-26T00:00:00] Watch our [Forum](https://forum.ecmwf.int/) for Announcements, news and other discussed topics.\n",
      "2025-03-03 15:22:06,759 WARNING [2024-06-16T00:00:00] CDS API syntax is changed and some keys or parameter names may have also changed. To avoid requests failing, please use the \"Show API request code\" tool on the dataset Download Form to check you are using the correct syntax for your API request.\n",
      "2025-03-03 15:22:07,172 INFO Request ID is 83ad483b-c8ad-4626-9ed2-49df53bca636\n",
      "2025-03-03 15:22:07,283 INFO status has been updated to accepted\n",
      "2025-03-03 15:22:15,995 INFO status has been updated to running\n",
      "2025-03-03 15:26:27,325 INFO status has been updated to successful\n"
     ]
    },
    {
     "data": {
      "application/vnd.jupyter.widget-view+json": {
       "model_id": "9d2d23c5b6894b20a0157f39177359e1",
       "version_major": 2,
       "version_minor": 0
      },
      "text/plain": [
       "b49dba0c41e7c7174ed705b77edab42.nc:   0%|          | 0.00/23.4M [00:00<?, ?B/s]"
      ]
     },
     "metadata": {},
     "output_type": "display_data"
    },
    {
     "name": "stdout",
     "output_type": "stream",
     "text": [
      "Now processing month  04 \n",
      "\n"
     ]
    },
    {
     "name": "stderr",
     "output_type": "stream",
     "text": [
      "2025-03-03 15:26:33,108 INFO [2024-09-26T00:00:00] Watch our [Forum](https://forum.ecmwf.int/) for Announcements, news and other discussed topics.\n",
      "2025-03-03 15:26:33,109 WARNING [2024-06-16T00:00:00] CDS API syntax is changed and some keys or parameter names may have also changed. To avoid requests failing, please use the \"Show API request code\" tool on the dataset Download Form to check you are using the correct syntax for your API request.\n",
      "2025-03-03 15:26:33,462 INFO Request ID is c07a211a-40ef-4b0a-b63e-605127309fa3\n",
      "2025-03-03 15:26:33,603 INFO status has been updated to accepted\n",
      "2025-03-03 15:26:42,257 INFO status has been updated to running\n",
      "2025-03-03 15:30:53,083 INFO status has been updated to successful\n"
     ]
    },
    {
     "data": {
      "application/vnd.jupyter.widget-view+json": {
       "model_id": "7fd7f4006a004d04ba330ed4e7c51b0f",
       "version_major": 2,
       "version_minor": 0
      },
      "text/plain": [
       "53bf46ff597b3d357606e8cae56c470a.nc:   0%|          | 0.00/20.4M [00:00<?, ?B/s]"
      ]
     },
     "metadata": {},
     "output_type": "display_data"
    },
    {
     "name": "stdout",
     "output_type": "stream",
     "text": [
      "Now processing month  05 \n",
      "\n"
     ]
    },
    {
     "name": "stderr",
     "output_type": "stream",
     "text": [
      "2025-03-03 15:30:56,589 INFO [2024-09-26T00:00:00] Watch our [Forum](https://forum.ecmwf.int/) for Announcements, news and other discussed topics.\n",
      "2025-03-03 15:30:56,591 WARNING [2024-06-16T00:00:00] CDS API syntax is changed and some keys or parameter names may have also changed. To avoid requests failing, please use the \"Show API request code\" tool on the dataset Download Form to check you are using the correct syntax for your API request.\n",
      "2025-03-03 15:30:56,905 INFO Request ID is ca147122-6e94-4fd4-a20b-ee88ec92653f\n",
      "2025-03-03 15:30:57,038 INFO status has been updated to accepted\n",
      "2025-03-03 15:31:05,718 INFO status has been updated to running\n",
      "2025-03-03 15:35:16,989 INFO status has been updated to successful\n"
     ]
    },
    {
     "data": {
      "application/vnd.jupyter.widget-view+json": {
       "model_id": "c6c62232f90a42eb92e80811d4dac82a",
       "version_major": 2,
       "version_minor": 0
      },
      "text/plain": [
       "c155f6e8757b8648c1ce728eaa1f0866.nc:   0%|          | 0.00/23.0M [00:00<?, ?B/s]"
      ]
     },
     "metadata": {},
     "output_type": "display_data"
    },
    {
     "name": "stdout",
     "output_type": "stream",
     "text": [
      "Now processing month  06 \n",
      "\n"
     ]
    },
    {
     "name": "stderr",
     "output_type": "stream",
     "text": [
      "2025-03-03 15:35:21,024 INFO [2024-09-26T00:00:00] Watch our [Forum](https://forum.ecmwf.int/) for Announcements, news and other discussed topics.\n",
      "2025-03-03 15:35:21,025 WARNING [2024-06-16T00:00:00] CDS API syntax is changed and some keys or parameter names may have also changed. To avoid requests failing, please use the \"Show API request code\" tool on the dataset Download Form to check you are using the correct syntax for your API request.\n",
      "2025-03-03 15:35:21,366 INFO Request ID is d335b374-1775-4614-97a4-5a3821e02309\n",
      "2025-03-03 15:35:21,490 INFO status has been updated to accepted\n",
      "2025-03-03 15:35:30,131 INFO status has been updated to running\n",
      "2025-03-03 15:41:41,797 INFO status has been updated to successful\n"
     ]
    },
    {
     "data": {
      "application/vnd.jupyter.widget-view+json": {
       "model_id": "a21c8103d97b4fbcb3d7d626855dbe39",
       "version_major": 2,
       "version_minor": 0
      },
      "text/plain": [
       "6146d7b9b2da8097fbe3021e1682cfa0.nc:   0%|          | 0.00/21.6M [00:00<?, ?B/s]"
      ]
     },
     "metadata": {},
     "output_type": "display_data"
    },
    {
     "name": "stdout",
     "output_type": "stream",
     "text": [
      "Now processing month  07 \n",
      "\n"
     ]
    },
    {
     "name": "stderr",
     "output_type": "stream",
     "text": [
      "2025-03-03 15:41:45,590 INFO [2024-09-26T00:00:00] Watch our [Forum](https://forum.ecmwf.int/) for Announcements, news and other discussed topics.\n",
      "2025-03-03 15:41:45,591 WARNING [2024-06-16T00:00:00] CDS API syntax is changed and some keys or parameter names may have also changed. To avoid requests failing, please use the \"Show API request code\" tool on the dataset Download Form to check you are using the correct syntax for your API request.\n",
      "2025-03-03 15:41:45,881 INFO Request ID is 9a7bd182-69d5-462c-a4ab-b9785f1378da\n",
      "2025-03-03 15:41:46,002 INFO status has been updated to accepted\n",
      "2025-03-03 15:41:54,620 INFO status has been updated to running\n",
      "2025-03-03 15:50:06,189 INFO status has been updated to successful\n"
     ]
    },
    {
     "data": {
      "application/vnd.jupyter.widget-view+json": {
       "model_id": "5d80258ccb0e4be69d1f2af58b985ecc",
       "version_major": 2,
       "version_minor": 0
      },
      "text/plain": [
       "e2b5d31f1e484f56cbcc8ef7eaa61941.nc:   0%|          | 0.00/22.8M [00:00<?, ?B/s]"
      ]
     },
     "metadata": {},
     "output_type": "display_data"
    },
    {
     "name": "stdout",
     "output_type": "stream",
     "text": [
      "Now processing month  08 \n",
      "\n"
     ]
    },
    {
     "name": "stderr",
     "output_type": "stream",
     "text": [
      "2025-03-03 15:50:09,722 INFO [2024-09-26T00:00:00] Watch our [Forum](https://forum.ecmwf.int/) for Announcements, news and other discussed topics.\n",
      "2025-03-03 15:50:09,723 WARNING [2024-06-16T00:00:00] CDS API syntax is changed and some keys or parameter names may have also changed. To avoid requests failing, please use the \"Show API request code\" tool on the dataset Download Form to check you are using the correct syntax for your API request.\n",
      "2025-03-03 15:50:10,010 INFO Request ID is 12d44164-5b53-44d1-b59e-8014fc094cf1\n",
      "2025-03-03 15:50:10,148 INFO status has been updated to accepted\n",
      "2025-03-03 15:50:15,289 INFO status has been updated to running\n",
      "2025-03-03 15:58:30,547 INFO status has been updated to successful\n"
     ]
    },
    {
     "data": {
      "application/vnd.jupyter.widget-view+json": {
       "model_id": "f46d6d7fda4841389190afe276996c42",
       "version_major": 2,
       "version_minor": 0
      },
      "text/plain": [
       "edd45e6f0ef2cca4d8eacbffd0965bbb.nc:   0%|          | 0.00/23.8M [00:00<?, ?B/s]"
      ]
     },
     "metadata": {},
     "output_type": "display_data"
    },
    {
     "name": "stdout",
     "output_type": "stream",
     "text": [
      "Now processing month  09 \n",
      "\n"
     ]
    },
    {
     "name": "stderr",
     "output_type": "stream",
     "text": [
      "2025-03-03 15:58:34,164 INFO [2024-09-26T00:00:00] Watch our [Forum](https://forum.ecmwf.int/) for Announcements, news and other discussed topics.\n",
      "2025-03-03 15:58:34,165 WARNING [2024-06-16T00:00:00] CDS API syntax is changed and some keys or parameter names may have also changed. To avoid requests failing, please use the \"Show API request code\" tool on the dataset Download Form to check you are using the correct syntax for your API request.\n",
      "2025-03-03 15:58:34,507 INFO Request ID is 47938f42-99b6-4950-b016-9d26a52a1c58\n",
      "2025-03-03 15:58:34,631 INFO status has been updated to accepted\n",
      "2025-03-03 15:58:43,316 INFO status has been updated to running\n",
      "2025-03-03 16:04:54,992 INFO status has been updated to successful\n"
     ]
    },
    {
     "data": {
      "application/vnd.jupyter.widget-view+json": {
       "model_id": "a9c243a238ee4513a13098952a929a0b",
       "version_major": 2,
       "version_minor": 0
      },
      "text/plain": [
       "57793eca83ae1a510eed0c349ee3ec86.nc:   0%|          | 0.00/21.7M [00:00<?, ?B/s]"
      ]
     },
     "metadata": {},
     "output_type": "display_data"
    },
    {
     "name": "stdout",
     "output_type": "stream",
     "text": [
      "Now processing month  10 \n",
      "\n"
     ]
    },
    {
     "name": "stderr",
     "output_type": "stream",
     "text": [
      "2025-03-03 16:04:59,087 INFO [2024-09-26T00:00:00] Watch our [Forum](https://forum.ecmwf.int/) for Announcements, news and other discussed topics.\n",
      "2025-03-03 16:04:59,087 WARNING [2024-06-16T00:00:00] CDS API syntax is changed and some keys or parameter names may have also changed. To avoid requests failing, please use the \"Show API request code\" tool on the dataset Download Form to check you are using the correct syntax for your API request.\n",
      "2025-03-03 16:04:59,386 INFO Request ID is 181de390-2ee5-4f22-9e30-eee697fa6cfb\n",
      "2025-03-03 16:04:59,600 INFO status has been updated to accepted\n",
      "2025-03-03 16:05:08,251 INFO status has been updated to running\n",
      "2025-03-03 16:09:19,270 INFO status has been updated to successful\n"
     ]
    },
    {
     "data": {
      "application/vnd.jupyter.widget-view+json": {
       "model_id": "0152bc860eb4459586d1de04f8f1ab8a",
       "version_major": 2,
       "version_minor": 0
      },
      "text/plain": [
       "df861e01490f4bb9f2b017dddbeb4c9a.nc:   0%|          | 0.00/23.1M [00:00<?, ?B/s]"
      ]
     },
     "metadata": {},
     "output_type": "display_data"
    },
    {
     "name": "stdout",
     "output_type": "stream",
     "text": [
      "Now processing month  11 \n",
      "\n"
     ]
    },
    {
     "name": "stderr",
     "output_type": "stream",
     "text": [
      "2025-03-03 16:09:24,093 INFO [2024-09-26T00:00:00] Watch our [Forum](https://forum.ecmwf.int/) for Announcements, news and other discussed topics.\n",
      "2025-03-03 16:09:24,093 WARNING [2024-06-16T00:00:00] CDS API syntax is changed and some keys or parameter names may have also changed. To avoid requests failing, please use the \"Show API request code\" tool on the dataset Download Form to check you are using the correct syntax for your API request.\n",
      "2025-03-03 16:09:24,402 INFO Request ID is 05046ebf-a981-4608-a637-69fbf0be52c6\n",
      "2025-03-03 16:09:24,530 INFO status has been updated to accepted\n",
      "2025-03-03 16:09:33,211 INFO status has been updated to running\n",
      "2025-03-03 16:15:45,215 INFO status has been updated to successful\n"
     ]
    },
    {
     "data": {
      "application/vnd.jupyter.widget-view+json": {
       "model_id": "45c8338e59464e0d8f48ee97526b6d45",
       "version_major": 2,
       "version_minor": 0
      },
      "text/plain": [
       "cc92abb473270b684e4311a89ea223b8.nc:   0%|          | 0.00/21.7M [00:00<?, ?B/s]"
      ]
     },
     "metadata": {},
     "output_type": "display_data"
    },
    {
     "name": "stdout",
     "output_type": "stream",
     "text": [
      "Now processing month  12 \n",
      "\n"
     ]
    },
    {
     "name": "stderr",
     "output_type": "stream",
     "text": [
      "2025-03-03 16:15:48,551 INFO [2024-09-26T00:00:00] Watch our [Forum](https://forum.ecmwf.int/) for Announcements, news and other discussed topics.\n",
      "2025-03-03 16:15:48,552 WARNING [2024-06-16T00:00:00] CDS API syntax is changed and some keys or parameter names may have also changed. To avoid requests failing, please use the \"Show API request code\" tool on the dataset Download Form to check you are using the correct syntax for your API request.\n",
      "2025-03-03 16:15:48,865 INFO Request ID is 78c4cfb8-5e49-409b-af59-5aaea12c7443\n",
      "2025-03-03 16:15:49,009 INFO status has been updated to accepted\n",
      "2025-03-03 16:15:57,626 INFO status has been updated to running\n",
      "2025-03-03 16:22:09,151 INFO status has been updated to successful\n"
     ]
    },
    {
     "data": {
      "application/vnd.jupyter.widget-view+json": {
       "model_id": "cb4613bbd8ba4e21a711df600b63772a",
       "version_major": 2,
       "version_minor": 0
      },
      "text/plain": [
       "4030d07d1ca90f940aaf0bcdbbfc9a69.nc:   0%|          | 0.00/23.7M [00:00<?, ?B/s]"
      ]
     },
     "metadata": {},
     "output_type": "display_data"
    },
    {
     "name": "stdout",
     "output_type": "stream",
     "text": [
      "Now processing year  2002 \n",
      "\n",
      "Now processing month  01 \n",
      "\n"
     ]
    },
    {
     "name": "stderr",
     "output_type": "stream",
     "text": [
      "2025-03-03 16:22:14,128 INFO [2024-09-26T00:00:00] Watch our [Forum](https://forum.ecmwf.int/) for Announcements, news and other discussed topics.\n",
      "2025-03-03 16:22:14,128 WARNING [2024-06-16T00:00:00] CDS API syntax is changed and some keys or parameter names may have also changed. To avoid requests failing, please use the \"Show API request code\" tool on the dataset Download Form to check you are using the correct syntax for your API request.\n",
      "2025-03-03 16:22:14,432 INFO Request ID is 8ee4bafd-9b6e-4884-948a-eb86a903be4b\n",
      "2025-03-03 16:22:14,563 INFO status has been updated to accepted\n",
      "2025-03-03 16:22:23,215 INFO status has been updated to running\n",
      "2025-03-03 16:28:34,713 INFO status has been updated to successful\n"
     ]
    },
    {
     "data": {
      "application/vnd.jupyter.widget-view+json": {
       "model_id": "0bfde1af72f5484da0066f93dc20559b",
       "version_major": 2,
       "version_minor": 0
      },
      "text/plain": [
       "4952a6018fe09831b536f02cc68cfdaa.nc:   0%|          | 0.00/22.7M [00:00<?, ?B/s]"
      ]
     },
     "metadata": {},
     "output_type": "display_data"
    },
    {
     "name": "stdout",
     "output_type": "stream",
     "text": [
      "Now processing month  02 \n",
      "\n"
     ]
    },
    {
     "name": "stderr",
     "output_type": "stream",
     "text": [
      "2025-03-03 16:28:38,466 INFO [2024-09-26T00:00:00] Watch our [Forum](https://forum.ecmwf.int/) for Announcements, news and other discussed topics.\n",
      "2025-03-03 16:28:38,468 WARNING [2024-06-16T00:00:00] CDS API syntax is changed and some keys or parameter names may have also changed. To avoid requests failing, please use the \"Show API request code\" tool on the dataset Download Form to check you are using the correct syntax for your API request.\n",
      "2025-03-03 16:28:38,748 INFO Request ID is 7e7c46c6-7e33-4456-bb84-ab6abd905e73\n",
      "2025-03-03 16:28:38,899 INFO status has been updated to accepted\n",
      "2025-03-03 16:28:47,557 INFO status has been updated to running\n",
      "2025-03-03 16:34:58,844 INFO status has been updated to successful\n"
     ]
    },
    {
     "data": {
      "application/vnd.jupyter.widget-view+json": {
       "model_id": "4a31e5296f324d15b80634dc6bac0675",
       "version_major": 2,
       "version_minor": 0
      },
      "text/plain": [
       "746bfeac4672f082014b9bfc8629e0fc.nc:   0%|          | 0.00/19.5M [00:00<?, ?B/s]"
      ]
     },
     "metadata": {},
     "output_type": "display_data"
    },
    {
     "name": "stdout",
     "output_type": "stream",
     "text": [
      "Now processing month  03 \n",
      "\n"
     ]
    },
    {
     "name": "stderr",
     "output_type": "stream",
     "text": [
      "2025-03-03 16:35:02,056 INFO [2024-09-26T00:00:00] Watch our [Forum](https://forum.ecmwf.int/) for Announcements, news and other discussed topics.\n",
      "2025-03-03 16:35:02,057 WARNING [2024-06-16T00:00:00] CDS API syntax is changed and some keys or parameter names may have also changed. To avoid requests failing, please use the \"Show API request code\" tool on the dataset Download Form to check you are using the correct syntax for your API request.\n",
      "2025-03-03 16:35:02,383 INFO Request ID is a1dbd535-ef6a-4ff8-843a-dc380bbfd9fc\n",
      "2025-03-03 16:35:02,490 INFO status has been updated to accepted\n",
      "2025-03-03 16:35:12,020 INFO status has been updated to running\n",
      "2025-03-03 16:41:23,295 INFO status has been updated to successful\n"
     ]
    },
    {
     "data": {
      "application/vnd.jupyter.widget-view+json": {
       "model_id": "33aa9295a7a04fd0a7b99504c7e7f575",
       "version_major": 2,
       "version_minor": 0
      },
      "text/plain": [
       "f0aa24727636a12faf9e051c128a6dbf.nc:   0%|          | 0.00/23.8M [00:00<?, ?B/s]"
      ]
     },
     "metadata": {},
     "output_type": "display_data"
    },
    {
     "name": "stdout",
     "output_type": "stream",
     "text": [
      "Now processing month  04 \n",
      "\n"
     ]
    },
    {
     "name": "stderr",
     "output_type": "stream",
     "text": [
      "2025-03-03 16:41:26,983 INFO [2024-09-26T00:00:00] Watch our [Forum](https://forum.ecmwf.int/) for Announcements, news and other discussed topics.\n",
      "2025-03-03 16:41:26,983 WARNING [2024-06-16T00:00:00] CDS API syntax is changed and some keys or parameter names may have also changed. To avoid requests failing, please use the \"Show API request code\" tool on the dataset Download Form to check you are using the correct syntax for your API request.\n",
      "2025-03-03 16:41:27,339 INFO Request ID is 169d5b0c-53e0-422a-a99b-753cb770b553\n",
      "2025-03-03 16:41:27,473 INFO status has been updated to accepted\n",
      "2025-03-03 16:41:32,657 INFO status has been updated to running\n",
      "2025-03-03 16:47:47,676 INFO status has been updated to successful\n"
     ]
    },
    {
     "data": {
      "application/vnd.jupyter.widget-view+json": {
       "model_id": "24c4463134554e47a9cac840f9637504",
       "version_major": 2,
       "version_minor": 0
      },
      "text/plain": [
       "1139875c53f8ba5a2279763e094e82dd.nc:   0%|          | 0.00/20.1M [00:00<?, ?B/s]"
      ]
     },
     "metadata": {},
     "output_type": "display_data"
    },
    {
     "name": "stdout",
     "output_type": "stream",
     "text": [
      "Now processing month  05 \n",
      "\n"
     ]
    },
    {
     "name": "stderr",
     "output_type": "stream",
     "text": [
      "2025-03-03 16:47:53,627 INFO [2024-09-26T00:00:00] Watch our [Forum](https://forum.ecmwf.int/) for Announcements, news and other discussed topics.\n",
      "2025-03-03 16:47:53,629 WARNING [2024-06-16T00:00:00] CDS API syntax is changed and some keys or parameter names may have also changed. To avoid requests failing, please use the \"Show API request code\" tool on the dataset Download Form to check you are using the correct syntax for your API request.\n",
      "2025-03-03 16:47:53,949 INFO Request ID is e057a82f-26c1-49c2-86d2-e803f4e609b9\n",
      "2025-03-03 16:47:54,149 INFO status has been updated to accepted\n",
      "2025-03-03 16:47:59,351 INFO status has been updated to running\n",
      "2025-03-03 16:54:14,219 INFO status has been updated to successful\n"
     ]
    },
    {
     "data": {
      "application/vnd.jupyter.widget-view+json": {
       "model_id": "6341e9f0f14d4777b0cd0cda7d0267d0",
       "version_major": 2,
       "version_minor": 0
      },
      "text/plain": [
       "e6cd334a734633bf2677a41b64ef0503.nc:   0%|          | 0.00/22.8M [00:00<?, ?B/s]"
      ]
     },
     "metadata": {},
     "output_type": "display_data"
    },
    {
     "name": "stdout",
     "output_type": "stream",
     "text": [
      "Now processing month  06 \n",
      "\n"
     ]
    },
    {
     "name": "stderr",
     "output_type": "stream",
     "text": [
      "2025-03-03 16:54:17,476 INFO [2024-09-26T00:00:00] Watch our [Forum](https://forum.ecmwf.int/) for Announcements, news and other discussed topics.\n",
      "2025-03-03 16:54:17,477 WARNING [2024-06-16T00:00:00] CDS API syntax is changed and some keys or parameter names may have also changed. To avoid requests failing, please use the \"Show API request code\" tool on the dataset Download Form to check you are using the correct syntax for your API request.\n",
      "2025-03-03 16:54:17,808 INFO Request ID is 57f52ced-a466-46f7-8e89-60962b0b1e71\n",
      "2025-03-03 16:54:17,962 INFO status has been updated to accepted\n",
      "2025-03-03 16:54:26,612 INFO status has been updated to running\n",
      "2025-03-03 17:04:38,619 INFO status has been updated to successful\n"
     ]
    },
    {
     "data": {
      "application/vnd.jupyter.widget-view+json": {
       "model_id": "31579ab608ef461ba017145618f066ea",
       "version_major": 2,
       "version_minor": 0
      },
      "text/plain": [
       "c549e11cbe2ac4ea745dfee071d5477c.nc:   0%|          | 0.00/21.5M [00:00<?, ?B/s]"
      ]
     },
     "metadata": {},
     "output_type": "display_data"
    },
    {
     "name": "stdout",
     "output_type": "stream",
     "text": [
      "Now processing month  07 \n",
      "\n"
     ]
    },
    {
     "name": "stderr",
     "output_type": "stream",
     "text": [
      "2025-03-03 17:04:41,945 INFO [2024-09-26T00:00:00] Watch our [Forum](https://forum.ecmwf.int/) for Announcements, news and other discussed topics.\n",
      "2025-03-03 17:04:41,947 WARNING [2024-06-16T00:00:00] CDS API syntax is changed and some keys or parameter names may have also changed. To avoid requests failing, please use the \"Show API request code\" tool on the dataset Download Form to check you are using the correct syntax for your API request.\n",
      "2025-03-03 17:04:42,262 INFO Request ID is 0c4a12a8-9e3f-4479-903c-12218d4995cc\n",
      "2025-03-03 17:04:42,395 INFO status has been updated to accepted\n",
      "2025-03-03 17:04:56,207 INFO status has been updated to running\n",
      "2025-03-03 17:11:02,228 INFO status has been updated to successful\n"
     ]
    },
    {
     "data": {
      "application/vnd.jupyter.widget-view+json": {
       "model_id": "3aba2d3e8e25401782014b3569373713",
       "version_major": 2,
       "version_minor": 0
      },
      "text/plain": [
       "4910d00a419d7e9af6772646a37c5ef2.nc:   0%|          | 0.00/22.8M [00:00<?, ?B/s]"
      ]
     },
     "metadata": {},
     "output_type": "display_data"
    },
    {
     "name": "stdout",
     "output_type": "stream",
     "text": [
      "Now processing month  08 \n",
      "\n"
     ]
    },
    {
     "name": "stderr",
     "output_type": "stream",
     "text": [
      "2025-03-03 17:11:05,552 INFO [2024-09-26T00:00:00] Watch our [Forum](https://forum.ecmwf.int/) for Announcements, news and other discussed topics.\n",
      "2025-03-03 17:11:05,553 WARNING [2024-06-16T00:00:00] CDS API syntax is changed and some keys or parameter names may have also changed. To avoid requests failing, please use the \"Show API request code\" tool on the dataset Download Form to check you are using the correct syntax for your API request.\n",
      "2025-03-03 17:11:05,923 INFO Request ID is 2a14a8a9-72bb-4ad5-be7b-66ea35cc5f78\n",
      "2025-03-03 17:11:06,092 INFO status has been updated to accepted\n",
      "2025-03-03 17:11:19,956 INFO status has been updated to running\n",
      "2025-03-03 17:17:26,215 INFO status has been updated to successful\n"
     ]
    },
    {
     "data": {
      "application/vnd.jupyter.widget-view+json": {
       "model_id": "8a72c7a0e6ef4ffe945d7883adcfd157",
       "version_major": 2,
       "version_minor": 0
      },
      "text/plain": [
       "df18b33085c197ddb5ead7aad67e32ea.nc:   0%|          | 0.00/23.5M [00:00<?, ?B/s]"
      ]
     },
     "metadata": {},
     "output_type": "display_data"
    },
    {
     "name": "stdout",
     "output_type": "stream",
     "text": [
      "Now processing month  09 \n",
      "\n"
     ]
    },
    {
     "name": "stderr",
     "output_type": "stream",
     "text": [
      "2025-03-03 17:17:40,447 INFO [2024-09-26T00:00:00] Watch our [Forum](https://forum.ecmwf.int/) for Announcements, news and other discussed topics.\n",
      "2025-03-03 17:17:40,448 WARNING [2024-06-16T00:00:00] CDS API syntax is changed and some keys or parameter names may have also changed. To avoid requests failing, please use the \"Show API request code\" tool on the dataset Download Form to check you are using the correct syntax for your API request.\n",
      "2025-03-03 17:17:40,911 INFO Request ID is ab2a6b15-0383-4bda-877a-38c400783092\n",
      "2025-03-03 17:17:41,098 INFO status has been updated to accepted\n",
      "2025-03-03 17:17:49,765 INFO status has been updated to running\n",
      "2025-03-03 17:24:01,146 INFO status has been updated to successful\n"
     ]
    },
    {
     "data": {
      "application/vnd.jupyter.widget-view+json": {
       "model_id": "4fa890dc303d49e585bfc82f8e8854fc",
       "version_major": 2,
       "version_minor": 0
      },
      "text/plain": [
       "24747fb2834f85bc2bc161a526047576.nc:   0%|          | 0.00/21.3M [00:00<?, ?B/s]"
      ]
     },
     "metadata": {},
     "output_type": "display_data"
    },
    {
     "name": "stdout",
     "output_type": "stream",
     "text": [
      "Now processing month  10 \n",
      "\n"
     ]
    },
    {
     "name": "stderr",
     "output_type": "stream",
     "text": [
      "2025-03-03 17:24:05,314 INFO [2024-09-26T00:00:00] Watch our [Forum](https://forum.ecmwf.int/) for Announcements, news and other discussed topics.\n",
      "2025-03-03 17:24:05,315 WARNING [2024-06-16T00:00:00] CDS API syntax is changed and some keys or parameter names may have also changed. To avoid requests failing, please use the \"Show API request code\" tool on the dataset Download Form to check you are using the correct syntax for your API request.\n",
      "2025-03-03 17:24:05,613 INFO Request ID is 2222bf20-78ae-480b-8866-d04fb0ebd22b\n",
      "2025-03-03 17:24:05,723 INFO status has been updated to accepted\n",
      "2025-03-03 17:24:14,410 INFO status has been updated to running\n",
      "2025-03-03 17:28:25,275 INFO status has been updated to successful\n"
     ]
    },
    {
     "data": {
      "application/vnd.jupyter.widget-view+json": {
       "model_id": "3ac9d234b7794c09a5a177a2afb01906",
       "version_major": 2,
       "version_minor": 0
      },
      "text/plain": [
       "4a0047e55e40631d4257bc999430f369.nc:   0%|          | 0.00/22.8M [00:00<?, ?B/s]"
      ]
     },
     "metadata": {},
     "output_type": "display_data"
    },
    {
     "name": "stdout",
     "output_type": "stream",
     "text": [
      "Now processing month  11 \n",
      "\n"
     ]
    },
    {
     "name": "stderr",
     "output_type": "stream",
     "text": [
      "2025-03-03 17:28:28,643 INFO [2024-09-26T00:00:00] Watch our [Forum](https://forum.ecmwf.int/) for Announcements, news and other discussed topics.\n",
      "2025-03-03 17:28:28,644 WARNING [2024-06-16T00:00:00] CDS API syntax is changed and some keys or parameter names may have also changed. To avoid requests failing, please use the \"Show API request code\" tool on the dataset Download Form to check you are using the correct syntax for your API request.\n",
      "2025-03-03 17:28:28,930 INFO Request ID is 4247b9db-0eb8-4dd4-bea7-71a188cd7191\n",
      "2025-03-03 17:28:29,062 INFO status has been updated to accepted\n",
      "2025-03-03 17:28:37,733 INFO status has been updated to running\n",
      "2025-03-03 17:34:48,991 INFO status has been updated to successful\n"
     ]
    },
    {
     "data": {
      "application/vnd.jupyter.widget-view+json": {
       "model_id": "989127f5cdaa41c89febcfc02a57eddf",
       "version_major": 2,
       "version_minor": 0
      },
      "text/plain": [
       "83f38bf86f197534418c3f793d00df51.nc:   0%|          | 0.00/20.2M [00:00<?, ?B/s]"
      ]
     },
     "metadata": {},
     "output_type": "display_data"
    },
    {
     "name": "stdout",
     "output_type": "stream",
     "text": [
      "Now processing month  12 \n",
      "\n"
     ]
    },
    {
     "name": "stderr",
     "output_type": "stream",
     "text": [
      "2025-03-03 17:34:52,520 INFO [2024-09-26T00:00:00] Watch our [Forum](https://forum.ecmwf.int/) for Announcements, news and other discussed topics.\n",
      "2025-03-03 17:34:52,520 WARNING [2024-06-16T00:00:00] CDS API syntax is changed and some keys or parameter names may have also changed. To avoid requests failing, please use the \"Show API request code\" tool on the dataset Download Form to check you are using the correct syntax for your API request.\n",
      "2025-03-03 17:34:52,853 INFO Request ID is 54b41ffd-5411-438b-9209-5a1a48e726f2\n",
      "2025-03-03 17:34:52,983 INFO status has been updated to accepted\n",
      "2025-03-03 17:35:01,605 INFO status has been updated to running\n",
      "2025-03-03 17:41:12,968 INFO status has been updated to successful\n"
     ]
    },
    {
     "data": {
      "application/vnd.jupyter.widget-view+json": {
       "model_id": "bb06602689914d90b4f0992b600da0e0",
       "version_major": 2,
       "version_minor": 0
      },
      "text/plain": [
       "c548caeddfbc3b57a873757af31bb3f2.nc:   0%|          | 0.00/22.6M [00:00<?, ?B/s]"
      ]
     },
     "metadata": {},
     "output_type": "display_data"
    },
    {
     "name": "stdout",
     "output_type": "stream",
     "text": [
      "Now processing year  2003 \n",
      "\n",
      "Now processing month  01 \n",
      "\n"
     ]
    },
    {
     "name": "stderr",
     "output_type": "stream",
     "text": [
      "2025-03-03 17:41:16,083 INFO [2024-09-26T00:00:00] Watch our [Forum](https://forum.ecmwf.int/) for Announcements, news and other discussed topics.\n",
      "2025-03-03 17:41:16,084 WARNING [2024-06-16T00:00:00] CDS API syntax is changed and some keys or parameter names may have also changed. To avoid requests failing, please use the \"Show API request code\" tool on the dataset Download Form to check you are using the correct syntax for your API request.\n",
      "2025-03-03 17:41:16,395 INFO Request ID is da7f6ab3-f9a4-4cf4-a336-8d4c6069eab6\n",
      "2025-03-03 17:41:16,530 INFO status has been updated to accepted\n",
      "2025-03-03 17:41:25,165 INFO status has been updated to running\n",
      "Recovering from connection error [HTTPSConnectionPool(host='cds.climate.copernicus.eu', port=443): Max retries exceeded with url: /api/retrieve/v1/jobs/da7f6ab3-f9a4-4cf4-a336-8d4c6069eab6?log=True&request=True (Caused by NameResolutionError(\"<urllib3.connection.HTTPSConnection object>: Failed to resolve 'cds.climate.copernicus.eu' ([Errno 8] nodename nor servname provided, or not known)\"))], attemps 1 of 500\n",
      "Retrying in 120 seconds\n",
      "2025-03-03 18:40:35,507 INFO status has been updated to successful\n"
     ]
    },
    {
     "data": {
      "application/vnd.jupyter.widget-view+json": {
       "model_id": "aeccd1069d2d4f80a3b569d25da240ff",
       "version_major": 2,
       "version_minor": 0
      },
      "text/plain": [
       "9cbcabcbc8259ee36e1d9c27c7bcd2e5.nc:   0%|          | 0.00/22.9M [00:00<?, ?B/s]"
      ]
     },
     "metadata": {},
     "output_type": "display_data"
    },
    {
     "name": "stdout",
     "output_type": "stream",
     "text": [
      "Now processing month  02 \n",
      "\n"
     ]
    },
    {
     "name": "stderr",
     "output_type": "stream",
     "text": [
      "2025-03-03 18:41:15,737 INFO [2024-09-26T00:00:00] Watch our [Forum](https://forum.ecmwf.int/) for Announcements, news and other discussed topics.\n",
      "2025-03-03 18:41:15,738 WARNING [2024-06-16T00:00:00] CDS API syntax is changed and some keys or parameter names may have also changed. To avoid requests failing, please use the \"Show API request code\" tool on the dataset Download Form to check you are using the correct syntax for your API request.\n",
      "2025-03-03 18:41:16,175 INFO Request ID is 4516d2f1-5b65-4107-b5b8-4ce4d95e348a\n",
      "2025-03-03 18:41:16,336 INFO status has been updated to accepted\n",
      "2025-03-03 18:41:25,142 INFO status has been updated to running\n",
      "2025-03-03 18:45:36,530 INFO status has been updated to successful\n"
     ]
    },
    {
     "data": {
      "application/vnd.jupyter.widget-view+json": {
       "model_id": "f32cb18bfec9432695ce7b6dc6dcb890",
       "version_major": 2,
       "version_minor": 0
      },
      "text/plain": [
       "18bd057dcbf50d7d98976cc045d62028.nc:   0%|          | 0.00/19.3M [00:00<?, ?B/s]"
      ]
     },
     "metadata": {},
     "output_type": "display_data"
    },
    {
     "name": "stdout",
     "output_type": "stream",
     "text": [
      "Now processing month  03 \n",
      "\n"
     ]
    },
    {
     "name": "stderr",
     "output_type": "stream",
     "text": [
      "2025-03-03 18:45:39,813 INFO [2024-09-26T00:00:00] Watch our [Forum](https://forum.ecmwf.int/) for Announcements, news and other discussed topics.\n",
      "2025-03-03 18:45:39,813 WARNING [2024-06-16T00:00:00] CDS API syntax is changed and some keys or parameter names may have also changed. To avoid requests failing, please use the \"Show API request code\" tool on the dataset Download Form to check you are using the correct syntax for your API request.\n",
      "2025-03-03 18:45:40,206 INFO Request ID is 34d46db0-4d01-40bd-b373-8162efa32401\n",
      "2025-03-03 18:45:40,364 INFO status has been updated to accepted\n",
      "2025-03-03 18:45:49,388 INFO status has been updated to running\n",
      "2025-03-03 18:52:02,740 INFO status has been updated to successful\n"
     ]
    },
    {
     "data": {
      "application/vnd.jupyter.widget-view+json": {
       "model_id": "260c24823bad44a9b4d6edd3745e2cf8",
       "version_major": 2,
       "version_minor": 0
      },
      "text/plain": [
       "322964381fe45a66af5c5413fbf5644a.nc:   0%|          | 0.00/23.3M [00:00<?, ?B/s]"
      ]
     },
     "metadata": {},
     "output_type": "display_data"
    },
    {
     "name": "stdout",
     "output_type": "stream",
     "text": [
      "Now processing month  04 \n",
      "\n"
     ]
    },
    {
     "name": "stderr",
     "output_type": "stream",
     "text": [
      "2025-03-03 18:52:11,330 INFO [2024-09-26T00:00:00] Watch our [Forum](https://forum.ecmwf.int/) for Announcements, news and other discussed topics.\n",
      "2025-03-03 18:52:11,331 WARNING [2024-06-16T00:00:00] CDS API syntax is changed and some keys or parameter names may have also changed. To avoid requests failing, please use the \"Show API request code\" tool on the dataset Download Form to check you are using the correct syntax for your API request.\n",
      "2025-03-03 18:52:11,722 INFO Request ID is 4d879f72-cb55-4254-aa16-5a72ef43d23c\n",
      "2025-03-03 18:52:11,883 INFO status has been updated to accepted\n",
      "2025-03-03 18:52:20,741 INFO status has been updated to running\n",
      "2025-03-03 18:58:32,697 INFO status has been updated to successful\n"
     ]
    },
    {
     "data": {
      "application/vnd.jupyter.widget-view+json": {
       "model_id": "698cd55310a549a59ac746617016f236",
       "version_major": 2,
       "version_minor": 0
      },
      "text/plain": [
       "9ae86c78223efe1a0ac750a2a221fc6d.nc:   0%|          | 0.00/21.7M [00:00<?, ?B/s]"
      ]
     },
     "metadata": {},
     "output_type": "display_data"
    },
    {
     "name": "stdout",
     "output_type": "stream",
     "text": [
      "Now processing month  05 \n",
      "\n"
     ]
    },
    {
     "name": "stderr",
     "output_type": "stream",
     "text": [
      "2025-03-03 18:58:55,948 INFO [2024-09-26T00:00:00] Watch our [Forum](https://forum.ecmwf.int/) for Announcements, news and other discussed topics.\n",
      "2025-03-03 18:58:55,949 WARNING [2024-06-16T00:00:00] CDS API syntax is changed and some keys or parameter names may have also changed. To avoid requests failing, please use the \"Show API request code\" tool on the dataset Download Form to check you are using the correct syntax for your API request.\n",
      "2025-03-03 18:58:56,566 INFO Request ID is 6e70abd1-da04-4fb4-b969-e4048d40ef03\n",
      "2025-03-03 18:58:56,721 INFO status has been updated to accepted\n",
      "2025-03-03 18:59:10,952 INFO status has been updated to running\n",
      "Recovering from connection error [HTTPSConnectionPool(host='cds.climate.copernicus.eu', port=443): Read timed out. (read timeout=60)], attemps 1 of 500\n",
      "Retrying in 120 seconds\n",
      "2025-03-03 20:16:37,571 INFO status has been updated to successful\n"
     ]
    },
    {
     "data": {
      "application/vnd.jupyter.widget-view+json": {
       "model_id": "d12050ce8620478eb7420de671999c85",
       "version_major": 2,
       "version_minor": 0
      },
      "text/plain": [
       "77351793564a16788bd9ff4ff003f15e.nc:   0%|          | 0.00/24.0M [00:00<?, ?B/s]"
      ]
     },
     "metadata": {},
     "output_type": "display_data"
    },
    {
     "name": "stdout",
     "output_type": "stream",
     "text": [
      "Now processing month  06 \n",
      "\n"
     ]
    },
    {
     "name": "stderr",
     "output_type": "stream",
     "text": [
      "2025-03-03 20:16:41,181 INFO [2024-09-26T00:00:00] Watch our [Forum](https://forum.ecmwf.int/) for Announcements, news and other discussed topics.\n",
      "2025-03-03 20:16:41,182 WARNING [2024-06-16T00:00:00] CDS API syntax is changed and some keys or parameter names may have also changed. To avoid requests failing, please use the \"Show API request code\" tool on the dataset Download Form to check you are using the correct syntax for your API request.\n",
      "2025-03-03 20:16:41,558 INFO Request ID is c5b24a83-481b-4e13-8662-3174a3cc8038\n",
      "2025-03-03 20:16:41,704 INFO status has been updated to accepted\n",
      "2025-03-03 20:16:55,758 INFO status has been updated to running\n",
      "Recovering from connection error [HTTPSConnectionPool(host='cds.climate.copernicus.eu', port=443): Read timed out. (read timeout=60)], attemps 1 of 500\n",
      "Retrying in 120 seconds\n",
      "2025-03-03 21:54:10,191 INFO status has been updated to successful\n"
     ]
    },
    {
     "data": {
      "application/vnd.jupyter.widget-view+json": {
       "model_id": "0b315e9b63c7460b83f625e8d568fe5d",
       "version_major": 2,
       "version_minor": 0
      },
      "text/plain": [
       "7f99b74ab25ed4e8b5c181262f90162b.nc:   0%|          | 0.00/21.1M [00:00<?, ?B/s]"
      ]
     },
     "metadata": {},
     "output_type": "display_data"
    },
    {
     "name": "stdout",
     "output_type": "stream",
     "text": [
      "Now processing month  07 \n",
      "\n"
     ]
    },
    {
     "name": "stderr",
     "output_type": "stream",
     "text": [
      "2025-03-03 21:54:13,686 INFO [2024-09-26T00:00:00] Watch our [Forum](https://forum.ecmwf.int/) for Announcements, news and other discussed topics.\n",
      "2025-03-03 21:54:13,687 WARNING [2024-06-16T00:00:00] CDS API syntax is changed and some keys or parameter names may have also changed. To avoid requests failing, please use the \"Show API request code\" tool on the dataset Download Form to check you are using the correct syntax for your API request.\n",
      "2025-03-03 21:54:14,053 INFO Request ID is aa63909b-dd55-4b50-9109-d97101407bb4\n",
      "2025-03-03 21:54:14,221 INFO status has been updated to accepted\n",
      "2025-03-03 21:54:23,021 INFO status has been updated to running\n",
      "Recovering from connection error [HTTPSConnectionPool(host='cds.climate.copernicus.eu', port=443): Read timed out. (read timeout=60)], attemps 1 of 500\n",
      "Retrying in 120 seconds\n",
      "2025-03-03 22:46:05,448 INFO status has been updated to successful\n"
     ]
    },
    {
     "data": {
      "application/vnd.jupyter.widget-view+json": {
       "model_id": "934ff6b4de3f400087592ed675baab83",
       "version_major": 2,
       "version_minor": 0
      },
      "text/plain": [
       "b5f4942e64b0f955a2a693d1e5bdbc64.nc:   0%|          | 0.00/22.9M [00:00<?, ?B/s]"
      ]
     },
     "metadata": {},
     "output_type": "display_data"
    },
    {
     "name": "stdout",
     "output_type": "stream",
     "text": [
      "Now processing month  08 \n",
      "\n"
     ]
    },
    {
     "name": "stderr",
     "output_type": "stream",
     "text": [
      "2025-03-03 22:46:15,545 INFO [2024-09-26T00:00:00] Watch our [Forum](https://forum.ecmwf.int/) for Announcements, news and other discussed topics.\n",
      "2025-03-03 22:46:15,547 WARNING [2024-06-16T00:00:00] CDS API syntax is changed and some keys or parameter names may have also changed. To avoid requests failing, please use the \"Show API request code\" tool on the dataset Download Form to check you are using the correct syntax for your API request.\n",
      "2025-03-03 22:46:15,927 INFO Request ID is 20adab3a-13d3-4718-9b95-1545745ac571\n",
      "2025-03-03 22:46:16,445 INFO status has been updated to accepted\n",
      "2025-03-03 22:46:21,698 INFO status has been updated to running\n",
      "Recovering from connection error [HTTPSConnectionPool(host='cds.climate.copernicus.eu', port=443): Read timed out. (read timeout=60)], attemps 1 of 500\n",
      "Retrying in 120 seconds\n",
      "2025-03-04 00:21:52,696 INFO status has been updated to successful\n"
     ]
    },
    {
     "data": {
      "application/vnd.jupyter.widget-view+json": {
       "model_id": "e6bc2de255b24d44b82a688b1ac10deb",
       "version_major": 2,
       "version_minor": 0
      },
      "text/plain": [
       "d4ff59b4ec3fda00d4074896dbcb7bc.nc:   0%|          | 0.00/23.8M [00:00<?, ?B/s]"
      ]
     },
     "metadata": {},
     "output_type": "display_data"
    },
    {
     "name": "stdout",
     "output_type": "stream",
     "text": [
      "Now processing month  09 \n",
      "\n"
     ]
    },
    {
     "name": "stderr",
     "output_type": "stream",
     "text": [
      "2025-03-04 00:22:07,044 INFO [2024-09-26T00:00:00] Watch our [Forum](https://forum.ecmwf.int/) for Announcements, news and other discussed topics.\n",
      "2025-03-04 00:22:07,059 WARNING [2024-06-16T00:00:00] CDS API syntax is changed and some keys or parameter names may have also changed. To avoid requests failing, please use the \"Show API request code\" tool on the dataset Download Form to check you are using the correct syntax for your API request.\n",
      "2025-03-04 00:22:07,433 INFO Request ID is 9e1dad3f-786e-4f36-8f48-a3d8b0e3d291\n",
      "2025-03-04 00:22:07,590 INFO status has been updated to accepted\n",
      "2025-03-04 00:22:16,404 INFO status has been updated to running\n",
      "Recovering from connection error [HTTPSConnectionPool(host='cds.climate.copernicus.eu', port=443): Read timed out. (read timeout=60)], attemps 1 of 500\n",
      "Retrying in 120 seconds\n",
      "2025-03-04 03:10:29,610 INFO status has been updated to successful\n"
     ]
    },
    {
     "data": {
      "application/vnd.jupyter.widget-view+json": {
       "model_id": "3d1ca201585140c6b40252677adf643f",
       "version_major": 2,
       "version_minor": 0
      },
      "text/plain": [
       "132b6164c0ca36daaf324f4207628ff0.nc:   0%|          | 0.00/21.7M [00:00<?, ?B/s]"
      ]
     },
     "metadata": {},
     "output_type": "display_data"
    },
    {
     "name": "stdout",
     "output_type": "stream",
     "text": [
      "Now processing month  10 \n",
      "\n"
     ]
    },
    {
     "name": "stderr",
     "output_type": "stream",
     "text": [
      "2025-03-04 03:10:33,344 INFO [2024-09-26T00:00:00] Watch our [Forum](https://forum.ecmwf.int/) for Announcements, news and other discussed topics.\n",
      "2025-03-04 03:10:33,344 WARNING [2024-06-16T00:00:00] CDS API syntax is changed and some keys or parameter names may have also changed. To avoid requests failing, please use the \"Show API request code\" tool on the dataset Download Form to check you are using the correct syntax for your API request.\n",
      "2025-03-04 03:10:33,702 INFO Request ID is 59d7b1b3-5a6c-4305-bec5-84d8a54588d2\n",
      "2025-03-04 03:10:33,859 INFO status has been updated to accepted\n",
      "2025-03-04 03:10:39,118 INFO status has been updated to running\n",
      "Recovering from connection error [HTTPSConnectionPool(host='cds.climate.copernicus.eu', port=443): Read timed out. (read timeout=60)], attemps 1 of 500\n",
      "Retrying in 120 seconds\n",
      "2025-03-04 04:48:49,216 INFO status has been updated to successful\n"
     ]
    },
    {
     "data": {
      "application/vnd.jupyter.widget-view+json": {
       "model_id": "a9b4fd82010141a8b465911b7149fb6f",
       "version_major": 2,
       "version_minor": 0
      },
      "text/plain": [
       "a555c239db00bc554d8244e8ad695672.nc:   0%|          | 0.00/23.1M [00:00<?, ?B/s]"
      ]
     },
     "metadata": {},
     "output_type": "display_data"
    },
    {
     "name": "stdout",
     "output_type": "stream",
     "text": [
      "Now processing month  11 \n",
      "\n"
     ]
    },
    {
     "name": "stderr",
     "output_type": "stream",
     "text": [
      "2025-03-04 04:48:53,323 INFO [2024-09-26T00:00:00] Watch our [Forum](https://forum.ecmwf.int/) for Announcements, news and other discussed topics.\n",
      "2025-03-04 04:48:53,324 WARNING [2024-06-16T00:00:00] CDS API syntax is changed and some keys or parameter names may have also changed. To avoid requests failing, please use the \"Show API request code\" tool on the dataset Download Form to check you are using the correct syntax for your API request.\n",
      "2025-03-04 04:48:53,679 INFO Request ID is 16f644ad-e849-4a58-8214-d2e620a096e4\n",
      "2025-03-04 04:48:53,848 INFO status has been updated to accepted\n",
      "2025-03-04 04:48:59,101 INFO status has been updated to running\n",
      "Recovering from connection error [HTTPSConnectionPool(host='cds.climate.copernicus.eu', port=443): Read timed out. (read timeout=60)], attemps 1 of 500\n",
      "Retrying in 120 seconds\n",
      "2025-03-04 06:27:39,088 INFO status has been updated to successful\n"
     ]
    },
    {
     "data": {
      "application/vnd.jupyter.widget-view+json": {
       "model_id": "ea0bc53ce4b14fc6931c6e4017473dc2",
       "version_major": 2,
       "version_minor": 0
      },
      "text/plain": [
       "2f4822e1cbe36b79a3992ad7f01f4214.nc:   0%|          | 0.00/21.3M [00:00<?, ?B/s]"
      ]
     },
     "metadata": {},
     "output_type": "display_data"
    },
    {
     "name": "stdout",
     "output_type": "stream",
     "text": [
      "Now processing month  12 \n",
      "\n"
     ]
    },
    {
     "name": "stderr",
     "output_type": "stream",
     "text": [
      "2025-03-04 06:27:49,122 INFO [2024-09-26T00:00:00] Watch our [Forum](https://forum.ecmwf.int/) for Announcements, news and other discussed topics.\n",
      "2025-03-04 06:27:49,123 WARNING [2024-06-16T00:00:00] CDS API syntax is changed and some keys or parameter names may have also changed. To avoid requests failing, please use the \"Show API request code\" tool on the dataset Download Form to check you are using the correct syntax for your API request.\n",
      "2025-03-04 06:27:49,516 INFO Request ID is 45635b7d-1128-402c-99ec-8a0ad7814c83\n",
      "2025-03-04 06:27:49,722 INFO status has been updated to accepted\n",
      "2025-03-04 06:27:55,019 INFO status has been updated to running\n",
      "2025-03-04 06:28:04,209 INFO status has been updated to accepted\n",
      "2025-03-04 06:28:12,005 INFO status has been updated to running\n",
      "Recovering from connection error [HTTPSConnectionPool(host='cds.climate.copernicus.eu', port=443): Read timed out. (read timeout=60)], attemps 1 of 500\n",
      "Retrying in 120 seconds\n",
      "2025-03-04 08:01:27,064 INFO status has been updated to successful\n"
     ]
    },
    {
     "data": {
      "application/vnd.jupyter.widget-view+json": {
       "model_id": "cdb69efbd04542039c06314d43d8d306",
       "version_major": 2,
       "version_minor": 0
      },
      "text/plain": [
       "4bd60f841fa47583f79fc66a8401d0ad.nc:   0%|          | 0.00/22.7M [00:00<?, ?B/s]"
      ]
     },
     "metadata": {},
     "output_type": "display_data"
    },
    {
     "name": "stdout",
     "output_type": "stream",
     "text": [
      "Now processing year  2004 \n",
      "\n",
      "Now processing month  01 \n",
      "\n"
     ]
    },
    {
     "name": "stderr",
     "output_type": "stream",
     "text": [
      "2025-03-04 08:01:32,319 INFO [2024-09-26T00:00:00] Watch our [Forum](https://forum.ecmwf.int/) for Announcements, news and other discussed topics.\n",
      "2025-03-04 08:01:32,320 WARNING [2024-06-16T00:00:00] CDS API syntax is changed and some keys or parameter names may have also changed. To avoid requests failing, please use the \"Show API request code\" tool on the dataset Download Form to check you are using the correct syntax for your API request.\n",
      "2025-03-04 08:01:33,516 INFO Request ID is bb759952-18b4-48d9-8d0e-954362686a6a\n",
      "2025-03-04 08:01:33,677 INFO status has been updated to accepted\n",
      "2025-03-04 08:01:38,967 INFO status has been updated to running\n",
      "Recovering from connection error [HTTPSConnectionPool(host='cds.climate.copernicus.eu', port=443): Read timed out. (read timeout=60)], attemps 1 of 500\n",
      "Retrying in 120 seconds\n",
      "2025-03-04 09:38:12,083 INFO status has been updated to successful\n"
     ]
    },
    {
     "data": {
      "application/vnd.jupyter.widget-view+json": {
       "model_id": "533c3b3733754da480da0f570e6c9a0d",
       "version_major": 2,
       "version_minor": 0
      },
      "text/plain": [
       "d4f4e4aeb1a9248692853a5c3efbf89.nc:   0%|          | 0.00/23.5M [00:00<?, ?B/s]"
      ]
     },
     "metadata": {},
     "output_type": "display_data"
    },
    {
     "name": "stderr",
     "output_type": "stream",
     "text": [
      "Recovering from connection error [HTTPSConnectionPool(host='object-store.os-api.cci2.ecmwf.int', port=443): Read timed out.], attemps 1 of 500\n",
      "Retrying in 120 seconds\n"
     ]
    },
    {
     "data": {
      "application/vnd.jupyter.widget-view+json": {
       "model_id": "df70a07129dc4c81ac58a29561de8df5",
       "version_major": 2,
       "version_minor": 0
      },
      "text/plain": [
       "d4f4e4aeb1a9248692853a5c3efbf89.nc:   0%|          | 0.00/23.5M [00:00<?, ?B/s]"
      ]
     },
     "metadata": {},
     "output_type": "display_data"
    },
    {
     "name": "stdout",
     "output_type": "stream",
     "text": [
      "Now processing month  02 \n",
      "\n"
     ]
    },
    {
     "name": "stderr",
     "output_type": "stream",
     "text": [
      "2025-03-04 09:47:43,625 INFO [2024-09-26T00:00:00] Watch our [Forum](https://forum.ecmwf.int/) for Announcements, news and other discussed topics.\n",
      "2025-03-04 09:47:43,626 WARNING [2024-06-16T00:00:00] CDS API syntax is changed and some keys or parameter names may have also changed. To avoid requests failing, please use the \"Show API request code\" tool on the dataset Download Form to check you are using the correct syntax for your API request.\n",
      "2025-03-04 09:47:43,900 INFO Request ID is e3420e1c-4f8d-4251-964c-2e001a220819\n",
      "2025-03-04 09:47:44,024 INFO status has been updated to accepted\n",
      "2025-03-04 09:47:49,179 INFO status has been updated to running\n",
      "2025-03-04 09:54:04,081 INFO status has been updated to successful\n"
     ]
    },
    {
     "data": {
      "application/vnd.jupyter.widget-view+json": {
       "model_id": "fa56954c3f7647279dd7914b28b0a6bc",
       "version_major": 2,
       "version_minor": 0
      },
      "text/plain": [
       "6e51aaba6e9e394aec2c472dba256e72.nc:   0%|          | 0.00/20.3M [00:00<?, ?B/s]"
      ]
     },
     "metadata": {},
     "output_type": "display_data"
    },
    {
     "name": "stdout",
     "output_type": "stream",
     "text": [
      "Now processing month  03 \n",
      "\n"
     ]
    },
    {
     "name": "stderr",
     "output_type": "stream",
     "text": [
      "2025-03-04 09:54:10,509 INFO [2024-09-26T00:00:00] Watch our [Forum](https://forum.ecmwf.int/) for Announcements, news and other discussed topics.\n",
      "2025-03-04 09:54:10,510 WARNING [2024-06-16T00:00:00] CDS API syntax is changed and some keys or parameter names may have also changed. To avoid requests failing, please use the \"Show API request code\" tool on the dataset Download Form to check you are using the correct syntax for your API request.\n",
      "2025-03-04 09:54:10,838 INFO Request ID is beb2cc9b-50ba-4385-885a-74f82cd85646\n",
      "2025-03-04 09:54:11,012 INFO status has been updated to accepted\n",
      "2025-03-04 09:54:16,257 INFO status has been updated to running\n",
      "2025-03-04 10:02:32,275 INFO status has been updated to successful\n"
     ]
    },
    {
     "data": {
      "application/vnd.jupyter.widget-view+json": {
       "model_id": "c2b9d4e5be4149cea9197ed0d9720794",
       "version_major": 2,
       "version_minor": 0
      },
      "text/plain": [
       "577113643e225204be90c7d41e3255c1.nc:   0%|          | 0.00/22.9M [00:00<?, ?B/s]"
      ]
     },
     "metadata": {},
     "output_type": "display_data"
    },
    {
     "name": "stdout",
     "output_type": "stream",
     "text": [
      "Now processing month  04 \n",
      "\n"
     ]
    },
    {
     "name": "stderr",
     "output_type": "stream",
     "text": [
      "2025-03-04 10:02:36,182 INFO [2024-09-26T00:00:00] Watch our [Forum](https://forum.ecmwf.int/) for Announcements, news and other discussed topics.\n",
      "2025-03-04 10:02:36,183 WARNING [2024-06-16T00:00:00] CDS API syntax is changed and some keys or parameter names may have also changed. To avoid requests failing, please use the \"Show API request code\" tool on the dataset Download Form to check you are using the correct syntax for your API request.\n",
      "2025-03-04 10:02:36,590 INFO Request ID is 0485dce7-9b91-4e4d-b46a-57c9dcb2acca\n",
      "2025-03-04 10:02:36,721 INFO status has been updated to accepted\n",
      "2025-03-04 10:02:45,458 INFO status has been updated to running\n",
      "2025-03-04 10:08:57,057 INFO status has been updated to successful\n"
     ]
    },
    {
     "data": {
      "application/vnd.jupyter.widget-view+json": {
       "model_id": "e2ff17238ba0422d98e9c9e1be546d8d",
       "version_major": 2,
       "version_minor": 0
      },
      "text/plain": [
       "b15d5bde5ff8d58b65a653eb30e811bc.nc:   0%|          | 0.00/20.4M [00:00<?, ?B/s]"
      ]
     },
     "metadata": {},
     "output_type": "display_data"
    },
    {
     "name": "stdout",
     "output_type": "stream",
     "text": [
      "Now processing month  05 \n",
      "\n"
     ]
    },
    {
     "name": "stderr",
     "output_type": "stream",
     "text": [
      "2025-03-04 10:09:02,921 INFO [2024-09-26T00:00:00] Watch our [Forum](https://forum.ecmwf.int/) for Announcements, news and other discussed topics.\n",
      "2025-03-04 10:09:02,922 WARNING [2024-06-16T00:00:00] CDS API syntax is changed and some keys or parameter names may have also changed. To avoid requests failing, please use the \"Show API request code\" tool on the dataset Download Form to check you are using the correct syntax for your API request.\n",
      "2025-03-04 10:09:03,198 INFO Request ID is 6ee8d338-0f4e-4f05-a394-18607c0edb9d\n",
      "2025-03-04 10:09:03,336 INFO status has been updated to accepted\n",
      "2025-03-04 10:09:18,215 INFO status has been updated to running\n",
      "2025-03-04 10:15:24,462 INFO status has been updated to successful\n"
     ]
    },
    {
     "data": {
      "application/vnd.jupyter.widget-view+json": {
       "model_id": "9b4cacabfd754e16bb3ce53862f473b0",
       "version_major": 2,
       "version_minor": 0
      },
      "text/plain": [
       "e9d63b8d3e4766add5c9adda544ffb77.nc:   0%|          | 0.00/22.9M [00:00<?, ?B/s]"
      ]
     },
     "metadata": {},
     "output_type": "display_data"
    },
    {
     "name": "stdout",
     "output_type": "stream",
     "text": [
      "Now processing month  06 \n",
      "\n"
     ]
    },
    {
     "name": "stderr",
     "output_type": "stream",
     "text": [
      "2025-03-04 10:15:29,851 INFO [2024-09-26T00:00:00] Watch our [Forum](https://forum.ecmwf.int/) for Announcements, news and other discussed topics.\n",
      "2025-03-04 10:15:29,852 WARNING [2024-06-16T00:00:00] CDS API syntax is changed and some keys or parameter names may have also changed. To avoid requests failing, please use the \"Show API request code\" tool on the dataset Download Form to check you are using the correct syntax for your API request.\n",
      "2025-03-04 10:15:30,148 INFO Request ID is ad2bfc81-e9d2-4a1b-bb03-eee097b8ebff\n",
      "2025-03-04 10:15:30,286 INFO status has been updated to accepted\n",
      "2025-03-04 10:15:35,440 INFO status has been updated to running\n",
      "2025-03-04 10:21:50,350 INFO status has been updated to successful\n"
     ]
    },
    {
     "data": {
      "application/vnd.jupyter.widget-view+json": {
       "model_id": "2292fc2f3e9548ac93d018112cc55464",
       "version_major": 2,
       "version_minor": 0
      },
      "text/plain": [
       "d4e93dc9a851bdcd8ae7c4f4fa7b61d9.nc:   0%|          | 0.00/20.3M [00:00<?, ?B/s]"
      ]
     },
     "metadata": {},
     "output_type": "display_data"
    },
    {
     "name": "stdout",
     "output_type": "stream",
     "text": [
      "Now processing month  07 \n",
      "\n"
     ]
    },
    {
     "name": "stderr",
     "output_type": "stream",
     "text": [
      "2025-03-04 10:21:56,973 INFO [2024-09-26T00:00:00] Watch our [Forum](https://forum.ecmwf.int/) for Announcements, news and other discussed topics.\n",
      "2025-03-04 10:21:56,974 WARNING [2024-06-16T00:00:00] CDS API syntax is changed and some keys or parameter names may have also changed. To avoid requests failing, please use the \"Show API request code\" tool on the dataset Download Form to check you are using the correct syntax for your API request.\n",
      "2025-03-04 10:21:57,348 INFO Request ID is 93a6680d-baa9-49e7-9a29-4224f5e24de2\n",
      "2025-03-04 10:21:57,495 INFO status has been updated to accepted\n",
      "2025-03-04 10:22:02,865 INFO status has been updated to running\n",
      "2025-03-04 10:22:11,652 INFO status has been updated to accepted\n",
      "2025-03-04 10:22:19,406 INFO status has been updated to running\n",
      "2025-03-04 10:28:17,758 INFO status has been updated to successful\n"
     ]
    },
    {
     "data": {
      "application/vnd.jupyter.widget-view+json": {
       "model_id": "c72b83f0e0184bdbae2c7aa07950d9d2",
       "version_major": 2,
       "version_minor": 0
      },
      "text/plain": [
       "75ff3e1ccd6f92b7d8c8dbdd7d4ae92d.nc:   0%|          | 0.00/23.5M [00:00<?, ?B/s]"
      ]
     },
     "metadata": {},
     "output_type": "display_data"
    },
    {
     "name": "stdout",
     "output_type": "stream",
     "text": [
      "Now processing month  08 \n",
      "\n"
     ]
    },
    {
     "name": "stderr",
     "output_type": "stream",
     "text": [
      "2025-03-04 10:28:24,118 INFO [2024-09-26T00:00:00] Watch our [Forum](https://forum.ecmwf.int/) for Announcements, news and other discussed topics.\n",
      "2025-03-04 10:28:24,119 WARNING [2024-06-16T00:00:00] CDS API syntax is changed and some keys or parameter names may have also changed. To avoid requests failing, please use the \"Show API request code\" tool on the dataset Download Form to check you are using the correct syntax for your API request.\n",
      "2025-03-04 10:28:24,440 INFO Request ID is a70f92e0-ec80-493a-8b6a-41fa00b00119\n",
      "2025-03-04 10:28:24,574 INFO status has been updated to accepted\n",
      "2025-03-04 10:28:33,356 INFO status has been updated to running\n",
      "2025-03-04 10:34:44,894 INFO status has been updated to successful\n"
     ]
    },
    {
     "data": {
      "application/vnd.jupyter.widget-view+json": {
       "model_id": "36db07a5c15b40c1bfca3f9ad39fbd72",
       "version_major": 2,
       "version_minor": 0
      },
      "text/plain": [
       "4a6b2d7d1cb2482b423c99751d84a34d.nc:   0%|          | 0.00/23.7M [00:00<?, ?B/s]"
      ]
     },
     "metadata": {},
     "output_type": "display_data"
    },
    {
     "name": "stdout",
     "output_type": "stream",
     "text": [
      "Now processing month  09 \n",
      "\n"
     ]
    },
    {
     "name": "stderr",
     "output_type": "stream",
     "text": [
      "2025-03-04 10:34:48,913 INFO [2024-09-26T00:00:00] Watch our [Forum](https://forum.ecmwf.int/) for Announcements, news and other discussed topics.\n",
      "2025-03-04 10:34:48,913 WARNING [2024-06-16T00:00:00] CDS API syntax is changed and some keys or parameter names may have also changed. To avoid requests failing, please use the \"Show API request code\" tool on the dataset Download Form to check you are using the correct syntax for your API request.\n",
      "2025-03-04 10:34:49,247 INFO Request ID is 8462b2cd-cd64-4afb-a331-929d6c36b6d3\n",
      "2025-03-04 10:34:49,385 INFO status has been updated to accepted\n",
      "2025-03-04 10:35:03,181 INFO status has been updated to running\n",
      "2025-03-04 10:41:09,230 INFO status has been updated to successful\n"
     ]
    },
    {
     "data": {
      "application/vnd.jupyter.widget-view+json": {
       "model_id": "3b3d2a0de5f6442aae1c18c71a992953",
       "version_major": 2,
       "version_minor": 0
      },
      "text/plain": [
       "6b2313ffa46bdca1e1b8a0272157602c.nc:   0%|          | 0.00/20.4M [00:00<?, ?B/s]"
      ]
     },
     "metadata": {},
     "output_type": "display_data"
    },
    {
     "name": "stdout",
     "output_type": "stream",
     "text": [
      "Now processing month  10 \n",
      "\n"
     ]
    },
    {
     "name": "stderr",
     "output_type": "stream",
     "text": [
      "2025-03-04 10:41:18,443 INFO [2024-09-26T00:00:00] Watch our [Forum](https://forum.ecmwf.int/) for Announcements, news and other discussed topics.\n",
      "2025-03-04 10:41:18,443 WARNING [2024-06-16T00:00:00] CDS API syntax is changed and some keys or parameter names may have also changed. To avoid requests failing, please use the \"Show API request code\" tool on the dataset Download Form to check you are using the correct syntax for your API request.\n",
      "2025-03-04 10:41:18,803 INFO Request ID is 9c4e4872-cc6d-4c69-b5e5-5e9611545f92\n",
      "2025-03-04 10:41:18,955 INFO status has been updated to accepted\n",
      "2025-03-04 10:41:27,708 INFO status has been updated to running\n",
      "2025-03-04 10:47:40,234 INFO status has been updated to successful\n"
     ]
    },
    {
     "data": {
      "application/vnd.jupyter.widget-view+json": {
       "model_id": "34ea4423541646c48f00affdebd94030",
       "version_major": 2,
       "version_minor": 0
      },
      "text/plain": [
       "e69b8907411d58169a4757de7beb788c.nc:   0%|          | 0.00/22.9M [00:00<?, ?B/s]"
      ]
     },
     "metadata": {},
     "output_type": "display_data"
    },
    {
     "name": "stdout",
     "output_type": "stream",
     "text": [
      "Now processing month  11 \n",
      "\n"
     ]
    },
    {
     "name": "stderr",
     "output_type": "stream",
     "text": [
      "2025-03-04 10:47:46,398 INFO [2024-09-26T00:00:00] Watch our [Forum](https://forum.ecmwf.int/) for Announcements, news and other discussed topics.\n",
      "2025-03-04 10:47:46,399 WARNING [2024-06-16T00:00:00] CDS API syntax is changed and some keys or parameter names may have also changed. To avoid requests failing, please use the \"Show API request code\" tool on the dataset Download Form to check you are using the correct syntax for your API request.\n",
      "2025-03-04 10:47:46,722 INFO Request ID is f9da7b12-259e-4213-ad8f-b09b805176a3\n",
      "2025-03-04 10:47:46,844 INFO status has been updated to accepted\n",
      "2025-03-04 10:48:08,549 INFO status has been updated to running\n",
      "2025-03-04 10:54:06,935 INFO status has been updated to successful\n"
     ]
    },
    {
     "data": {
      "application/vnd.jupyter.widget-view+json": {
       "model_id": "55f246a97b1f4d618acf2cc93904ec42",
       "version_major": 2,
       "version_minor": 0
      },
      "text/plain": [
       "fba17f50666c361d8f4774e5e8c3d6aa.nc:   0%|          | 0.00/21.1M [00:00<?, ?B/s]"
      ]
     },
     "metadata": {},
     "output_type": "display_data"
    },
    {
     "name": "stdout",
     "output_type": "stream",
     "text": [
      "Now processing month  12 \n",
      "\n"
     ]
    },
    {
     "name": "stderr",
     "output_type": "stream",
     "text": [
      "2025-03-04 10:54:12,500 INFO [2024-09-26T00:00:00] Watch our [Forum](https://forum.ecmwf.int/) for Announcements, news and other discussed topics.\n",
      "2025-03-04 10:54:12,501 WARNING [2024-06-16T00:00:00] CDS API syntax is changed and some keys or parameter names may have also changed. To avoid requests failing, please use the \"Show API request code\" tool on the dataset Download Form to check you are using the correct syntax for your API request.\n",
      "2025-03-04 10:54:12,796 INFO Request ID is 5d529887-5804-4e3e-8bfb-2a1a936f531e\n",
      "2025-03-04 10:54:13,007 INFO status has been updated to accepted\n",
      "2025-03-04 10:54:18,251 INFO status has been updated to running\n",
      "2025-03-04 11:00:33,100 INFO status has been updated to successful\n"
     ]
    },
    {
     "data": {
      "application/vnd.jupyter.widget-view+json": {
       "model_id": "9e54feb461444e8db65691c61e98104b",
       "version_major": 2,
       "version_minor": 0
      },
      "text/plain": [
       "3e0cb42efea037099b66d46828f8d149.nc:   0%|          | 0.00/23.3M [00:00<?, ?B/s]"
      ]
     },
     "metadata": {},
     "output_type": "display_data"
    },
    {
     "name": "stdout",
     "output_type": "stream",
     "text": [
      "Now processing year  2005 \n",
      "\n",
      "Now processing month  01 \n",
      "\n"
     ]
    },
    {
     "name": "stderr",
     "output_type": "stream",
     "text": [
      "2025-03-04 11:00:37,145 INFO [2024-09-26T00:00:00] Watch our [Forum](https://forum.ecmwf.int/) for Announcements, news and other discussed topics.\n",
      "2025-03-04 11:00:37,146 WARNING [2024-06-16T00:00:00] CDS API syntax is changed and some keys or parameter names may have also changed. To avoid requests failing, please use the \"Show API request code\" tool on the dataset Download Form to check you are using the correct syntax for your API request.\n",
      "2025-03-04 11:00:37,503 INFO Request ID is a40e8775-d8b4-499e-baa7-f564cd05123c\n",
      "2025-03-04 11:00:37,635 INFO status has been updated to accepted\n",
      "2025-03-04 11:00:46,318 INFO status has been updated to running\n",
      "2025-03-04 11:06:57,519 INFO status has been updated to successful\n"
     ]
    },
    {
     "data": {
      "application/vnd.jupyter.widget-view+json": {
       "model_id": "2d344154229a474088606f9c4cf1f4f1",
       "version_major": 2,
       "version_minor": 0
      },
      "text/plain": [
       "100dc6b3e4ef04c0b33734cde7d11ca5.nc:   0%|          | 0.00/23.5M [00:00<?, ?B/s]"
      ]
     },
     "metadata": {},
     "output_type": "display_data"
    },
    {
     "name": "stdout",
     "output_type": "stream",
     "text": [
      "Now processing month  02 \n",
      "\n"
     ]
    },
    {
     "name": "stderr",
     "output_type": "stream",
     "text": [
      "2025-03-04 11:07:01,610 INFO [2024-09-26T00:00:00] Watch our [Forum](https://forum.ecmwf.int/) for Announcements, news and other discussed topics.\n",
      "2025-03-04 11:07:01,611 WARNING [2024-06-16T00:00:00] CDS API syntax is changed and some keys or parameter names may have also changed. To avoid requests failing, please use the \"Show API request code\" tool on the dataset Download Form to check you are using the correct syntax for your API request.\n",
      "2025-03-04 11:07:02,019 INFO Request ID is 03fdd916-29b5-4d4e-923f-19e3bd66bca1\n",
      "2025-03-04 11:07:02,130 INFO status has been updated to accepted\n",
      "2025-03-04 11:07:23,700 INFO status has been updated to running\n",
      "2025-03-04 11:13:22,011 INFO status has been updated to successful\n"
     ]
    },
    {
     "data": {
      "application/vnd.jupyter.widget-view+json": {
       "model_id": "2c200dfce4eb4b198bc9702243b38ebe",
       "version_major": 2,
       "version_minor": 0
      },
      "text/plain": [
       "82f6b0ec92e3083461af35420a4356b9.nc:   0%|          | 0.00/19.6M [00:00<?, ?B/s]"
      ]
     },
     "metadata": {},
     "output_type": "display_data"
    },
    {
     "name": "stdout",
     "output_type": "stream",
     "text": [
      "Now processing month  03 \n",
      "\n"
     ]
    },
    {
     "name": "stderr",
     "output_type": "stream",
     "text": [
      "2025-03-04 11:13:26,175 INFO [2024-09-26T00:00:00] Watch our [Forum](https://forum.ecmwf.int/) for Announcements, news and other discussed topics.\n",
      "2025-03-04 11:13:26,176 WARNING [2024-06-16T00:00:00] CDS API syntax is changed and some keys or parameter names may have also changed. To avoid requests failing, please use the \"Show API request code\" tool on the dataset Download Form to check you are using the correct syntax for your API request.\n",
      "2025-03-04 11:13:26,462 INFO Request ID is dcf86bd8-5951-47eb-833b-f9971bf3f587\n",
      "2025-03-04 11:13:26,587 INFO status has been updated to accepted\n",
      "2025-03-04 11:13:31,737 INFO status has been updated to running\n",
      "2025-03-04 11:19:46,761 INFO status has been updated to successful\n"
     ]
    },
    {
     "data": {
      "application/vnd.jupyter.widget-view+json": {
       "model_id": "1e2e1d634e974b338c61a56e7110f1b0",
       "version_major": 2,
       "version_minor": 0
      },
      "text/plain": [
       "5ca6b0c8145b049c15ae44413de55d25.nc:   0%|          | 0.00/22.8M [00:00<?, ?B/s]"
      ]
     },
     "metadata": {},
     "output_type": "display_data"
    },
    {
     "name": "stdout",
     "output_type": "stream",
     "text": [
      "Now processing month  04 \n",
      "\n"
     ]
    },
    {
     "name": "stderr",
     "output_type": "stream",
     "text": [
      "2025-03-04 11:19:53,689 INFO [2024-09-26T00:00:00] Watch our [Forum](https://forum.ecmwf.int/) for Announcements, news and other discussed topics.\n",
      "2025-03-04 11:19:53,690 WARNING [2024-06-16T00:00:00] CDS API syntax is changed and some keys or parameter names may have also changed. To avoid requests failing, please use the \"Show API request code\" tool on the dataset Download Form to check you are using the correct syntax for your API request.\n",
      "2025-03-04 11:19:54,001 INFO Request ID is 005fbc44-a1d1-4b23-ad05-0cd81f88ffea\n",
      "2025-03-04 11:19:54,132 INFO status has been updated to accepted\n",
      "2025-03-04 11:20:27,373 INFO status has been updated to running\n",
      "2025-03-04 11:32:15,333 INFO status has been updated to successful\n"
     ]
    },
    {
     "data": {
      "application/vnd.jupyter.widget-view+json": {
       "model_id": "f89ee9a22fc045df89f9831224d0fc6a",
       "version_major": 2,
       "version_minor": 0
      },
      "text/plain": [
       "ffc02554880287503940142e8a510d4a.nc:   0%|          | 0.00/21.0M [00:00<?, ?B/s]"
      ]
     },
     "metadata": {},
     "output_type": "display_data"
    },
    {
     "name": "stdout",
     "output_type": "stream",
     "text": [
      "Now processing month  05 \n",
      "\n"
     ]
    },
    {
     "name": "stderr",
     "output_type": "stream",
     "text": [
      "2025-03-04 11:32:19,220 INFO [2024-09-26T00:00:00] Watch our [Forum](https://forum.ecmwf.int/) for Announcements, news and other discussed topics.\n",
      "2025-03-04 11:32:19,222 WARNING [2024-06-16T00:00:00] CDS API syntax is changed and some keys or parameter names may have also changed. To avoid requests failing, please use the \"Show API request code\" tool on the dataset Download Form to check you are using the correct syntax for your API request.\n",
      "2025-03-04 11:32:19,570 INFO Request ID is 6bb5e9c7-9b29-41ea-a109-389b8d991ac0\n",
      "2025-03-04 11:32:19,744 INFO status has been updated to accepted\n",
      "2025-03-04 11:42:40,683 INFO status has been updated to running\n",
      "2025-03-04 11:48:41,817 INFO status has been updated to successful\n"
     ]
    },
    {
     "data": {
      "application/vnd.jupyter.widget-view+json": {
       "model_id": "ec52c053bfae4146b2017cd88a36c584",
       "version_major": 2,
       "version_minor": 0
      },
      "text/plain": [
       "8f252a394e01bee76c3963e6dd84b52e.nc:   0%|          | 0.00/21.9M [00:00<?, ?B/s]"
      ]
     },
     "metadata": {},
     "output_type": "display_data"
    },
    {
     "name": "stdout",
     "output_type": "stream",
     "text": [
      "Now processing month  06 \n",
      "\n"
     ]
    },
    {
     "name": "stderr",
     "output_type": "stream",
     "text": [
      "2025-03-04 11:48:47,592 INFO [2024-09-26T00:00:00] Watch our [Forum](https://forum.ecmwf.int/) for Announcements, news and other discussed topics.\n",
      "2025-03-04 11:48:47,592 WARNING [2024-06-16T00:00:00] CDS API syntax is changed and some keys or parameter names may have also changed. To avoid requests failing, please use the \"Show API request code\" tool on the dataset Download Form to check you are using the correct syntax for your API request.\n",
      "2025-03-04 11:48:47,914 INFO Request ID is 724fe9e0-d76b-42ba-8c5a-f38589b1efeb\n",
      "2025-03-04 11:48:48,047 INFO status has been updated to accepted\n",
      "2025-03-04 12:09:12,266 INFO status has been updated to running\n",
      "2025-03-04 12:15:13,455 INFO status has been updated to successful\n"
     ]
    },
    {
     "data": {
      "application/vnd.jupyter.widget-view+json": {
       "model_id": "b249ff9061424656a32e48f2c035e6cf",
       "version_major": 2,
       "version_minor": 0
      },
      "text/plain": [
       "17d0d4b440635e196965c85a437e0f98.nc:   0%|          | 0.00/20.3M [00:00<?, ?B/s]"
      ]
     },
     "metadata": {},
     "output_type": "display_data"
    },
    {
     "name": "stdout",
     "output_type": "stream",
     "text": [
      "Now processing month  07 \n",
      "\n"
     ]
    },
    {
     "name": "stderr",
     "output_type": "stream",
     "text": [
      "2025-03-04 12:15:19,513 INFO [2024-09-26T00:00:00] Watch our [Forum](https://forum.ecmwf.int/) for Announcements, news and other discussed topics.\n",
      "2025-03-04 12:15:19,514 WARNING [2024-06-16T00:00:00] CDS API syntax is changed and some keys or parameter names may have also changed. To avoid requests failing, please use the \"Show API request code\" tool on the dataset Download Form to check you are using the correct syntax for your API request.\n",
      "2025-03-04 12:15:19,816 INFO Request ID is 3a4657cf-d697-48da-83ea-d110a50fd5e3\n",
      "2025-03-04 12:15:19,949 INFO status has been updated to accepted\n",
      "2025-03-04 12:27:41,331 INFO status has been updated to running\n",
      "2025-03-04 12:33:43,172 INFO status has been updated to successful\n"
     ]
    },
    {
     "data": {
      "application/vnd.jupyter.widget-view+json": {
       "model_id": "c073ea87e29942e29837603c9b4f5fa5",
       "version_major": 2,
       "version_minor": 0
      },
      "text/plain": [
       "3462d7892fbf021e487d38ff00ea729f.nc:   0%|          | 0.00/22.2M [00:00<?, ?B/s]"
      ]
     },
     "metadata": {},
     "output_type": "display_data"
    },
    {
     "name": "stdout",
     "output_type": "stream",
     "text": [
      "Now processing month  08 \n",
      "\n"
     ]
    },
    {
     "name": "stderr",
     "output_type": "stream",
     "text": [
      "2025-03-04 12:33:53,005 INFO [2024-09-26T00:00:00] Watch our [Forum](https://forum.ecmwf.int/) for Announcements, news and other discussed topics.\n",
      "2025-03-04 12:33:53,006 WARNING [2024-06-16T00:00:00] CDS API syntax is changed and some keys or parameter names may have also changed. To avoid requests failing, please use the \"Show API request code\" tool on the dataset Download Form to check you are using the correct syntax for your API request.\n",
      "2025-03-04 12:33:53,308 INFO Request ID is d92c960f-bf32-43f7-becb-1a8c2023442a\n",
      "2025-03-04 12:33:53,430 INFO status has been updated to accepted\n",
      "2025-03-04 12:40:13,337 INFO status has been updated to running\n",
      "2025-03-04 12:46:14,388 INFO status has been updated to successful\n"
     ]
    },
    {
     "data": {
      "application/vnd.jupyter.widget-view+json": {
       "model_id": "0e6ba7333efe4c998c402113e72275ac",
       "version_major": 2,
       "version_minor": 0
      },
      "text/plain": [
       "6f115164f9f9eb7585681eea3410cc27.nc:   0%|          | 0.00/23.8M [00:00<?, ?B/s]"
      ]
     },
     "metadata": {},
     "output_type": "display_data"
    },
    {
     "name": "stdout",
     "output_type": "stream",
     "text": [
      "Now processing month  09 \n",
      "\n"
     ]
    },
    {
     "name": "stderr",
     "output_type": "stream",
     "text": [
      "2025-03-04 12:47:32,769 INFO [2024-09-26T00:00:00] Watch our [Forum](https://forum.ecmwf.int/) for Announcements, news and other discussed topics.\n",
      "2025-03-04 12:47:32,770 WARNING [2024-06-16T00:00:00] CDS API syntax is changed and some keys or parameter names may have also changed. To avoid requests failing, please use the \"Show API request code\" tool on the dataset Download Form to check you are using the correct syntax for your API request.\n",
      "2025-03-04 12:47:33,094 INFO Request ID is a128253d-b7b4-4b64-8a56-de57091c5433\n",
      "2025-03-04 12:47:33,525 INFO status has been updated to accepted\n",
      "2025-03-04 12:47:42,430 INFO status has been updated to running\n",
      "2025-03-04 12:53:54,370 INFO status has been updated to successful\n"
     ]
    },
    {
     "data": {
      "application/vnd.jupyter.widget-view+json": {
       "model_id": "3c50aa5591ea400fa4f134699660d760",
       "version_major": 2,
       "version_minor": 0
      },
      "text/plain": [
       "a4366d50b0870de70d4c225f8b69a97.nc:   0%|          | 0.00/21.5M [00:00<?, ?B/s]"
      ]
     },
     "metadata": {},
     "output_type": "display_data"
    },
    {
     "name": "stdout",
     "output_type": "stream",
     "text": [
      "Now processing month  10 \n",
      "\n"
     ]
    },
    {
     "name": "stderr",
     "output_type": "stream",
     "text": [
      "2025-03-04 12:54:02,725 INFO [2024-09-26T00:00:00] Watch our [Forum](https://forum.ecmwf.int/) for Announcements, news and other discussed topics.\n",
      "2025-03-04 12:54:02,725 WARNING [2024-06-16T00:00:00] CDS API syntax is changed and some keys or parameter names may have also changed. To avoid requests failing, please use the \"Show API request code\" tool on the dataset Download Form to check you are using the correct syntax for your API request.\n",
      "2025-03-04 12:54:03,069 INFO Request ID is 6587609e-a8d7-4dde-a82d-5869f63c94a0\n",
      "2025-03-04 12:54:03,186 INFO status has been updated to accepted\n",
      "2025-03-04 12:54:24,878 INFO status has been updated to running\n",
      "2025-03-04 13:02:24,112 INFO status has been updated to successful\n"
     ]
    },
    {
     "data": {
      "application/vnd.jupyter.widget-view+json": {
       "model_id": "ba6b1efbea5849a6a61ec6fab07ba109",
       "version_major": 2,
       "version_minor": 0
      },
      "text/plain": [
       "5bec83b48bd3580b8b513169027b6201.nc:   0%|          | 0.00/23.3M [00:00<?, ?B/s]"
      ]
     },
     "metadata": {},
     "output_type": "display_data"
    },
    {
     "name": "stdout",
     "output_type": "stream",
     "text": [
      "Now processing month  11 \n",
      "\n"
     ]
    },
    {
     "name": "stderr",
     "output_type": "stream",
     "text": [
      "2025-03-04 13:02:33,128 INFO [2024-09-26T00:00:00] Watch our [Forum](https://forum.ecmwf.int/) for Announcements, news and other discussed topics.\n",
      "2025-03-04 13:02:33,129 WARNING [2024-06-16T00:00:00] CDS API syntax is changed and some keys or parameter names may have also changed. To avoid requests failing, please use the \"Show API request code\" tool on the dataset Download Form to check you are using the correct syntax for your API request.\n",
      "2025-03-04 13:02:33,548 INFO Request ID is 4158b3e1-5c5b-4695-b4c6-ca3e14184cc7\n",
      "2025-03-04 13:02:33,721 INFO status has been updated to accepted\n",
      "2025-03-04 13:05:26,404 INFO status has been updated to running\n",
      "2025-03-04 13:10:53,924 INFO status has been updated to successful\n"
     ]
    },
    {
     "data": {
      "application/vnd.jupyter.widget-view+json": {
       "model_id": "0478f7cd80a74621877898d6bdae7bd7",
       "version_major": 2,
       "version_minor": 0
      },
      "text/plain": [
       "24b332ae08734d20c69fd626bf6f87d0.nc:   0%|          | 0.00/20.3M [00:00<?, ?B/s]"
      ]
     },
     "metadata": {},
     "output_type": "display_data"
    },
    {
     "name": "stdout",
     "output_type": "stream",
     "text": [
      "Now processing month  12 \n",
      "\n"
     ]
    },
    {
     "name": "stderr",
     "output_type": "stream",
     "text": [
      "2025-03-04 13:10:59,388 INFO [2024-09-26T00:00:00] Watch our [Forum](https://forum.ecmwf.int/) for Announcements, news and other discussed topics.\n",
      "2025-03-04 13:10:59,388 WARNING [2024-06-16T00:00:00] CDS API syntax is changed and some keys or parameter names may have also changed. To avoid requests failing, please use the \"Show API request code\" tool on the dataset Download Form to check you are using the correct syntax for your API request.\n",
      "2025-03-04 13:10:59,743 INFO Request ID is a4119521-697c-468c-8b0f-b3ac9dbc880d\n",
      "2025-03-04 13:10:59,854 INFO status has been updated to accepted\n",
      "2025-03-04 13:15:19,448 INFO status has been updated to running\n",
      "2025-03-04 13:19:20,182 INFO status has been updated to successful\n"
     ]
    },
    {
     "data": {
      "application/vnd.jupyter.widget-view+json": {
       "model_id": "d3fc34ef118d450bbea3c0024fa6fd46",
       "version_major": 2,
       "version_minor": 0
      },
      "text/plain": [
       "36c1d0e91f1d06cc96e4ee770c352d78.nc:   0%|          | 0.00/22.7M [00:00<?, ?B/s]"
      ]
     },
     "metadata": {},
     "output_type": "display_data"
    },
    {
     "name": "stdout",
     "output_type": "stream",
     "text": [
      "Now processing year  2006 \n",
      "\n",
      "Now processing month  01 \n",
      "\n"
     ]
    },
    {
     "name": "stderr",
     "output_type": "stream",
     "text": [
      "2025-03-04 13:19:24,935 INFO [2024-09-26T00:00:00] Watch our [Forum](https://forum.ecmwf.int/) for Announcements, news and other discussed topics.\n",
      "2025-03-04 13:19:24,935 WARNING [2024-06-16T00:00:00] CDS API syntax is changed and some keys or parameter names may have also changed. To avoid requests failing, please use the \"Show API request code\" tool on the dataset Download Form to check you are using the correct syntax for your API request.\n",
      "2025-03-04 13:19:25,230 INFO Request ID is a2dc4d2a-68ee-4869-b1ef-72a164ee55d2\n",
      "2025-03-04 13:19:25,365 INFO status has been updated to accepted\n",
      "2025-03-04 13:43:36,177 INFO status has been updated to successful\n"
     ]
    },
    {
     "data": {
      "application/vnd.jupyter.widget-view+json": {
       "model_id": "8f43e95b0567426695f1742eaeb076a6",
       "version_major": 2,
       "version_minor": 0
      },
      "text/plain": [
       "c4d21666dcb9762756b906901bb87ce3.nc:   0%|          | 0.00/23.3M [00:00<?, ?B/s]"
      ]
     },
     "metadata": {},
     "output_type": "display_data"
    },
    {
     "name": "stdout",
     "output_type": "stream",
     "text": [
      "Now processing month  02 \n",
      "\n"
     ]
    },
    {
     "name": "stderr",
     "output_type": "stream",
     "text": [
      "2025-03-04 13:43:55,145 INFO [2024-09-26T00:00:00] Watch our [Forum](https://forum.ecmwf.int/) for Announcements, news and other discussed topics.\n",
      "2025-03-04 13:43:55,146 WARNING [2024-06-16T00:00:00] CDS API syntax is changed and some keys or parameter names may have also changed. To avoid requests failing, please use the \"Show API request code\" tool on the dataset Download Form to check you are using the correct syntax for your API request.\n",
      "2025-03-04 13:43:55,439 INFO Request ID is 77c4a306-c706-4bc9-9812-3975e2b8e41e\n",
      "2025-03-04 13:43:55,552 INFO status has been updated to accepted\n",
      "2025-03-04 14:03:34,910 INFO status has been updated to running\n",
      "2025-03-04 14:07:35,576 INFO status has been updated to successful\n"
     ]
    },
    {
     "data": {
      "application/vnd.jupyter.widget-view+json": {
       "model_id": "553f597557ec4258bd105f550e2862c5",
       "version_major": 2,
       "version_minor": 0
      },
      "text/plain": [
       "7fb6e3d31203a337a177b1affc94248a.nc:   0%|          | 0.00/19.7M [00:00<?, ?B/s]"
      ]
     },
     "metadata": {},
     "output_type": "display_data"
    },
    {
     "name": "stdout",
     "output_type": "stream",
     "text": [
      "Now processing month  03 \n",
      "\n"
     ]
    },
    {
     "name": "stderr",
     "output_type": "stream",
     "text": [
      "2025-03-04 14:07:39,516 INFO [2024-09-26T00:00:00] Watch our [Forum](https://forum.ecmwf.int/) for Announcements, news and other discussed topics.\n",
      "2025-03-04 14:07:39,517 WARNING [2024-06-16T00:00:00] CDS API syntax is changed and some keys or parameter names may have also changed. To avoid requests failing, please use the \"Show API request code\" tool on the dataset Download Form to check you are using the correct syntax for your API request.\n",
      "2025-03-04 14:07:39,825 INFO Request ID is 23a1ad68-259b-46d4-b059-38a5861c05a0\n",
      "2025-03-04 14:07:39,955 INFO status has been updated to accepted\n",
      "2025-03-04 14:13:59,789 INFO status has been updated to running\n",
      "2025-03-04 14:22:01,316 INFO status has been updated to successful\n"
     ]
    },
    {
     "data": {
      "application/vnd.jupyter.widget-view+json": {
       "model_id": "c3e6effa4081440d9ff5c4821c177313",
       "version_major": 2,
       "version_minor": 0
      },
      "text/plain": [
       "91c8464e6133709207cc8f626fdacaa6.nc:   0%|          | 0.00/23.7M [00:00<?, ?B/s]"
      ]
     },
     "metadata": {},
     "output_type": "display_data"
    },
    {
     "name": "stdout",
     "output_type": "stream",
     "text": [
      "Now processing month  04 \n",
      "\n"
     ]
    },
    {
     "name": "stderr",
     "output_type": "stream",
     "text": [
      "2025-03-04 14:22:08,354 INFO [2024-09-26T00:00:00] Watch our [Forum](https://forum.ecmwf.int/) for Announcements, news and other discussed topics.\n",
      "2025-03-04 14:22:08,355 WARNING [2024-06-16T00:00:00] CDS API syntax is changed and some keys or parameter names may have also changed. To avoid requests failing, please use the \"Show API request code\" tool on the dataset Download Form to check you are using the correct syntax for your API request.\n",
      "2025-03-04 14:22:08,630 INFO Request ID is bba66118-5631-4065-b679-e6478985fd2b\n",
      "2025-03-04 14:22:08,773 INFO status has been updated to accepted\n",
      "2025-03-04 14:32:29,918 INFO status has been updated to running\n",
      "2025-03-04 14:38:31,238 INFO status has been updated to successful\n"
     ]
    },
    {
     "data": {
      "application/vnd.jupyter.widget-view+json": {
       "model_id": "143edc1991c447b68cea880422eea505",
       "version_major": 2,
       "version_minor": 0
      },
      "text/plain": [
       "5af1280a2e6c071c496ea4c2f3e31610.nc:   0%|          | 0.00/21.2M [00:00<?, ?B/s]"
      ]
     },
     "metadata": {},
     "output_type": "display_data"
    },
    {
     "name": "stdout",
     "output_type": "stream",
     "text": [
      "Now processing month  05 \n",
      "\n"
     ]
    },
    {
     "name": "stderr",
     "output_type": "stream",
     "text": [
      "2025-03-04 14:38:36,698 INFO [2024-09-26T00:00:00] Watch our [Forum](https://forum.ecmwf.int/) for Announcements, news and other discussed topics.\n",
      "2025-03-04 14:38:36,699 WARNING [2024-06-16T00:00:00] CDS API syntax is changed and some keys or parameter names may have also changed. To avoid requests failing, please use the \"Show API request code\" tool on the dataset Download Form to check you are using the correct syntax for your API request.\n",
      "2025-03-04 14:38:37,015 INFO Request ID is b6296593-c255-4e69-9e96-6365d1f022a3\n",
      "2025-03-04 14:38:37,151 INFO status has been updated to accepted\n",
      "2025-03-04 14:44:57,211 INFO status has been updated to running\n",
      "2025-03-04 14:48:57,902 INFO status has been updated to successful\n"
     ]
    },
    {
     "data": {
      "application/vnd.jupyter.widget-view+json": {
       "model_id": "1ecdc6ef39b24e33b879916f8837db5e",
       "version_major": 2,
       "version_minor": 0
      },
      "text/plain": [
       "717197501229ff5cf3a9c7135eb35efd.nc:   0%|          | 0.00/23.2M [00:00<?, ?B/s]"
      ]
     },
     "metadata": {},
     "output_type": "display_data"
    },
    {
     "name": "stdout",
     "output_type": "stream",
     "text": [
      "Now processing month  06 \n",
      "\n"
     ]
    },
    {
     "name": "stderr",
     "output_type": "stream",
     "text": [
      "2025-03-04 14:49:02,332 INFO [2024-09-26T00:00:00] Watch our [Forum](https://forum.ecmwf.int/) for Announcements, news and other discussed topics.\n",
      "2025-03-04 14:49:02,333 WARNING [2024-06-16T00:00:00] CDS API syntax is changed and some keys or parameter names may have also changed. To avoid requests failing, please use the \"Show API request code\" tool on the dataset Download Form to check you are using the correct syntax for your API request.\n",
      "2025-03-04 14:49:02,660 INFO Request ID is 80e8f5ab-4412-42c8-92df-a73aa7f67004\n",
      "2025-03-04 14:49:02,857 INFO status has been updated to accepted\n",
      "2025-03-04 14:51:55,841 INFO status has been updated to running\n",
      "2025-03-04 14:57:23,648 INFO status has been updated to successful\n"
     ]
    },
    {
     "data": {
      "application/vnd.jupyter.widget-view+json": {
       "model_id": "a2559e1f334f4a70aa26023e59cbecff",
       "version_major": 2,
       "version_minor": 0
      },
      "text/plain": [
       "6045a7a92a5d56f1b6ab92ef0f92315a.nc:   0%|          | 0.00/20.3M [00:00<?, ?B/s]"
      ]
     },
     "metadata": {},
     "output_type": "display_data"
    },
    {
     "name": "stdout",
     "output_type": "stream",
     "text": [
      "Now processing month  07 \n",
      "\n"
     ]
    },
    {
     "name": "stderr",
     "output_type": "stream",
     "text": [
      "2025-03-04 14:57:28,130 INFO [2024-09-26T00:00:00] Watch our [Forum](https://forum.ecmwf.int/) for Announcements, news and other discussed topics.\n",
      "2025-03-04 14:57:28,131 WARNING [2024-06-16T00:00:00] CDS API syntax is changed and some keys or parameter names may have also changed. To avoid requests failing, please use the \"Show API request code\" tool on the dataset Download Form to check you are using the correct syntax for your API request.\n",
      "2025-03-04 14:57:28,489 INFO Request ID is b61e8e4c-81d4-49c7-b4c6-fc501fcb0f13\n",
      "2025-03-04 14:57:28,655 INFO status has been updated to accepted\n",
      "2025-03-04 14:57:42,476 INFO status has been updated to running\n",
      "2025-03-04 15:05:49,261 INFO status has been updated to successful\n"
     ]
    },
    {
     "data": {
      "application/vnd.jupyter.widget-view+json": {
       "model_id": "13645182fdff46fcb84ff47672fad211",
       "version_major": 2,
       "version_minor": 0
      },
      "text/plain": [
       "1b705fb48a6cddaebf381faa0524dd60.nc:   0%|          | 0.00/22.9M [00:00<?, ?B/s]"
      ]
     },
     "metadata": {},
     "output_type": "display_data"
    },
    {
     "name": "stdout",
     "output_type": "stream",
     "text": [
      "Now processing month  08 \n",
      "\n"
     ]
    },
    {
     "name": "stderr",
     "output_type": "stream",
     "text": [
      "2025-03-04 15:05:52,832 INFO [2024-09-26T00:00:00] Watch our [Forum](https://forum.ecmwf.int/) for Announcements, news and other discussed topics.\n",
      "2025-03-04 15:05:52,832 WARNING [2024-06-16T00:00:00] CDS API syntax is changed and some keys or parameter names may have also changed. To avoid requests failing, please use the \"Show API request code\" tool on the dataset Download Form to check you are using the correct syntax for your API request.\n",
      "2025-03-04 15:05:53,178 INFO Request ID is 7f5f3573-8fc3-42eb-a2ed-3477c4ea04da\n",
      "2025-03-04 15:05:53,308 INFO status has been updated to accepted\n",
      "2025-03-04 15:06:07,216 INFO status has been updated to running\n",
      "2025-03-04 15:12:13,342 INFO status has been updated to successful\n"
     ]
    },
    {
     "data": {
      "application/vnd.jupyter.widget-view+json": {
       "model_id": "4523e077de7244459a67c0ace1f6c41b",
       "version_major": 2,
       "version_minor": 0
      },
      "text/plain": [
       "173b48c7fd50609852dbcd6c2f153b89.nc:   0%|          | 0.00/24.5M [00:00<?, ?B/s]"
      ]
     },
     "metadata": {},
     "output_type": "display_data"
    },
    {
     "name": "stdout",
     "output_type": "stream",
     "text": [
      "Now processing month  09 \n",
      "\n"
     ]
    },
    {
     "name": "stderr",
     "output_type": "stream",
     "text": [
      "2025-03-04 15:12:18,662 INFO [2024-09-26T00:00:00] Watch our [Forum](https://forum.ecmwf.int/) for Announcements, news and other discussed topics.\n",
      "2025-03-04 15:12:18,663 WARNING [2024-06-16T00:00:00] CDS API syntax is changed and some keys or parameter names may have also changed. To avoid requests failing, please use the \"Show API request code\" tool on the dataset Download Form to check you are using the correct syntax for your API request.\n",
      "2025-03-04 15:12:18,957 INFO Request ID is f4aff46e-2ba1-4942-8246-d88740abec0f\n",
      "2025-03-04 15:12:19,105 INFO status has been updated to accepted\n",
      "2025-03-04 15:12:27,876 INFO status has been updated to running\n",
      "2025-03-04 15:16:39,164 INFO status has been updated to successful\n"
     ]
    },
    {
     "data": {
      "application/vnd.jupyter.widget-view+json": {
       "model_id": "f734601d66ff48e381f0d6bbc0498e27",
       "version_major": 2,
       "version_minor": 0
      },
      "text/plain": [
       "182c849cd1af687aee9c38bd14da741f.nc:   0%|          | 0.00/20.2M [00:00<?, ?B/s]"
      ]
     },
     "metadata": {},
     "output_type": "display_data"
    },
    {
     "name": "stdout",
     "output_type": "stream",
     "text": [
      "Now processing month  10 \n",
      "\n"
     ]
    },
    {
     "name": "stderr",
     "output_type": "stream",
     "text": [
      "2025-03-04 15:16:43,159 INFO [2024-09-26T00:00:00] Watch our [Forum](https://forum.ecmwf.int/) for Announcements, news and other discussed topics.\n",
      "2025-03-04 15:16:43,160 WARNING [2024-06-16T00:00:00] CDS API syntax is changed and some keys or parameter names may have also changed. To avoid requests failing, please use the \"Show API request code\" tool on the dataset Download Form to check you are using the correct syntax for your API request.\n",
      "2025-03-04 15:16:43,472 INFO Request ID is 70945f07-94e9-47cc-bef0-644bd1c86328\n",
      "2025-03-04 15:16:43,601 INFO status has been updated to accepted\n",
      "2025-03-04 15:16:52,326 INFO status has been updated to running\n",
      "2025-03-04 15:23:04,014 INFO status has been updated to successful\n"
     ]
    },
    {
     "data": {
      "application/vnd.jupyter.widget-view+json": {
       "model_id": "860b5e49035e4c8885f12a828ae61ea1",
       "version_major": 2,
       "version_minor": 0
      },
      "text/plain": [
       "1dc116db561fe8dbb14db6782a9ef596.nc:   0%|          | 0.00/22.8M [00:00<?, ?B/s]"
      ]
     },
     "metadata": {},
     "output_type": "display_data"
    },
    {
     "name": "stdout",
     "output_type": "stream",
     "text": [
      "Now processing month  11 \n",
      "\n"
     ]
    },
    {
     "name": "stderr",
     "output_type": "stream",
     "text": [
      "2025-03-04 15:23:09,745 INFO [2024-09-26T00:00:00] Watch our [Forum](https://forum.ecmwf.int/) for Announcements, news and other discussed topics.\n",
      "2025-03-04 15:23:09,745 WARNING [2024-06-16T00:00:00] CDS API syntax is changed and some keys or parameter names may have also changed. To avoid requests failing, please use the \"Show API request code\" tool on the dataset Download Form to check you are using the correct syntax for your API request.\n",
      "2025-03-04 15:23:10,056 INFO Request ID is efe1500e-f60b-4691-965b-177fff6272f9\n",
      "2025-03-04 15:23:10,254 INFO status has been updated to accepted\n",
      "2025-03-04 15:23:19,170 INFO status has been updated to running\n",
      "2025-03-04 15:29:30,651 INFO status has been updated to successful\n"
     ]
    },
    {
     "data": {
      "application/vnd.jupyter.widget-view+json": {
       "model_id": "cac1be2657e643e7b1c7ac4767ae8444",
       "version_major": 2,
       "version_minor": 0
      },
      "text/plain": [
       "6a50f62d51e8045da1538c5fabcf8309.nc:   0%|          | 0.00/22.3M [00:00<?, ?B/s]"
      ]
     },
     "metadata": {},
     "output_type": "display_data"
    },
    {
     "name": "stdout",
     "output_type": "stream",
     "text": [
      "Now processing month  12 \n",
      "\n"
     ]
    },
    {
     "name": "stderr",
     "output_type": "stream",
     "text": [
      "2025-03-04 15:29:36,745 INFO [2024-09-26T00:00:00] Watch our [Forum](https://forum.ecmwf.int/) for Announcements, news and other discussed topics.\n",
      "2025-03-04 15:29:36,746 WARNING [2024-06-16T00:00:00] CDS API syntax is changed and some keys or parameter names may have also changed. To avoid requests failing, please use the \"Show API request code\" tool on the dataset Download Form to check you are using the correct syntax for your API request.\n",
      "2025-03-04 15:29:37,269 INFO Request ID is a0ad1303-28b8-46a1-b413-5255290b5cbe\n",
      "2025-03-04 15:29:37,465 INFO status has been updated to accepted\n",
      "2025-03-04 15:29:46,379 INFO status has been updated to running\n",
      "2025-03-04 15:35:57,932 INFO status has been updated to successful\n"
     ]
    },
    {
     "data": {
      "application/vnd.jupyter.widget-view+json": {
       "model_id": "550d502bb3834a5bb5658f81e621dc7a",
       "version_major": 2,
       "version_minor": 0
      },
      "text/plain": [
       "7c67de64aea1dfe0794d5a3008cc9624.nc:   0%|          | 0.00/23.3M [00:00<?, ?B/s]"
      ]
     },
     "metadata": {},
     "output_type": "display_data"
    },
    {
     "name": "stdout",
     "output_type": "stream",
     "text": [
      "Now processing year  2007 \n",
      "\n",
      "Now processing month  01 \n",
      "\n"
     ]
    },
    {
     "name": "stderr",
     "output_type": "stream",
     "text": [
      "2025-03-04 15:36:01,967 INFO [2024-09-26T00:00:00] Watch our [Forum](https://forum.ecmwf.int/) for Announcements, news and other discussed topics.\n",
      "2025-03-04 15:36:01,968 WARNING [2024-06-16T00:00:00] CDS API syntax is changed and some keys or parameter names may have also changed. To avoid requests failing, please use the \"Show API request code\" tool on the dataset Download Form to check you are using the correct syntax for your API request.\n",
      "2025-03-04 15:36:02,360 INFO Request ID is e0d7d0a9-ab37-4f6c-9542-562c085792a7\n",
      "2025-03-04 15:36:02,481 INFO status has been updated to accepted\n",
      "2025-03-04 15:36:11,104 INFO status has been updated to running\n",
      "2025-03-04 15:42:22,339 INFO status has been updated to successful\n"
     ]
    },
    {
     "data": {
      "application/vnd.jupyter.widget-view+json": {
       "model_id": "5f9313cb1c7146cba42bd220edc4c0b4",
       "version_major": 2,
       "version_minor": 0
      },
      "text/plain": [
       "11e831d9caecec7e1fb12f5da2becf73.nc:   0%|          | 0.00/22.8M [00:00<?, ?B/s]"
      ]
     },
     "metadata": {},
     "output_type": "display_data"
    },
    {
     "name": "stdout",
     "output_type": "stream",
     "text": [
      "Now processing month  02 \n",
      "\n"
     ]
    },
    {
     "name": "stderr",
     "output_type": "stream",
     "text": [
      "2025-03-04 15:42:26,635 INFO [2024-09-26T00:00:00] Watch our [Forum](https://forum.ecmwf.int/) for Announcements, news and other discussed topics.\n",
      "2025-03-04 15:42:26,636 WARNING [2024-06-16T00:00:00] CDS API syntax is changed and some keys or parameter names may have also changed. To avoid requests failing, please use the \"Show API request code\" tool on the dataset Download Form to check you are using the correct syntax for your API request.\n",
      "2025-03-04 15:42:26,962 INFO Request ID is 77ae239a-d853-4366-b5ab-ecbec90ba32c\n",
      "2025-03-04 15:42:27,070 INFO status has been updated to accepted\n",
      "2025-03-04 15:42:35,718 INFO status has been updated to running\n",
      "2025-03-04 15:46:46,707 INFO status has been updated to successful\n"
     ]
    },
    {
     "data": {
      "application/vnd.jupyter.widget-view+json": {
       "model_id": "9390479c31134c29a8fc7f3280bec2c5",
       "version_major": 2,
       "version_minor": 0
      },
      "text/plain": [
       "fbe37db7e9e90292a0bb04f046113bcc.nc:   0%|          | 0.00/19.4M [00:00<?, ?B/s]"
      ]
     },
     "metadata": {},
     "output_type": "display_data"
    },
    {
     "name": "stdout",
     "output_type": "stream",
     "text": [
      "Now processing month  03 \n",
      "\n"
     ]
    },
    {
     "name": "stderr",
     "output_type": "stream",
     "text": [
      "2025-03-04 15:46:51,132 INFO [2024-09-26T00:00:00] Watch our [Forum](https://forum.ecmwf.int/) for Announcements, news and other discussed topics.\n",
      "2025-03-04 15:46:51,133 WARNING [2024-06-16T00:00:00] CDS API syntax is changed and some keys or parameter names may have also changed. To avoid requests failing, please use the \"Show API request code\" tool on the dataset Download Form to check you are using the correct syntax for your API request.\n",
      "2025-03-04 15:46:51,418 INFO Request ID is 11dac302-36ed-485c-acdb-663ecdfb3b2e\n",
      "2025-03-04 15:46:51,524 INFO status has been updated to accepted\n",
      "2025-03-04 15:47:00,159 INFO status has been updated to running\n",
      "Recovering from connection error [HTTPSConnectionPool(host='cds.climate.copernicus.eu', port=443): Max retries exceeded with url: /api/retrieve/v1/jobs/11dac302-36ed-485c-acdb-663ecdfb3b2e?log=True&request=True (Caused by NameResolutionError(\"<urllib3.connection.HTTPSConnection object>: Failed to resolve 'cds.climate.copernicus.eu' ([Errno 8] nodename nor servname provided, or not known)\"))], attemps 1 of 500\n",
      "Retrying in 120 seconds\n",
      "Recovering from connection error [HTTPSConnectionPool(host='cds.climate.copernicus.eu', port=443): Max retries exceeded with url: /api/retrieve/v1/jobs/11dac302-36ed-485c-acdb-663ecdfb3b2e?log=True&request=True (Caused by NameResolutionError(\"<urllib3.connection.HTTPSConnection object>: Failed to resolve 'cds.climate.copernicus.eu' ([Errno 8] nodename nor servname provided, or not known)\"))], attemps 2 of 500\n",
      "Retrying in 120 seconds\n",
      "Recovering from connection error [HTTPSConnectionPool(host='cds.climate.copernicus.eu', port=443): Max retries exceeded with url: /api/retrieve/v1/jobs/11dac302-36ed-485c-acdb-663ecdfb3b2e?log=True&request=True (Caused by NameResolutionError(\"<urllib3.connection.HTTPSConnection object>: Failed to resolve 'cds.climate.copernicus.eu' ([Errno 8] nodename nor servname provided, or not known)\"))], attemps 3 of 500\n",
      "Retrying in 120 seconds\n",
      "Recovering from connection error [HTTPSConnectionPool(host='cds.climate.copernicus.eu', port=443): Max retries exceeded with url: /api/retrieve/v1/jobs/11dac302-36ed-485c-acdb-663ecdfb3b2e?log=True&request=True (Caused by NameResolutionError(\"<urllib3.connection.HTTPSConnection object>: Failed to resolve 'cds.climate.copernicus.eu' ([Errno 8] nodename nor servname provided, or not known)\"))], attemps 4 of 500\n",
      "Retrying in 120 seconds\n",
      "2025-03-04 22:18:35,613 INFO status has been updated to successful\n"
     ]
    },
    {
     "data": {
      "application/vnd.jupyter.widget-view+json": {
       "model_id": "d2701bf43b734520bd134beaba73eed8",
       "version_major": 2,
       "version_minor": 0
      },
      "text/plain": [
       "bf5ea2b1c1907fc99fe424f97a71a8c1.nc:   0%|          | 0.00/23.5M [00:00<?, ?B/s]"
      ]
     },
     "metadata": {},
     "output_type": "display_data"
    },
    {
     "name": "stderr",
     "output_type": "stream",
     "text": [
      "Recovering from connection error [HTTPSConnectionPool(host='object-store.os-api.cci2.ecmwf.int', port=443): Read timed out.], attemps 1 of 500\n",
      "Retrying in 120 seconds\n"
     ]
    },
    {
     "data": {
      "application/vnd.jupyter.widget-view+json": {
       "model_id": "cfe996ba40fc4ea3985a3248f10a4ac5",
       "version_major": 2,
       "version_minor": 0
      },
      "text/plain": [
       "bf5ea2b1c1907fc99fe424f97a71a8c1.nc:  72%|#######2  | 17.0M/23.5M [00:00<?, ?B/s]"
      ]
     },
     "metadata": {},
     "output_type": "display_data"
    },
    {
     "name": "stdout",
     "output_type": "stream",
     "text": [
      "Now processing month  04 \n",
      "\n"
     ]
    },
    {
     "name": "stderr",
     "output_type": "stream",
     "text": [
      "2025-03-04 22:58:42,093 INFO [2024-09-26T00:00:00] Watch our [Forum](https://forum.ecmwf.int/) for Announcements, news and other discussed topics.\n",
      "2025-03-04 22:58:42,094 WARNING [2024-06-16T00:00:00] CDS API syntax is changed and some keys or parameter names may have also changed. To avoid requests failing, please use the \"Show API request code\" tool on the dataset Download Form to check you are using the correct syntax for your API request.\n",
      "2025-03-04 22:58:42,469 INFO Request ID is 136468ea-fa06-46a2-b99c-03a925f1425f\n",
      "2025-03-04 22:58:42,645 INFO status has been updated to accepted\n",
      "2025-03-04 22:58:51,556 INFO status has been updated to running\n",
      "2025-03-04 23:16:37,990 INFO status has been updated to successful\n"
     ]
    },
    {
     "data": {
      "application/vnd.jupyter.widget-view+json": {
       "model_id": "911072bec1b14a26b1a98a5efbabebdf",
       "version_major": 2,
       "version_minor": 0
      },
      "text/plain": [
       "dd07d89f067b8781572528ac2b5bb18c.nc:   0%|          | 0.00/21.3M [00:00<?, ?B/s]"
      ]
     },
     "metadata": {},
     "output_type": "display_data"
    },
    {
     "name": "stdout",
     "output_type": "stream",
     "text": [
      "Now processing month  05 \n",
      "\n"
     ]
    },
    {
     "name": "stderr",
     "output_type": "stream",
     "text": [
      "2025-03-04 23:16:41,964 INFO [2024-09-26T00:00:00] Watch our [Forum](https://forum.ecmwf.int/) for Announcements, news and other discussed topics.\n",
      "2025-03-04 23:16:41,965 WARNING [2024-06-16T00:00:00] CDS API syntax is changed and some keys or parameter names may have also changed. To avoid requests failing, please use the \"Show API request code\" tool on the dataset Download Form to check you are using the correct syntax for your API request.\n",
      "2025-03-04 23:16:42,339 INFO Request ID is d625108a-9f82-474b-b46f-20d35ffa72f2\n",
      "2025-03-04 23:16:42,495 INFO status has been updated to accepted\n",
      "2025-03-04 23:16:48,275 INFO status has been updated to running\n",
      "Recovering from connection error [HTTPSConnectionPool(host='cds.climate.copernicus.eu', port=443): Read timed out. (read timeout=60)], attemps 1 of 500\n",
      "Retrying in 120 seconds\n",
      "2025-03-05 00:52:09,706 INFO status has been updated to successful\n"
     ]
    },
    {
     "data": {
      "application/vnd.jupyter.widget-view+json": {
       "model_id": "51efb5038d984f36ae50dead378614ae",
       "version_major": 2,
       "version_minor": 0
      },
      "text/plain": [
       "4c0f98667c1d4390de9052c89cfe7a69.nc:   0%|          | 0.00/23.6M [00:00<?, ?B/s]"
      ]
     },
     "metadata": {},
     "output_type": "display_data"
    },
    {
     "name": "stdout",
     "output_type": "stream",
     "text": [
      "Now processing month  06 \n",
      "\n"
     ]
    },
    {
     "name": "stderr",
     "output_type": "stream",
     "text": [
      "2025-03-05 00:52:13,673 INFO [2024-09-26T00:00:00] Watch our [Forum](https://forum.ecmwf.int/) for Announcements, news and other discussed topics.\n",
      "2025-03-05 00:52:13,674 WARNING [2024-06-16T00:00:00] CDS API syntax is changed and some keys or parameter names may have also changed. To avoid requests failing, please use the \"Show API request code\" tool on the dataset Download Form to check you are using the correct syntax for your API request.\n",
      "2025-03-05 00:52:14,051 INFO Request ID is a6f3b1ae-e374-4a33-ad09-6f4e47710096\n",
      "2025-03-05 00:52:14,213 INFO status has been updated to accepted\n",
      "2025-03-05 00:52:19,481 INFO status has been updated to running\n",
      "Recovering from connection error [HTTPSConnectionPool(host='cds.climate.copernicus.eu', port=443): Read timed out. (read timeout=60)], attemps 1 of 500\n",
      "Retrying in 120 seconds\n",
      "2025-03-05 02:50:17,290 INFO status has been updated to successful\n"
     ]
    },
    {
     "data": {
      "application/vnd.jupyter.widget-view+json": {
       "model_id": "a735255237ab4c4695b0f362bbc07dd2",
       "version_major": 2,
       "version_minor": 0
      },
      "text/plain": [
       "13e378d4e913dd77cd34f6e5ab1aec5f.nc:   0%|          | 0.00/22.2M [00:00<?, ?B/s]"
      ]
     },
     "metadata": {},
     "output_type": "display_data"
    },
    {
     "name": "stdout",
     "output_type": "stream",
     "text": [
      "Now processing month  07 \n",
      "\n"
     ]
    },
    {
     "name": "stderr",
     "output_type": "stream",
     "text": [
      "2025-03-05 02:50:23,031 INFO [2024-09-26T00:00:00] Watch our [Forum](https://forum.ecmwf.int/) for Announcements, news and other discussed topics.\n",
      "2025-03-05 02:50:23,031 WARNING [2024-06-16T00:00:00] CDS API syntax is changed and some keys or parameter names may have also changed. To avoid requests failing, please use the \"Show API request code\" tool on the dataset Download Form to check you are using the correct syntax for your API request.\n",
      "2025-03-05 02:50:23,379 INFO Request ID is 6b93ef2e-60d8-4ce4-87cb-0739b8dad79f\n",
      "2025-03-05 02:50:23,522 INFO status has been updated to accepted\n",
      "2025-03-05 02:50:28,781 INFO status has been updated to running\n",
      "Recovering from connection error [HTTPSConnectionPool(host='cds.climate.copernicus.eu', port=443): Read timed out. (read timeout=60)], attemps 1 of 500\n",
      "Retrying in 120 seconds\n",
      "2025-03-05 04:57:59,083 INFO status has been updated to successful\n"
     ]
    },
    {
     "data": {
      "application/vnd.jupyter.widget-view+json": {
       "model_id": "2541377e647d4fe4932557b5de4178df",
       "version_major": 2,
       "version_minor": 0
      },
      "text/plain": [
       "13e7b2f75be1040dc90e501baf0fe901.nc:   0%|          | 0.00/22.3M [00:00<?, ?B/s]"
      ]
     },
     "metadata": {},
     "output_type": "display_data"
    },
    {
     "name": "stdout",
     "output_type": "stream",
     "text": [
      "Now processing month  08 \n",
      "\n"
     ]
    },
    {
     "name": "stderr",
     "output_type": "stream",
     "text": [
      "2025-03-05 04:58:16,028 INFO [2024-09-26T00:00:00] Watch our [Forum](https://forum.ecmwf.int/) for Announcements, news and other discussed topics.\n",
      "2025-03-05 04:58:16,029 WARNING [2024-06-16T00:00:00] CDS API syntax is changed and some keys or parameter names may have also changed. To avoid requests failing, please use the \"Show API request code\" tool on the dataset Download Form to check you are using the correct syntax for your API request.\n",
      "2025-03-05 04:58:16,368 INFO Request ID is a3135c9c-e265-4cad-bae3-a9b07ecfe550\n",
      "2025-03-05 04:58:16,537 INFO status has been updated to accepted\n",
      "2025-03-05 04:58:25,390 INFO status has been updated to running\n",
      "Recovering from connection error [HTTPSConnectionPool(host='cds.climate.copernicus.eu', port=443): Read timed out. (read timeout=60)], attemps 1 of 500\n",
      "Retrying in 120 seconds\n",
      "2025-03-05 07:37:53,120 INFO status has been updated to successful\n"
     ]
    },
    {
     "data": {
      "application/vnd.jupyter.widget-view+json": {
       "model_id": "edd34e27d5034ba79f7fb15abe29e098",
       "version_major": 2,
       "version_minor": 0
      },
      "text/plain": [
       "3664413d6f266e22e4141928d2c8fd13.nc:   0%|          | 0.00/23.5M [00:00<?, ?B/s]"
      ]
     },
     "metadata": {},
     "output_type": "display_data"
    },
    {
     "name": "stdout",
     "output_type": "stream",
     "text": [
      "Now processing month  09 \n",
      "\n"
     ]
    },
    {
     "name": "stderr",
     "output_type": "stream",
     "text": [
      "2025-03-05 07:37:56,894 INFO [2024-09-26T00:00:00] Watch our [Forum](https://forum.ecmwf.int/) for Announcements, news and other discussed topics.\n",
      "2025-03-05 07:37:56,896 WARNING [2024-06-16T00:00:00] CDS API syntax is changed and some keys or parameter names may have also changed. To avoid requests failing, please use the \"Show API request code\" tool on the dataset Download Form to check you are using the correct syntax for your API request.\n",
      "2025-03-05 07:37:57,298 INFO Request ID is 988df20f-32f1-4e79-af39-f2929513bd0f\n",
      "2025-03-05 07:37:57,477 INFO status has been updated to accepted\n",
      "2025-03-05 07:38:02,718 INFO status has been updated to running\n",
      "Recovering from connection error [HTTPSConnectionPool(host='cds.climate.copernicus.eu', port=443): Read timed out. (read timeout=60)], attemps 1 of 500\n",
      "Retrying in 120 seconds\n",
      "Recovering from connection error [HTTPSConnectionPool(host='cds.climate.copernicus.eu', port=443): Max retries exceeded with url: /api/retrieve/v1/jobs/988df20f-32f1-4e79-af39-f2929513bd0f?log=True&request=True (Caused by NameResolutionError(\"<urllib3.connection.HTTPSConnection object>: Failed to resolve 'cds.climate.copernicus.eu' ([Errno 8] nodename nor servname provided, or not known)\"))], attemps 2 of 500\n",
      "Retrying in 120 seconds\n",
      "2025-03-05 11:17:00,960 INFO status has been updated to successful\n"
     ]
    },
    {
     "data": {
      "application/vnd.jupyter.widget-view+json": {
       "model_id": "6f3645a9aec942aca89ca91059a818b9",
       "version_major": 2,
       "version_minor": 0
      },
      "text/plain": [
       "6305750f2c651fc9ef6aac03b3db5eef.nc:   0%|          | 0.00/20.1M [00:00<?, ?B/s]"
      ]
     },
     "metadata": {},
     "output_type": "display_data"
    },
    {
     "name": "stdout",
     "output_type": "stream",
     "text": [
      "Now processing month  10 \n",
      "\n"
     ]
    },
    {
     "name": "stderr",
     "output_type": "stream",
     "text": [
      "2025-03-05 11:17:07,077 INFO [2024-09-26T00:00:00] Watch our [Forum](https://forum.ecmwf.int/) for Announcements, news and other discussed topics.\n",
      "2025-03-05 11:17:07,078 WARNING [2024-06-16T00:00:00] CDS API syntax is changed and some keys or parameter names may have also changed. To avoid requests failing, please use the \"Show API request code\" tool on the dataset Download Form to check you are using the correct syntax for your API request.\n",
      "2025-03-05 11:17:07,438 INFO Request ID is 66b5de59-1f90-44d6-8966-3b6114007b64\n",
      "2025-03-05 11:17:07,574 INFO status has been updated to accepted\n",
      "2025-03-05 11:17:13,020 INFO status has been updated to running\n",
      "2025-03-05 11:23:27,799 INFO status has been updated to successful\n"
     ]
    },
    {
     "data": {
      "application/vnd.jupyter.widget-view+json": {
       "model_id": "d7edd5713277467b9809e0b3064e9366",
       "version_major": 2,
       "version_minor": 0
      },
      "text/plain": [
       "168a1447d22a5befc8daa3ef3ee5b2f4.nc:   0%|          | 0.00/23.3M [00:00<?, ?B/s]"
      ]
     },
     "metadata": {},
     "output_type": "display_data"
    },
    {
     "name": "stdout",
     "output_type": "stream",
     "text": [
      "Now processing month  11 \n",
      "\n"
     ]
    },
    {
     "name": "stderr",
     "output_type": "stream",
     "text": [
      "2025-03-05 11:23:33,353 INFO [2024-09-26T00:00:00] Watch our [Forum](https://forum.ecmwf.int/) for Announcements, news and other discussed topics.\n",
      "2025-03-05 11:23:33,354 WARNING [2024-06-16T00:00:00] CDS API syntax is changed and some keys or parameter names may have also changed. To avoid requests failing, please use the \"Show API request code\" tool on the dataset Download Form to check you are using the correct syntax for your API request.\n",
      "2025-03-05 11:23:33,656 INFO Request ID is d1be8e5c-b3e9-4ae5-9294-e8052262b781\n",
      "2025-03-05 11:23:33,797 INFO status has been updated to accepted\n",
      "2025-03-05 11:23:39,024 INFO status has been updated to running\n",
      "2025-03-05 11:39:55,822 INFO status has been updated to successful\n"
     ]
    },
    {
     "data": {
      "application/vnd.jupyter.widget-view+json": {
       "model_id": "4a806d78a9504ffb8977e6c35d92abf0",
       "version_major": 2,
       "version_minor": 0
      },
      "text/plain": [
       "843997243436bef7669cba0f19e4a7e6.nc:   0%|          | 0.00/20.3M [00:00<?, ?B/s]"
      ]
     },
     "metadata": {},
     "output_type": "display_data"
    },
    {
     "name": "stdout",
     "output_type": "stream",
     "text": [
      "Now processing month  12 \n",
      "\n"
     ]
    },
    {
     "name": "stderr",
     "output_type": "stream",
     "text": [
      "2025-03-05 11:39:59,368 INFO [2024-09-26T00:00:00] Watch our [Forum](https://forum.ecmwf.int/) for Announcements, news and other discussed topics.\n",
      "2025-03-05 11:39:59,369 WARNING [2024-06-16T00:00:00] CDS API syntax is changed and some keys or parameter names may have also changed. To avoid requests failing, please use the \"Show API request code\" tool on the dataset Download Form to check you are using the correct syntax for your API request.\n",
      "2025-03-05 11:39:59,665 INFO Request ID is d6464ec5-94fc-468e-b993-0feee0f68cfa\n",
      "2025-03-05 11:39:59,785 INFO status has been updated to accepted\n",
      "2025-03-05 11:40:08,406 INFO status has been updated to running\n",
      "2025-03-05 11:46:19,717 INFO status has been updated to successful\n"
     ]
    },
    {
     "data": {
      "application/vnd.jupyter.widget-view+json": {
       "model_id": "4d3918e51afe436d94c07fb6966173dc",
       "version_major": 2,
       "version_minor": 0
      },
      "text/plain": [
       "b7b397f90f54f2061e6be9757bacb5c6.nc:   0%|          | 0.00/22.3M [00:00<?, ?B/s]"
      ]
     },
     "metadata": {},
     "output_type": "display_data"
    },
    {
     "name": "stdout",
     "output_type": "stream",
     "text": [
      "Now processing year  2008 \n",
      "\n",
      "Now processing month  01 \n",
      "\n"
     ]
    },
    {
     "name": "stderr",
     "output_type": "stream",
     "text": [
      "2025-03-05 11:46:23,596 INFO [2024-09-26T00:00:00] Watch our [Forum](https://forum.ecmwf.int/) for Announcements, news and other discussed topics.\n",
      "2025-03-05 11:46:23,597 WARNING [2024-06-16T00:00:00] CDS API syntax is changed and some keys or parameter names may have also changed. To avoid requests failing, please use the \"Show API request code\" tool on the dataset Download Form to check you are using the correct syntax for your API request.\n",
      "2025-03-05 11:46:23,925 INFO Request ID is 068bc61f-efe4-499a-a7ee-c66faea78077\n",
      "2025-03-05 11:46:24,050 INFO status has been updated to accepted\n",
      "2025-03-05 11:46:32,726 INFO status has been updated to running\n",
      "2025-03-05 11:52:44,043 INFO status has been updated to successful\n"
     ]
    },
    {
     "data": {
      "application/vnd.jupyter.widget-view+json": {
       "model_id": "3e5204e03d13487eaa64f1dcfcb1b6ea",
       "version_major": 2,
       "version_minor": 0
      },
      "text/plain": [
       "1e34586d8edd7e943717e61930bcb3c1.nc:   0%|          | 0.00/22.7M [00:00<?, ?B/s]"
      ]
     },
     "metadata": {},
     "output_type": "display_data"
    },
    {
     "name": "stdout",
     "output_type": "stream",
     "text": [
      "Now processing month  02 \n",
      "\n"
     ]
    },
    {
     "name": "stderr",
     "output_type": "stream",
     "text": [
      "2025-03-05 11:52:48,118 INFO [2024-09-26T00:00:00] Watch our [Forum](https://forum.ecmwf.int/) for Announcements, news and other discussed topics.\n",
      "2025-03-05 11:52:48,118 WARNING [2024-06-16T00:00:00] CDS API syntax is changed and some keys or parameter names may have also changed. To avoid requests failing, please use the \"Show API request code\" tool on the dataset Download Form to check you are using the correct syntax for your API request.\n",
      "2025-03-05 11:52:48,406 INFO Request ID is c997e23c-f539-494d-b6eb-2e96a946643b\n",
      "2025-03-05 11:52:48,538 INFO status has been updated to accepted\n",
      "2025-03-05 11:53:02,358 INFO status has been updated to running\n",
      "2025-03-05 11:53:10,077 INFO status has been updated to accepted\n",
      "2025-03-05 11:53:21,598 INFO status has been updated to running\n",
      "2025-03-05 12:07:09,782 INFO status has been updated to successful\n"
     ]
    },
    {
     "data": {
      "application/vnd.jupyter.widget-view+json": {
       "model_id": "66fa743a285f478e8c989a99f3d5e8c9",
       "version_major": 2,
       "version_minor": 0
      },
      "text/plain": [
       "7e5825f226628cc6c730e2f8748875ed.nc:   0%|          | 0.00/20.3M [00:00<?, ?B/s]"
      ]
     },
     "metadata": {},
     "output_type": "display_data"
    },
    {
     "name": "stdout",
     "output_type": "stream",
     "text": [
      "Now processing month  03 \n",
      "\n"
     ]
    },
    {
     "name": "stderr",
     "output_type": "stream",
     "text": [
      "2025-03-05 12:07:13,233 INFO [2024-09-26T00:00:00] Watch our [Forum](https://forum.ecmwf.int/) for Announcements, news and other discussed topics.\n",
      "2025-03-05 12:07:13,234 WARNING [2024-06-16T00:00:00] CDS API syntax is changed and some keys or parameter names may have also changed. To avoid requests failing, please use the \"Show API request code\" tool on the dataset Download Form to check you are using the correct syntax for your API request.\n",
      "2025-03-05 12:07:13,515 INFO Request ID is 0f1a5bbc-6e12-48be-93e7-9fcf700ee9a1\n",
      "2025-03-05 12:07:13,647 INFO status has been updated to accepted\n",
      "2025-03-05 12:07:22,414 INFO status has been updated to running\n",
      "2025-03-05 12:13:33,899 INFO status has been updated to successful\n"
     ]
    },
    {
     "data": {
      "application/vnd.jupyter.widget-view+json": {
       "model_id": "636b6c0f843245a88627c2a2caba0ad4",
       "version_major": 2,
       "version_minor": 0
      },
      "text/plain": [
       "bb00f6992d38fcb26d8dcbb7f444ba86.nc:   0%|          | 0.00/23.0M [00:00<?, ?B/s]"
      ]
     },
     "metadata": {},
     "output_type": "display_data"
    },
    {
     "name": "stdout",
     "output_type": "stream",
     "text": [
      "Now processing month  04 \n",
      "\n"
     ]
    },
    {
     "name": "stderr",
     "output_type": "stream",
     "text": [
      "2025-03-05 12:13:38,567 INFO [2024-09-26T00:00:00] Watch our [Forum](https://forum.ecmwf.int/) for Announcements, news and other discussed topics.\n",
      "2025-03-05 12:13:38,568 WARNING [2024-06-16T00:00:00] CDS API syntax is changed and some keys or parameter names may have also changed. To avoid requests failing, please use the \"Show API request code\" tool on the dataset Download Form to check you are using the correct syntax for your API request.\n",
      "2025-03-05 12:13:38,844 INFO Request ID is c9d491f7-d9c8-46df-8879-bb260c1e2b2e\n",
      "2025-03-05 12:13:38,968 INFO status has been updated to accepted\n",
      "2025-03-05 12:13:52,891 INFO status has been updated to running\n",
      "2025-03-05 12:21:57,680 INFO status has been updated to successful\n"
     ]
    },
    {
     "data": {
      "application/vnd.jupyter.widget-view+json": {
       "model_id": "92f31a1e528a4f4896e9c68df0f2319b",
       "version_major": 2,
       "version_minor": 0
      },
      "text/plain": [
       "9315fa25477b1198aa064b3f756f300c.nc:   0%|          | 0.00/20.4M [00:00<?, ?B/s]"
      ]
     },
     "metadata": {},
     "output_type": "display_data"
    },
    {
     "name": "stdout",
     "output_type": "stream",
     "text": [
      "Now processing month  05 \n",
      "\n"
     ]
    },
    {
     "name": "stderr",
     "output_type": "stream",
     "text": [
      "2025-03-05 12:22:01,146 INFO [2024-09-26T00:00:00] Watch our [Forum](https://forum.ecmwf.int/) for Announcements, news and other discussed topics.\n",
      "2025-03-05 12:22:01,147 WARNING [2024-06-16T00:00:00] CDS API syntax is changed and some keys or parameter names may have also changed. To avoid requests failing, please use the \"Show API request code\" tool on the dataset Download Form to check you are using the correct syntax for your API request.\n",
      "2025-03-05 12:22:01,437 INFO Request ID is 576292a5-567c-4777-b6cb-7824da3a60ad\n",
      "2025-03-05 12:22:01,584 INFO status has been updated to accepted\n",
      "Recovering from connection error [('Connection aborted.', ConnectionResetError(54, 'Connection reset by peer'))], attemps 1 of 500\n",
      "Retrying in 120 seconds\n",
      "2025-03-05 12:32:41,612 INFO status has been updated to successful\n"
     ]
    },
    {
     "data": {
      "application/vnd.jupyter.widget-view+json": {
       "model_id": "fdb98e79170649fbb993149e015d1d09",
       "version_major": 2,
       "version_minor": 0
      },
      "text/plain": [
       "15424c9a685be2bca1c2d0ae07a8d13d.nc:   0%|          | 0.00/23.5M [00:00<?, ?B/s]"
      ]
     },
     "metadata": {},
     "output_type": "display_data"
    },
    {
     "name": "stdout",
     "output_type": "stream",
     "text": [
      "Now processing month  06 \n",
      "\n"
     ]
    },
    {
     "name": "stderr",
     "output_type": "stream",
     "text": [
      "2025-03-05 12:32:47,798 INFO [2024-09-26T00:00:00] Watch our [Forum](https://forum.ecmwf.int/) for Announcements, news and other discussed topics.\n",
      "2025-03-05 12:32:47,799 WARNING [2024-06-16T00:00:00] CDS API syntax is changed and some keys or parameter names may have also changed. To avoid requests failing, please use the \"Show API request code\" tool on the dataset Download Form to check you are using the correct syntax for your API request.\n",
      "2025-03-05 12:32:48,140 INFO Request ID is 8b63ff28-efa7-4682-a59c-921c01d8474a\n",
      "2025-03-05 12:32:49,350 INFO status has been updated to accepted\n",
      "2025-03-05 12:32:58,123 INFO status has been updated to running\n",
      "2025-03-05 12:39:09,438 INFO status has been updated to successful\n"
     ]
    },
    {
     "data": {
      "application/vnd.jupyter.widget-view+json": {
       "model_id": "c20cf06de95a4e80acd4b6c83158466a",
       "version_major": 2,
       "version_minor": 0
      },
      "text/plain": [
       "ed9641587361892e6999d3bc2a922a53.nc:   0%|          | 0.00/21.7M [00:00<?, ?B/s]"
      ]
     },
     "metadata": {},
     "output_type": "display_data"
    },
    {
     "name": "stdout",
     "output_type": "stream",
     "text": [
      "Now processing month  07 \n",
      "\n"
     ]
    },
    {
     "name": "stderr",
     "output_type": "stream",
     "text": [
      "2025-03-05 12:39:14,687 INFO [2024-09-26T00:00:00] Watch our [Forum](https://forum.ecmwf.int/) for Announcements, news and other discussed topics.\n",
      "2025-03-05 12:39:14,688 WARNING [2024-06-16T00:00:00] CDS API syntax is changed and some keys or parameter names may have also changed. To avoid requests failing, please use the \"Show API request code\" tool on the dataset Download Form to check you are using the correct syntax for your API request.\n",
      "2025-03-05 12:39:14,999 INFO Request ID is 3014599c-4862-458a-b74f-512270b35d57\n",
      "2025-03-05 12:39:15,107 INFO status has been updated to accepted\n",
      "2025-03-05 12:39:24,017 INFO status has been updated to running\n",
      "2025-03-05 12:45:35,571 INFO status has been updated to successful\n"
     ]
    },
    {
     "data": {
      "application/vnd.jupyter.widget-view+json": {
       "model_id": "01e9757e5e2f4c9ab41db699df0ba12d",
       "version_major": 2,
       "version_minor": 0
      },
      "text/plain": [
       "40af3114d25a8649d467c2483f969f22.nc:   0%|          | 0.00/24.6M [00:00<?, ?B/s]"
      ]
     },
     "metadata": {},
     "output_type": "display_data"
    },
    {
     "name": "stdout",
     "output_type": "stream",
     "text": [
      "Now processing month  08 \n",
      "\n"
     ]
    },
    {
     "name": "stderr",
     "output_type": "stream",
     "text": [
      "2025-03-05 12:45:41,725 INFO [2024-09-26T00:00:00] Watch our [Forum](https://forum.ecmwf.int/) for Announcements, news and other discussed topics.\n",
      "2025-03-05 12:45:41,726 WARNING [2024-06-16T00:00:00] CDS API syntax is changed and some keys or parameter names may have also changed. To avoid requests failing, please use the \"Show API request code\" tool on the dataset Download Form to check you are using the correct syntax for your API request.\n",
      "2025-03-05 12:45:41,990 INFO Request ID is 5904eb2a-3fac-4989-a757-b60f25479405\n",
      "2025-03-05 12:45:42,105 INFO status has been updated to accepted\n",
      "2025-03-05 12:45:47,367 INFO status has been updated to running\n",
      "2025-03-05 12:52:02,362 INFO status has been updated to successful\n"
     ]
    },
    {
     "data": {
      "application/vnd.jupyter.widget-view+json": {
       "model_id": "05dc57567ea34217b689ffadd4e6c7ef",
       "version_major": 2,
       "version_minor": 0
      },
      "text/plain": [
       "ae20755ce1d1a3deed046dc5bf3acf32.nc:   0%|          | 0.00/24.7M [00:00<?, ?B/s]"
      ]
     },
     "metadata": {},
     "output_type": "display_data"
    },
    {
     "name": "stdout",
     "output_type": "stream",
     "text": [
      "Now processing month  09 \n",
      "\n"
     ]
    },
    {
     "name": "stderr",
     "output_type": "stream",
     "text": [
      "2025-03-05 12:52:11,083 INFO [2024-09-26T00:00:00] Watch our [Forum](https://forum.ecmwf.int/) for Announcements, news and other discussed topics.\n",
      "2025-03-05 12:52:11,084 WARNING [2024-06-16T00:00:00] CDS API syntax is changed and some keys or parameter names may have also changed. To avoid requests failing, please use the \"Show API request code\" tool on the dataset Download Form to check you are using the correct syntax for your API request.\n",
      "2025-03-05 12:52:11,555 INFO Request ID is 20ba67b8-f807-4ae1-8d0f-12c23f6b581c\n",
      "2025-03-05 12:52:11,662 INFO status has been updated to accepted\n",
      "2025-03-05 12:52:33,414 INFO status has been updated to running\n",
      "2025-03-05 13:02:40,959 INFO status has been updated to successful\n"
     ]
    },
    {
     "data": {
      "application/vnd.jupyter.widget-view+json": {
       "model_id": "4618cfdf1d534baa8abc459e2ccf43ed",
       "version_major": 2,
       "version_minor": 0
      },
      "text/plain": [
       "6e5f1b489fbdece77d6be7f47c2b51e1.nc:   0%|          | 0.00/21.1M [00:00<?, ?B/s]"
      ]
     },
     "metadata": {},
     "output_type": "display_data"
    },
    {
     "name": "stdout",
     "output_type": "stream",
     "text": [
      "Now processing month  10 \n",
      "\n"
     ]
    },
    {
     "name": "stderr",
     "output_type": "stream",
     "text": [
      "2025-03-05 13:02:47,251 INFO [2024-09-26T00:00:00] Watch our [Forum](https://forum.ecmwf.int/) for Announcements, news and other discussed topics.\n",
      "2025-03-05 13:02:47,252 WARNING [2024-06-16T00:00:00] CDS API syntax is changed and some keys or parameter names may have also changed. To avoid requests failing, please use the \"Show API request code\" tool on the dataset Download Form to check you are using the correct syntax for your API request.\n",
      "2025-03-05 13:02:47,617 INFO Request ID is 58c13e75-441e-49d7-8171-18a2e543822f\n",
      "2025-03-05 13:02:47,772 INFO status has been updated to accepted\n",
      "Recovering from connection error [('Connection aborted.', ConnectionResetError(54, 'Connection reset by peer'))], attemps 1 of 500\n",
      "Retrying in 120 seconds\n",
      "2025-03-05 13:10:23,177 INFO status has been updated to successful\n"
     ]
    },
    {
     "data": {
      "application/vnd.jupyter.widget-view+json": {
       "model_id": "97ca272e5245440eb0decc4c84aa8d5b",
       "version_major": 2,
       "version_minor": 0
      },
      "text/plain": [
       "5c3797eb7376b2651ac156c26dc61b96.nc:   0%|          | 0.00/21.7M [00:00<?, ?B/s]"
      ]
     },
     "metadata": {},
     "output_type": "display_data"
    },
    {
     "name": "stdout",
     "output_type": "stream",
     "text": [
      "Now processing month  11 \n",
      "\n"
     ]
    },
    {
     "name": "stderr",
     "output_type": "stream",
     "text": [
      "2025-03-05 13:10:27,079 INFO [2024-09-26T00:00:00] Watch our [Forum](https://forum.ecmwf.int/) for Announcements, news and other discussed topics.\n",
      "2025-03-05 13:10:27,081 WARNING [2024-06-16T00:00:00] CDS API syntax is changed and some keys or parameter names may have also changed. To avoid requests failing, please use the \"Show API request code\" tool on the dataset Download Form to check you are using the correct syntax for your API request.\n",
      "2025-03-05 13:10:27,404 INFO Request ID is 1bf29d08-b15a-4fa9-accd-3440dcb00971\n",
      "2025-03-05 13:10:27,529 INFO status has been updated to accepted\n",
      "2025-03-05 13:10:36,343 INFO status has been updated to running\n",
      "Recovering from connection error [HTTPSConnectionPool(host='cds.climate.copernicus.eu', port=443): Read timed out. (read timeout=60)], attemps 1 of 500\n",
      "Retrying in 120 seconds\n",
      "2025-03-05 13:23:42,141 INFO status has been updated to successful\n"
     ]
    },
    {
     "data": {
      "application/vnd.jupyter.widget-view+json": {
       "model_id": "be144c32decc44d0b516b7b1a5b95ad6",
       "version_major": 2,
       "version_minor": 0
      },
      "text/plain": [
       "f904596a37761289db388e370fb0b1f1.nc:   0%|          | 0.00/20.2M [00:00<?, ?B/s]"
      ]
     },
     "metadata": {},
     "output_type": "display_data"
    },
    {
     "name": "stdout",
     "output_type": "stream",
     "text": [
      "Now processing month  12 \n",
      "\n"
     ]
    },
    {
     "name": "stderr",
     "output_type": "stream",
     "text": [
      "2025-03-05 13:23:46,075 INFO [2024-09-26T00:00:00] Watch our [Forum](https://forum.ecmwf.int/) for Announcements, news and other discussed topics.\n",
      "2025-03-05 13:23:46,076 WARNING [2024-06-16T00:00:00] CDS API syntax is changed and some keys or parameter names may have also changed. To avoid requests failing, please use the \"Show API request code\" tool on the dataset Download Form to check you are using the correct syntax for your API request.\n",
      "2025-03-05 13:23:46,392 INFO Request ID is 53953d53-4e03-4a0b-b491-334b26ba406b\n",
      "2025-03-05 13:23:46,525 INFO status has been updated to accepted\n",
      "2025-03-05 13:23:51,635 INFO status has been updated to running\n",
      "Recovering from connection error [HTTPSConnectionPool(host='cds.climate.copernicus.eu', port=443): Read timed out. (read timeout=60)], attemps 1 of 500\n",
      "Retrying in 120 seconds\n",
      "2025-03-05 13:42:24,578 INFO status has been updated to successful\n"
     ]
    },
    {
     "data": {
      "application/vnd.jupyter.widget-view+json": {
       "model_id": "5c500efa026c46538d57148a53c0a09c",
       "version_major": 2,
       "version_minor": 0
      },
      "text/plain": [
       "7d12dfca50361a747aba82fcdf4c5089.nc:   0%|          | 0.00/22.7M [00:00<?, ?B/s]"
      ]
     },
     "metadata": {},
     "output_type": "display_data"
    },
    {
     "name": "stdout",
     "output_type": "stream",
     "text": [
      "Now processing year  2009 \n",
      "\n",
      "Now processing month  01 \n",
      "\n"
     ]
    },
    {
     "name": "stderr",
     "output_type": "stream",
     "text": [
      "2025-03-05 13:42:28,769 INFO [2024-09-26T00:00:00] Watch our [Forum](https://forum.ecmwf.int/) for Announcements, news and other discussed topics.\n",
      "2025-03-05 13:42:28,771 WARNING [2024-06-16T00:00:00] CDS API syntax is changed and some keys or parameter names may have also changed. To avoid requests failing, please use the \"Show API request code\" tool on the dataset Download Form to check you are using the correct syntax for your API request.\n",
      "2025-03-05 13:42:29,064 INFO Request ID is 40cf7143-f966-454f-b120-974e6ce15883\n",
      "2025-03-05 13:42:29,190 INFO status has been updated to accepted\n",
      "2025-03-05 13:42:34,362 INFO status has been updated to running\n",
      "Recovering from connection error [HTTPSConnectionPool(host='cds.climate.copernicus.eu', port=443): Read timed out. (read timeout=60)], attemps 1 of 500\n",
      "Retrying in 120 seconds\n",
      "2025-03-05 13:50:48,121 INFO status has been updated to successful\n"
     ]
    },
    {
     "data": {
      "application/vnd.jupyter.widget-view+json": {
       "model_id": "6d5cfe2be62e440392a8f9d09c308ba2",
       "version_major": 2,
       "version_minor": 0
      },
      "text/plain": [
       "5a1e2972ab682c0a998e708a8df457e9.nc:   0%|          | 0.00/23.3M [00:00<?, ?B/s]"
      ]
     },
     "metadata": {},
     "output_type": "display_data"
    },
    {
     "name": "stdout",
     "output_type": "stream",
     "text": [
      "Now processing month  02 \n",
      "\n"
     ]
    },
    {
     "name": "stderr",
     "output_type": "stream",
     "text": [
      "2025-03-05 13:50:53,595 INFO [2024-09-26T00:00:00] Watch our [Forum](https://forum.ecmwf.int/) for Announcements, news and other discussed topics.\n",
      "2025-03-05 13:50:53,596 WARNING [2024-06-16T00:00:00] CDS API syntax is changed and some keys or parameter names may have also changed. To avoid requests failing, please use the \"Show API request code\" tool on the dataset Download Form to check you are using the correct syntax for your API request.\n",
      "2025-03-05 13:50:53,876 INFO Request ID is f8167f7c-8213-4ba9-9931-2ba98d325c28\n",
      "2025-03-05 13:50:54,012 INFO status has been updated to accepted\n",
      "2025-03-05 13:50:59,192 INFO status has been updated to running\n",
      "2025-03-05 13:57:13,963 INFO status has been updated to successful\n"
     ]
    },
    {
     "data": {
      "application/vnd.jupyter.widget-view+json": {
       "model_id": "6bedd2c60af048c89c1c6f8b308a18d1",
       "version_major": 2,
       "version_minor": 0
      },
      "text/plain": [
       "49c39eac5e37ab9b001f21eff34ca219.nc:   0%|          | 0.00/19.9M [00:00<?, ?B/s]"
      ]
     },
     "metadata": {},
     "output_type": "display_data"
    },
    {
     "name": "stdout",
     "output_type": "stream",
     "text": [
      "Now processing month  03 \n",
      "\n"
     ]
    },
    {
     "name": "stderr",
     "output_type": "stream",
     "text": [
      "2025-03-05 13:57:18,019 INFO [2024-09-26T00:00:00] Watch our [Forum](https://forum.ecmwf.int/) for Announcements, news and other discussed topics.\n",
      "2025-03-05 13:57:18,020 WARNING [2024-06-16T00:00:00] CDS API syntax is changed and some keys or parameter names may have also changed. To avoid requests failing, please use the \"Show API request code\" tool on the dataset Download Form to check you are using the correct syntax for your API request.\n",
      "2025-03-05 13:57:18,282 INFO Request ID is f47cc7e5-0e6a-4cdb-a640-ea92fb67292d\n",
      "2025-03-05 13:57:18,394 INFO status has been updated to accepted\n",
      "2025-03-05 13:57:23,544 INFO status has been updated to running\n",
      "2025-03-05 14:03:38,474 INFO status has been updated to successful\n"
     ]
    },
    {
     "data": {
      "application/vnd.jupyter.widget-view+json": {
       "model_id": "e0c27d2722f347659d757d54c229f413",
       "version_major": 2,
       "version_minor": 0
      },
      "text/plain": [
       "8ab922a2e1b685282e9e4b33aa5cf5f2.nc:   0%|          | 0.00/23.4M [00:00<?, ?B/s]"
      ]
     },
     "metadata": {},
     "output_type": "display_data"
    },
    {
     "name": "stdout",
     "output_type": "stream",
     "text": [
      "Now processing month  04 \n",
      "\n"
     ]
    },
    {
     "name": "stderr",
     "output_type": "stream",
     "text": [
      "2025-03-05 14:03:45,816 INFO [2024-09-26T00:00:00] Watch our [Forum](https://forum.ecmwf.int/) for Announcements, news and other discussed topics.\n",
      "2025-03-05 14:03:45,817 WARNING [2024-06-16T00:00:00] CDS API syntax is changed and some keys or parameter names may have also changed. To avoid requests failing, please use the \"Show API request code\" tool on the dataset Download Form to check you are using the correct syntax for your API request.\n",
      "2025-03-05 14:03:46,162 INFO Request ID is b018a4c8-6a92-4986-be84-30af66e5737a\n",
      "2025-03-05 14:03:46,303 INFO status has been updated to accepted\n",
      "2025-03-05 14:03:55,006 INFO status has been updated to running\n",
      "Recovering from connection error [('Connection aborted.', ConnectionResetError(54, 'Connection reset by peer'))], attemps 1 of 500\n",
      "Retrying in 120 seconds\n",
      "Recovering from connection error [HTTPSConnectionPool(host='cds.climate.copernicus.eu', port=443): Max retries exceeded with url: /api/retrieve/v1/jobs/b018a4c8-6a92-4986-be84-30af66e5737a?log=True&request=True (Caused by NameResolutionError(\"<urllib3.connection.HTTPSConnection object>: Failed to resolve 'cds.climate.copernicus.eu' ([Errno 8] nodename nor servname provided, or not known)\"))], attemps 2 of 500\n",
      "Retrying in 120 seconds\n",
      "2025-03-05 14:21:52,638 INFO status has been updated to successful\n"
     ]
    },
    {
     "data": {
      "application/vnd.jupyter.widget-view+json": {
       "model_id": "a76dbe6c671f400a83e785e9d2bde4dc",
       "version_major": 2,
       "version_minor": 0
      },
      "text/plain": [
       "a47e7af5675feb4a154920e3d062d2cb.nc:   0%|          | 0.00/20.1M [00:00<?, ?B/s]"
      ]
     },
     "metadata": {},
     "output_type": "display_data"
    },
    {
     "name": "stderr",
     "output_type": "stream",
     "text": [
      "Recovering from connection error [HTTPSConnectionPool(host='object-store.os-api.cci2.ecmwf.int', port=443): Read timed out.], attemps 1 of 500\n",
      "Retrying in 120 seconds\n"
     ]
    },
    {
     "data": {
      "application/vnd.jupyter.widget-view+json": {
       "model_id": "fd005bfb4f604d37a4ca8ec8532430c1",
       "version_major": 2,
       "version_minor": 0
      },
      "text/plain": [
       "a47e7af5675feb4a154920e3d062d2cb.nc:  40%|###9      | 8.00M/20.1M [00:00<?, ?B/s]"
      ]
     },
     "metadata": {},
     "output_type": "display_data"
    },
    {
     "name": "stdout",
     "output_type": "stream",
     "text": [
      "Now processing month  05 \n",
      "\n"
     ]
    },
    {
     "name": "stderr",
     "output_type": "stream",
     "text": [
      "2025-03-05 14:46:58,948 INFO [2024-09-26T00:00:00] Watch our [Forum](https://forum.ecmwf.int/) for Announcements, news and other discussed topics.\n",
      "2025-03-05 14:46:58,950 WARNING [2024-06-16T00:00:00] CDS API syntax is changed and some keys or parameter names may have also changed. To avoid requests failing, please use the \"Show API request code\" tool on the dataset Download Form to check you are using the correct syntax for your API request.\n",
      "2025-03-05 14:46:59,283 INFO Request ID is 1fb44581-a851-4b47-a087-8356b5adf38f\n",
      "2025-03-05 14:46:59,414 INFO status has been updated to accepted\n",
      "2025-03-05 14:47:04,576 INFO status has been updated to running\n",
      "Recovering from connection error [HTTPSConnectionPool(host='cds.climate.copernicus.eu', port=443): Read timed out. (read timeout=60)], attemps 1 of 500\n",
      "Retrying in 120 seconds\n",
      "2025-03-05 15:49:41,591 INFO status has been updated to successful\n"
     ]
    },
    {
     "data": {
      "application/vnd.jupyter.widget-view+json": {
       "model_id": "88e0b2278c8748eba001ba1e16bc08b2",
       "version_major": 2,
       "version_minor": 0
      },
      "text/plain": [
       "13855fba0c6c849e7ee62d023b882ac0.nc:   0%|          | 0.00/23.4M [00:00<?, ?B/s]"
      ]
     },
     "metadata": {},
     "output_type": "display_data"
    },
    {
     "name": "stdout",
     "output_type": "stream",
     "text": [
      "Now processing month  06 \n",
      "\n"
     ]
    },
    {
     "name": "stderr",
     "output_type": "stream",
     "text": [
      "2025-03-05 15:49:47,548 INFO [2024-09-26T00:00:00] Watch our [Forum](https://forum.ecmwf.int/) for Announcements, news and other discussed topics.\n",
      "2025-03-05 15:49:47,549 WARNING [2024-06-16T00:00:00] CDS API syntax is changed and some keys or parameter names may have also changed. To avoid requests failing, please use the \"Show API request code\" tool on the dataset Download Form to check you are using the correct syntax for your API request.\n",
      "2025-03-05 15:49:47,861 INFO Request ID is 2b5ccf1a-ebb0-4578-b51d-6fca8be55173\n",
      "2025-03-05 15:49:47,970 INFO status has been updated to accepted\n",
      "2025-03-05 15:49:57,329 INFO status has been updated to running\n",
      "2025-03-05 15:56:08,797 INFO status has been updated to successful\n"
     ]
    },
    {
     "data": {
      "application/vnd.jupyter.widget-view+json": {
       "model_id": "fc7110d17a734a77b27aba929c13a6b9",
       "version_major": 2,
       "version_minor": 0
      },
      "text/plain": [
       "c9d81889505ffcd992d8c10facb325a5.nc:   0%|          | 0.00/22.1M [00:00<?, ?B/s]"
      ]
     },
     "metadata": {},
     "output_type": "display_data"
    },
    {
     "name": "stdout",
     "output_type": "stream",
     "text": [
      "Now processing month  07 \n",
      "\n"
     ]
    },
    {
     "name": "stderr",
     "output_type": "stream",
     "text": [
      "2025-03-05 15:56:16,252 INFO [2024-09-26T00:00:00] Watch our [Forum](https://forum.ecmwf.int/) for Announcements, news and other discussed topics.\n",
      "2025-03-05 15:56:16,253 WARNING [2024-06-16T00:00:00] CDS API syntax is changed and some keys or parameter names may have also changed. To avoid requests failing, please use the \"Show API request code\" tool on the dataset Download Form to check you are using the correct syntax for your API request.\n",
      "2025-03-05 15:56:16,582 INFO Request ID is db0ab97e-f3a2-43dd-b105-88f64e79465b\n",
      "2025-03-05 15:56:16,689 INFO status has been updated to accepted\n",
      "2025-03-05 15:56:38,851 INFO status has been updated to running\n",
      "2025-03-05 16:02:37,204 INFO status has been updated to successful\n"
     ]
    },
    {
     "data": {
      "application/vnd.jupyter.widget-view+json": {
       "model_id": "dcc01ce8069d411fb4621a35eb15e660",
       "version_major": 2,
       "version_minor": 0
      },
      "text/plain": [
       "f80579f2d5a443b7a606a6e2577c41ae.nc:   0%|          | 0.00/22.9M [00:00<?, ?B/s]"
      ]
     },
     "metadata": {},
     "output_type": "display_data"
    },
    {
     "name": "stdout",
     "output_type": "stream",
     "text": [
      "Now processing month  08 \n",
      "\n"
     ]
    },
    {
     "name": "stderr",
     "output_type": "stream",
     "text": [
      "2025-03-05 16:02:41,428 INFO [2024-09-26T00:00:00] Watch our [Forum](https://forum.ecmwf.int/) for Announcements, news and other discussed topics.\n",
      "2025-03-05 16:02:41,429 WARNING [2024-06-16T00:00:00] CDS API syntax is changed and some keys or parameter names may have also changed. To avoid requests failing, please use the \"Show API request code\" tool on the dataset Download Form to check you are using the correct syntax for your API request.\n",
      "2025-03-05 16:02:41,707 INFO Request ID is b805f8f7-dc50-4e0e-8fcc-8ec1e2a0095b\n",
      "2025-03-05 16:02:41,846 INFO status has been updated to accepted\n",
      "2025-03-05 16:02:47,025 INFO status has been updated to running\n",
      "2025-03-05 16:09:02,579 INFO status has been updated to successful\n"
     ]
    },
    {
     "data": {
      "application/vnd.jupyter.widget-view+json": {
       "model_id": "ae4a32abe8044a97bebea4eeb23b7f53",
       "version_major": 2,
       "version_minor": 0
      },
      "text/plain": [
       "8d809ed725c708c1010957c33a5d4f3.nc:   0%|          | 0.00/22.7M [00:00<?, ?B/s]"
      ]
     },
     "metadata": {},
     "output_type": "display_data"
    },
    {
     "name": "stdout",
     "output_type": "stream",
     "text": [
      "Now processing month  09 \n",
      "\n"
     ]
    },
    {
     "name": "stderr",
     "output_type": "stream",
     "text": [
      "2025-03-05 16:09:07,792 INFO [2024-09-26T00:00:00] Watch our [Forum](https://forum.ecmwf.int/) for Announcements, news and other discussed topics.\n",
      "2025-03-05 16:09:07,793 WARNING [2024-06-16T00:00:00] CDS API syntax is changed and some keys or parameter names may have also changed. To avoid requests failing, please use the \"Show API request code\" tool on the dataset Download Form to check you are using the correct syntax for your API request.\n",
      "2025-03-05 16:09:08,098 INFO Request ID is 08853daf-b5b7-4a85-90a4-c58bc452691f\n",
      "2025-03-05 16:09:08,222 INFO status has been updated to accepted\n",
      "2025-03-05 16:09:16,868 INFO status has been updated to running\n",
      "2025-03-05 16:15:28,587 INFO status has been updated to successful\n"
     ]
    },
    {
     "data": {
      "application/vnd.jupyter.widget-view+json": {
       "model_id": "8555eec07d4a40e7a48e90d118cb41ae",
       "version_major": 2,
       "version_minor": 0
      },
      "text/plain": [
       "8515e5575b4b14ae277ddf48a2a2e33a.nc:   0%|          | 0.00/21.1M [00:00<?, ?B/s]"
      ]
     },
     "metadata": {},
     "output_type": "display_data"
    },
    {
     "name": "stdout",
     "output_type": "stream",
     "text": [
      "Now processing month  10 \n",
      "\n"
     ]
    },
    {
     "name": "stderr",
     "output_type": "stream",
     "text": [
      "2025-03-05 16:15:34,073 INFO [2024-09-26T00:00:00] Watch our [Forum](https://forum.ecmwf.int/) for Announcements, news and other discussed topics.\n",
      "2025-03-05 16:15:34,074 WARNING [2024-06-16T00:00:00] CDS API syntax is changed and some keys or parameter names may have also changed. To avoid requests failing, please use the \"Show API request code\" tool on the dataset Download Form to check you are using the correct syntax for your API request.\n",
      "2025-03-05 16:15:34,416 INFO Request ID is eec4c50d-6659-43da-9da8-9e3698748a77\n",
      "2025-03-05 16:15:34,546 INFO status has been updated to accepted\n",
      "2025-03-05 16:15:48,485 INFO status has been updated to running\n",
      "2025-03-05 16:21:55,347 INFO status has been updated to successful\n"
     ]
    },
    {
     "data": {
      "application/vnd.jupyter.widget-view+json": {
       "model_id": "d87fb11fb96948f28668f64d21072116",
       "version_major": 2,
       "version_minor": 0
      },
      "text/plain": [
       "e2f4f58439cf6dcbe2ad9bdfae67fe11.nc:   0%|          | 0.00/23.3M [00:00<?, ?B/s]"
      ]
     },
     "metadata": {},
     "output_type": "display_data"
    },
    {
     "name": "stdout",
     "output_type": "stream",
     "text": [
      "Now processing month  11 \n",
      "\n"
     ]
    },
    {
     "name": "stderr",
     "output_type": "stream",
     "text": [
      "2025-03-05 16:22:06,604 INFO [2024-09-26T00:00:00] Watch our [Forum](https://forum.ecmwf.int/) for Announcements, news and other discussed topics.\n",
      "2025-03-05 16:22:06,605 WARNING [2024-06-16T00:00:00] CDS API syntax is changed and some keys or parameter names may have also changed. To avoid requests failing, please use the \"Show API request code\" tool on the dataset Download Form to check you are using the correct syntax for your API request.\n",
      "2025-03-05 16:22:07,014 INFO Request ID is 79592a28-024c-42fa-8086-6326002dce86\n",
      "2025-03-05 16:22:07,142 INFO status has been updated to accepted\n",
      "2025-03-05 16:22:15,945 INFO status has been updated to running\n",
      "2025-03-05 16:28:27,261 INFO status has been updated to successful\n"
     ]
    },
    {
     "data": {
      "application/vnd.jupyter.widget-view+json": {
       "model_id": "51c6f77f369c41659cbfca6cb2d39f11",
       "version_major": 2,
       "version_minor": 0
      },
      "text/plain": [
       "454c17344ed7995f132f3603830024a3.nc:   0%|          | 0.00/20.3M [00:00<?, ?B/s]"
      ]
     },
     "metadata": {},
     "output_type": "display_data"
    },
    {
     "name": "stdout",
     "output_type": "stream",
     "text": [
      "Now processing month  12 \n",
      "\n"
     ]
    },
    {
     "name": "stderr",
     "output_type": "stream",
     "text": [
      "2025-03-05 16:28:31,637 INFO [2024-09-26T00:00:00] Watch our [Forum](https://forum.ecmwf.int/) for Announcements, news and other discussed topics.\n",
      "2025-03-05 16:28:31,638 WARNING [2024-06-16T00:00:00] CDS API syntax is changed and some keys or parameter names may have also changed. To avoid requests failing, please use the \"Show API request code\" tool on the dataset Download Form to check you are using the correct syntax for your API request.\n",
      "2025-03-05 16:28:31,950 INFO Request ID is 7f7279b9-7a8c-46af-898a-71a4af709cbe\n",
      "2025-03-05 16:28:32,090 INFO status has been updated to accepted\n",
      "2025-03-05 16:28:37,273 INFO status has been updated to running\n",
      "2025-03-05 16:34:52,454 INFO status has been updated to successful\n"
     ]
    },
    {
     "data": {
      "application/vnd.jupyter.widget-view+json": {
       "model_id": "dbead0546c2e400aa8f43e5275557e1a",
       "version_major": 2,
       "version_minor": 0
      },
      "text/plain": [
       "c417fa3c63e2157769c6856f78ad1883.nc:   0%|          | 0.00/22.7M [00:00<?, ?B/s]"
      ]
     },
     "metadata": {},
     "output_type": "display_data"
    },
    {
     "name": "stdout",
     "output_type": "stream",
     "text": [
      "Now processing year  2010 \n",
      "\n",
      "Now processing month  01 \n",
      "\n"
     ]
    },
    {
     "name": "stderr",
     "output_type": "stream",
     "text": [
      "2025-03-05 16:34:56,298 INFO [2024-09-26T00:00:00] Watch our [Forum](https://forum.ecmwf.int/) for Announcements, news and other discussed topics.\n",
      "2025-03-05 16:34:56,299 WARNING [2024-06-16T00:00:00] CDS API syntax is changed and some keys or parameter names may have also changed. To avoid requests failing, please use the \"Show API request code\" tool on the dataset Download Form to check you are using the correct syntax for your API request.\n",
      "2025-03-05 16:34:56,634 INFO Request ID is 45d7bab5-b775-46c4-9e3b-2f7c7554c09d\n",
      "2025-03-05 16:34:56,766 INFO status has been updated to accepted\n",
      "2025-03-05 16:35:05,454 INFO status has been updated to running\n",
      "Recovering from connection error [('Connection aborted.', ConnectionResetError(54, 'Connection reset by peer'))], attemps 1 of 500\n",
      "Retrying in 120 seconds\n",
      "2025-03-05 16:41:57,289 INFO status has been updated to successful\n"
     ]
    },
    {
     "data": {
      "application/vnd.jupyter.widget-view+json": {
       "model_id": "89d53065cdc34ea7aa343324760f3072",
       "version_major": 2,
       "version_minor": 0
      },
      "text/plain": [
       "6f16645d90b7d91a978bb803c6350a51.nc:   0%|          | 0.00/22.8M [00:00<?, ?B/s]"
      ]
     },
     "metadata": {},
     "output_type": "display_data"
    },
    {
     "name": "stdout",
     "output_type": "stream",
     "text": [
      "Now processing month  02 \n",
      "\n"
     ]
    },
    {
     "name": "stderr",
     "output_type": "stream",
     "text": [
      "2025-03-05 16:42:09,147 INFO [2024-09-26T00:00:00] Watch our [Forum](https://forum.ecmwf.int/) for Announcements, news and other discussed topics.\n",
      "2025-03-05 16:42:09,150 WARNING [2024-06-16T00:00:00] CDS API syntax is changed and some keys or parameter names may have also changed. To avoid requests failing, please use the \"Show API request code\" tool on the dataset Download Form to check you are using the correct syntax for your API request.\n",
      "2025-03-05 16:42:09,468 INFO Request ID is b0c59bb2-de75-4f84-89be-e84d42bd8ff4\n",
      "2025-03-05 16:42:09,615 INFO status has been updated to accepted\n",
      "2025-03-05 16:42:14,976 INFO status has been updated to running\n",
      "2025-03-05 16:48:29,803 INFO status has been updated to successful\n"
     ]
    },
    {
     "data": {
      "application/vnd.jupyter.widget-view+json": {
       "model_id": "d009f12791d94c1689acc765b479ade2",
       "version_major": 2,
       "version_minor": 0
      },
      "text/plain": [
       "b79d505e1c85439bd0c58dc48e48dbbb.nc:   0%|          | 0.00/19.6M [00:00<?, ?B/s]"
      ]
     },
     "metadata": {},
     "output_type": "display_data"
    },
    {
     "name": "stdout",
     "output_type": "stream",
     "text": [
      "Now processing month  03 \n",
      "\n"
     ]
    },
    {
     "name": "stderr",
     "output_type": "stream",
     "text": [
      "2025-03-05 16:48:34,053 INFO [2024-09-26T00:00:00] Watch our [Forum](https://forum.ecmwf.int/) for Announcements, news and other discussed topics.\n",
      "2025-03-05 16:48:34,054 WARNING [2024-06-16T00:00:00] CDS API syntax is changed and some keys or parameter names may have also changed. To avoid requests failing, please use the \"Show API request code\" tool on the dataset Download Form to check you are using the correct syntax for your API request.\n",
      "2025-03-05 16:48:34,375 INFO Request ID is 9b1eeb69-72bd-47d2-ac24-36eee403fc4a\n",
      "2025-03-05 16:48:34,504 INFO status has been updated to accepted\n",
      "2025-03-05 16:48:39,694 INFO status has been updated to running\n",
      "2025-03-05 16:54:54,632 INFO status has been updated to successful\n"
     ]
    },
    {
     "data": {
      "application/vnd.jupyter.widget-view+json": {
       "model_id": "f18c14e16426400fbe2189bb0ad6777e",
       "version_major": 2,
       "version_minor": 0
      },
      "text/plain": [
       "17e87627f6c7655d6d770c35f75fe922.nc:   0%|          | 0.00/22.4M [00:00<?, ?B/s]"
      ]
     },
     "metadata": {},
     "output_type": "display_data"
    },
    {
     "name": "stdout",
     "output_type": "stream",
     "text": [
      "Now processing month  04 \n",
      "\n"
     ]
    },
    {
     "name": "stderr",
     "output_type": "stream",
     "text": [
      "2025-03-05 16:54:58,538 INFO [2024-09-26T00:00:00] Watch our [Forum](https://forum.ecmwf.int/) for Announcements, news and other discussed topics.\n",
      "2025-03-05 16:54:58,539 WARNING [2024-06-16T00:00:00] CDS API syntax is changed and some keys or parameter names may have also changed. To avoid requests failing, please use the \"Show API request code\" tool on the dataset Download Form to check you are using the correct syntax for your API request.\n",
      "2025-03-05 16:54:58,889 INFO Request ID is 84e0ef88-038b-492f-8f03-3a0439b700c4\n",
      "2025-03-05 16:54:58,999 INFO status has been updated to accepted\n",
      "2025-03-05 16:55:07,675 INFO status has been updated to running\n",
      "2025-03-05 17:01:18,996 INFO status has been updated to successful\n"
     ]
    },
    {
     "data": {
      "application/vnd.jupyter.widget-view+json": {
       "model_id": "0e0bd1eca4db40f2b0490c783998421c",
       "version_major": 2,
       "version_minor": 0
      },
      "text/plain": [
       "79fa1f7d510260bd8434c2c04e9f4746.nc:   0%|          | 0.00/20.4M [00:00<?, ?B/s]"
      ]
     },
     "metadata": {},
     "output_type": "display_data"
    },
    {
     "name": "stdout",
     "output_type": "stream",
     "text": [
      "Now processing month  05 \n",
      "\n"
     ]
    },
    {
     "name": "stderr",
     "output_type": "stream",
     "text": [
      "2025-03-05 17:01:23,362 INFO [2024-09-26T00:00:00] Watch our [Forum](https://forum.ecmwf.int/) for Announcements, news and other discussed topics.\n",
      "2025-03-05 17:01:23,363 WARNING [2024-06-16T00:00:00] CDS API syntax is changed and some keys or parameter names may have also changed. To avoid requests failing, please use the \"Show API request code\" tool on the dataset Download Form to check you are using the correct syntax for your API request.\n",
      "2025-03-05 17:01:23,666 INFO Request ID is 6b91eb56-7c31-4072-bea8-cbcf3a34a13b\n",
      "2025-03-05 17:01:23,795 INFO status has been updated to accepted\n",
      "2025-03-05 17:01:28,985 INFO status has been updated to running\n",
      "2025-03-05 17:07:43,708 INFO status has been updated to successful\n"
     ]
    },
    {
     "data": {
      "application/vnd.jupyter.widget-view+json": {
       "model_id": "a548f88c4f084160bf638bdf30ae5313",
       "version_major": 2,
       "version_minor": 0
      },
      "text/plain": [
       "6dd5483f81b93fcb4e2daf8777dae2f8.nc:   0%|          | 0.00/23.5M [00:00<?, ?B/s]"
      ]
     },
     "metadata": {},
     "output_type": "display_data"
    },
    {
     "name": "stdout",
     "output_type": "stream",
     "text": [
      "Now processing month  06 \n",
      "\n"
     ]
    },
    {
     "name": "stderr",
     "output_type": "stream",
     "text": [
      "2025-03-05 17:07:47,411 INFO [2024-09-26T00:00:00] Watch our [Forum](https://forum.ecmwf.int/) for Announcements, news and other discussed topics.\n",
      "2025-03-05 17:07:47,412 WARNING [2024-06-16T00:00:00] CDS API syntax is changed and some keys or parameter names may have also changed. To avoid requests failing, please use the \"Show API request code\" tool on the dataset Download Form to check you are using the correct syntax for your API request.\n",
      "2025-03-05 17:07:47,814 INFO Request ID is 44cc0c8e-e089-4d2d-b843-6a89828cf8d2\n",
      "2025-03-05 17:07:47,953 INFO status has been updated to accepted\n",
      "2025-03-05 17:07:56,623 INFO status has been updated to running\n",
      "2025-03-05 17:14:07,963 INFO status has been updated to successful\n"
     ]
    },
    {
     "data": {
      "application/vnd.jupyter.widget-view+json": {
       "model_id": "ba39a6121caa495bbd343dd8325b2e88",
       "version_major": 2,
       "version_minor": 0
      },
      "text/plain": [
       "f3734ee429da7bd1ae15e76250a8bbe0.nc:   0%|          | 0.00/21.0M [00:00<?, ?B/s]"
      ]
     },
     "metadata": {},
     "output_type": "display_data"
    },
    {
     "name": "stdout",
     "output_type": "stream",
     "text": [
      "Now processing month  07 \n",
      "\n"
     ]
    },
    {
     "name": "stderr",
     "output_type": "stream",
     "text": [
      "2025-03-05 17:14:11,673 INFO [2024-09-26T00:00:00] Watch our [Forum](https://forum.ecmwf.int/) for Announcements, news and other discussed topics.\n",
      "2025-03-05 17:14:11,673 WARNING [2024-06-16T00:00:00] CDS API syntax is changed and some keys or parameter names may have also changed. To avoid requests failing, please use the \"Show API request code\" tool on the dataset Download Form to check you are using the correct syntax for your API request.\n",
      "2025-03-05 17:14:11,954 INFO Request ID is 1c12e772-ad36-4145-8a28-fb30eeefc14e\n",
      "2025-03-05 17:14:12,087 INFO status has been updated to accepted\n",
      "2025-03-05 17:14:20,721 INFO status has been updated to running\n",
      "2025-03-05 17:14:25,895 INFO status has been updated to accepted\n",
      "2025-03-05 17:14:33,625 INFO status has been updated to running\n",
      "2025-03-05 17:20:31,925 INFO status has been updated to successful\n"
     ]
    },
    {
     "data": {
      "application/vnd.jupyter.widget-view+json": {
       "model_id": "0f8c769de69a4fa2bfaae7f0cf2823d8",
       "version_major": 2,
       "version_minor": 0
      },
      "text/plain": [
       "b4d3d4a02692f503a63ab6104301c5fa.nc:   0%|          | 0.00/23.8M [00:00<?, ?B/s]"
      ]
     },
     "metadata": {},
     "output_type": "display_data"
    },
    {
     "name": "stdout",
     "output_type": "stream",
     "text": [
      "Now processing month  08 \n",
      "\n"
     ]
    },
    {
     "name": "stderr",
     "output_type": "stream",
     "text": [
      "2025-03-05 17:20:53,139 INFO [2024-09-26T00:00:00] Watch our [Forum](https://forum.ecmwf.int/) for Announcements, news and other discussed topics.\n",
      "2025-03-05 17:20:53,139 WARNING [2024-06-16T00:00:00] CDS API syntax is changed and some keys or parameter names may have also changed. To avoid requests failing, please use the \"Show API request code\" tool on the dataset Download Form to check you are using the correct syntax for your API request.\n",
      "2025-03-05 17:20:53,421 INFO Request ID is 99f4fa1a-ef94-44ee-a620-d64d99ccd36f\n",
      "2025-03-05 17:20:53,555 INFO status has been updated to accepted\n",
      "2025-03-05 17:21:15,069 INFO status has been updated to running\n",
      "2025-03-05 17:27:13,338 INFO status has been updated to successful\n"
     ]
    },
    {
     "data": {
      "application/vnd.jupyter.widget-view+json": {
       "model_id": "ceb7a1102d5d458d9597c1afac60ecff",
       "version_major": 2,
       "version_minor": 0
      },
      "text/plain": [
       "6b7aa232ef4004867ff85ee97fc502f5.nc:   0%|          | 0.00/22.6M [00:00<?, ?B/s]"
      ]
     },
     "metadata": {},
     "output_type": "display_data"
    },
    {
     "name": "stdout",
     "output_type": "stream",
     "text": [
      "Now processing month  09 \n",
      "\n"
     ]
    },
    {
     "name": "stderr",
     "output_type": "stream",
     "text": [
      "2025-03-05 17:27:16,930 INFO [2024-09-26T00:00:00] Watch our [Forum](https://forum.ecmwf.int/) for Announcements, news and other discussed topics.\n",
      "2025-03-05 17:27:16,931 WARNING [2024-06-16T00:00:00] CDS API syntax is changed and some keys or parameter names may have also changed. To avoid requests failing, please use the \"Show API request code\" tool on the dataset Download Form to check you are using the correct syntax for your API request.\n",
      "2025-03-05 17:27:17,531 INFO Request ID is 92d24c8a-4191-429f-a2ba-d79aa6712671\n",
      "2025-03-05 17:27:17,664 INFO status has been updated to accepted\n",
      "2025-03-05 17:27:22,829 INFO status has been updated to running\n",
      "2025-03-05 17:43:35,034 INFO status has been updated to successful\n"
     ]
    },
    {
     "data": {
      "application/vnd.jupyter.widget-view+json": {
       "model_id": "62febdfde78048f38523ca9212f60306",
       "version_major": 2,
       "version_minor": 0
      },
      "text/plain": [
       "99030ec08189b31efe35c93867ef9804.nc:   0%|          | 0.00/20.2M [00:00<?, ?B/s]"
      ]
     },
     "metadata": {},
     "output_type": "display_data"
    },
    {
     "name": "stdout",
     "output_type": "stream",
     "text": [
      "Now processing month  10 \n",
      "\n"
     ]
    },
    {
     "name": "stderr",
     "output_type": "stream",
     "text": [
      "2025-03-05 17:43:40,812 INFO [2024-09-26T00:00:00] Watch our [Forum](https://forum.ecmwf.int/) for Announcements, news and other discussed topics.\n",
      "2025-03-05 17:43:40,813 WARNING [2024-06-16T00:00:00] CDS API syntax is changed and some keys or parameter names may have also changed. To avoid requests failing, please use the \"Show API request code\" tool on the dataset Download Form to check you are using the correct syntax for your API request.\n",
      "2025-03-05 17:43:41,147 INFO Request ID is c393962a-a55e-4562-ae70-2aff093f54bc\n",
      "2025-03-05 17:43:41,260 INFO status has been updated to accepted\n",
      "2025-03-05 17:44:24,568 INFO status has been updated to running\n",
      "Recovering from connection error [('Connection aborted.', ConnectionResetError(54, 'Connection reset by peer'))], attemps 1 of 500\n",
      "Retrying in 120 seconds\n",
      "2025-03-05 17:56:09,076 INFO status has been updated to successful\n"
     ]
    },
    {
     "data": {
      "application/vnd.jupyter.widget-view+json": {
       "model_id": "c74c5d189205420c80e51e235a6d250f",
       "version_major": 2,
       "version_minor": 0
      },
      "text/plain": [
       "14ef1186b080f60a4d19fcd97cfd6226.nc:   0%|          | 0.00/22.6M [00:00<?, ?B/s]"
      ]
     },
     "metadata": {},
     "output_type": "display_data"
    },
    {
     "name": "stdout",
     "output_type": "stream",
     "text": [
      "Now processing month  11 \n",
      "\n"
     ]
    },
    {
     "name": "stderr",
     "output_type": "stream",
     "text": [
      "2025-03-05 17:56:22,628 INFO [2024-09-26T00:00:00] Watch our [Forum](https://forum.ecmwf.int/) for Announcements, news and other discussed topics.\n",
      "2025-03-05 17:56:22,629 WARNING [2024-06-16T00:00:00] CDS API syntax is changed and some keys or parameter names may have also changed. To avoid requests failing, please use the \"Show API request code\" tool on the dataset Download Form to check you are using the correct syntax for your API request.\n",
      "2025-03-05 17:56:22,903 INFO Request ID is 80a09a39-0dd9-4a25-87f7-24eb9182c78f\n",
      "2025-03-05 17:56:23,042 INFO status has been updated to accepted\n",
      "2025-03-05 17:56:29,059 INFO status has been updated to running\n",
      "Recovering from connection error [HTTPSConnectionPool(host='cds.climate.copernicus.eu', port=443): Read timed out. (read timeout=60)], attemps 1 of 500\n",
      "Retrying in 120 seconds\n",
      "2025-03-05 19:33:07,346 INFO status has been updated to successful\n"
     ]
    },
    {
     "data": {
      "application/vnd.jupyter.widget-view+json": {
       "model_id": "0e2bba4e5da24c94a93b9c427f6a9dd2",
       "version_major": 2,
       "version_minor": 0
      },
      "text/plain": [
       "a992390493b85e2d48b02b277452b5da.nc:   0%|          | 0.00/20.2M [00:00<?, ?B/s]"
      ]
     },
     "metadata": {},
     "output_type": "display_data"
    },
    {
     "name": "stdout",
     "output_type": "stream",
     "text": [
      "Now processing month  12 \n",
      "\n"
     ]
    },
    {
     "name": "stderr",
     "output_type": "stream",
     "text": [
      "2025-03-05 19:33:11,289 INFO [2024-09-26T00:00:00] Watch our [Forum](https://forum.ecmwf.int/) for Announcements, news and other discussed topics.\n",
      "2025-03-05 19:33:11,290 WARNING [2024-06-16T00:00:00] CDS API syntax is changed and some keys or parameter names may have also changed. To avoid requests failing, please use the \"Show API request code\" tool on the dataset Download Form to check you are using the correct syntax for your API request.\n",
      "2025-03-05 19:33:11,708 INFO Request ID is 0b3dd28d-dd49-45df-8afb-f522c84116eb\n",
      "2025-03-05 19:33:11,881 INFO status has been updated to accepted\n",
      "2025-03-05 19:33:25,913 INFO status has been updated to running\n",
      "Recovering from connection error [HTTPSConnectionPool(host='cds.climate.copernicus.eu', port=443): Read timed out. (read timeout=60)], attemps 1 of 500\n",
      "Retrying in 120 seconds\n",
      "2025-03-05 20:33:42,305 INFO status has been updated to successful\n"
     ]
    },
    {
     "data": {
      "application/vnd.jupyter.widget-view+json": {
       "model_id": "516fbbc73a984348adfcfc46e1cfbb9c",
       "version_major": 2,
       "version_minor": 0
      },
      "text/plain": [
       "a57cfe91f5e1f87154c7563f96c107db.nc:   0%|          | 0.00/22.8M [00:00<?, ?B/s]"
      ]
     },
     "metadata": {},
     "output_type": "display_data"
    },
    {
     "name": "stdout",
     "output_type": "stream",
     "text": [
      "Now processing year  2011 \n",
      "\n",
      "Now processing month  01 \n",
      "\n"
     ]
    },
    {
     "name": "stderr",
     "output_type": "stream",
     "text": [
      "2025-03-05 20:33:48,953 INFO [2024-09-26T00:00:00] Watch our [Forum](https://forum.ecmwf.int/) for Announcements, news and other discussed topics.\n",
      "2025-03-05 20:33:48,954 WARNING [2024-06-16T00:00:00] CDS API syntax is changed and some keys or parameter names may have also changed. To avoid requests failing, please use the \"Show API request code\" tool on the dataset Download Form to check you are using the correct syntax for your API request.\n",
      "2025-03-05 20:33:49,340 INFO Request ID is 892da5fd-5e83-4a2a-87e8-bd308affe3e2\n",
      "2025-03-05 20:33:49,493 INFO status has been updated to accepted\n",
      "2025-03-05 20:33:58,262 INFO status has been updated to running\n",
      "Recovering from connection error [HTTPSConnectionPool(host='cds.climate.copernicus.eu', port=443): Read timed out. (read timeout=60)], attemps 1 of 500\n",
      "Retrying in 120 seconds\n",
      "2025-03-05 22:41:32,077 INFO status has been updated to successful\n"
     ]
    },
    {
     "data": {
      "application/vnd.jupyter.widget-view+json": {
       "model_id": "440f645d70634d6dac1bd0848796a737",
       "version_major": 2,
       "version_minor": 0
      },
      "text/plain": [
       "b14b22381ec5afc41e72644dc8d701dd.nc:   0%|          | 0.00/22.8M [00:00<?, ?B/s]"
      ]
     },
     "metadata": {},
     "output_type": "display_data"
    },
    {
     "name": "stdout",
     "output_type": "stream",
     "text": [
      "Now processing month  02 \n",
      "\n"
     ]
    },
    {
     "name": "stderr",
     "output_type": "stream",
     "text": [
      "2025-03-05 22:41:42,110 INFO [2024-09-26T00:00:00] Watch our [Forum](https://forum.ecmwf.int/) for Announcements, news and other discussed topics.\n",
      "2025-03-05 22:41:42,111 WARNING [2024-06-16T00:00:00] CDS API syntax is changed and some keys or parameter names may have also changed. To avoid requests failing, please use the \"Show API request code\" tool on the dataset Download Form to check you are using the correct syntax for your API request.\n",
      "2025-03-05 22:41:42,584 INFO Request ID is 9bc4eec6-2f59-4b0d-814c-7ebd80ef9fc3\n",
      "2025-03-05 22:41:42,748 INFO status has been updated to accepted\n",
      "2025-03-05 22:41:51,545 INFO status has been updated to running\n",
      "Recovering from connection error [HTTPSConnectionPool(host='cds.climate.copernicus.eu', port=443): Read timed out. (read timeout=60)], attemps 1 of 500\n",
      "Retrying in 120 seconds\n",
      "2025-03-06 00:34:53,968 INFO status has been updated to successful\n"
     ]
    },
    {
     "data": {
      "application/vnd.jupyter.widget-view+json": {
       "model_id": "bc173741973d4aa39fd61c64ebef20d1",
       "version_major": 2,
       "version_minor": 0
      },
      "text/plain": [
       "ca76059e2a566add0765ed41603b1fcc.nc:   0%|          | 0.00/19.7M [00:00<?, ?B/s]"
      ]
     },
     "metadata": {},
     "output_type": "display_data"
    },
    {
     "name": "stdout",
     "output_type": "stream",
     "text": [
      "Now processing month  03 \n",
      "\n"
     ]
    },
    {
     "name": "stderr",
     "output_type": "stream",
     "text": [
      "2025-03-06 00:34:57,820 INFO [2024-09-26T00:00:00] Watch our [Forum](https://forum.ecmwf.int/) for Announcements, news and other discussed topics.\n",
      "2025-03-06 00:34:57,822 WARNING [2024-06-16T00:00:00] CDS API syntax is changed and some keys or parameter names may have also changed. To avoid requests failing, please use the \"Show API request code\" tool on the dataset Download Form to check you are using the correct syntax for your API request.\n",
      "2025-03-06 00:34:58,258 INFO Request ID is 2bf01197-9dfd-45fc-80ec-f336348521d8\n",
      "2025-03-06 00:34:58,463 INFO status has been updated to accepted\n",
      "2025-03-06 00:35:12,587 INFO status has been updated to running\n",
      "Recovering from connection error [HTTPSConnectionPool(host='cds.climate.copernicus.eu', port=443): Read timed out. (read timeout=60)], attemps 1 of 500\n",
      "Retrying in 120 seconds\n",
      "2025-03-06 03:23:12,625 INFO status has been updated to successful\n"
     ]
    },
    {
     "data": {
      "application/vnd.jupyter.widget-view+json": {
       "model_id": "44ef6773414b44d4b31bdcb8afe77ff5",
       "version_major": 2,
       "version_minor": 0
      },
      "text/plain": [
       "45f31eebc002b35a503bb442aa4fbbb5.nc:   0%|          | 0.00/23.3M [00:00<?, ?B/s]"
      ]
     },
     "metadata": {},
     "output_type": "display_data"
    },
    {
     "name": "stdout",
     "output_type": "stream",
     "text": [
      "Now processing month  04 \n",
      "\n"
     ]
    },
    {
     "name": "stderr",
     "output_type": "stream",
     "text": [
      "2025-03-06 03:23:22,870 INFO [2024-09-26T00:00:00] Watch our [Forum](https://forum.ecmwf.int/) for Announcements, news and other discussed topics.\n",
      "2025-03-06 03:23:22,871 WARNING [2024-06-16T00:00:00] CDS API syntax is changed and some keys or parameter names may have also changed. To avoid requests failing, please use the \"Show API request code\" tool on the dataset Download Form to check you are using the correct syntax for your API request.\n",
      "2025-03-06 03:23:23,218 INFO Request ID is abb30cb9-1913-4c47-8936-efc61cbacd05\n",
      "2025-03-06 03:23:23,385 INFO status has been updated to accepted\n",
      "2025-03-06 03:23:28,677 INFO status has been updated to running\n",
      "Recovering from connection error [HTTPSConnectionPool(host='cds.climate.copernicus.eu', port=443): Read timed out. (read timeout=60)], attemps 1 of 500\n",
      "Retrying in 120 seconds\n",
      "2025-03-06 05:00:45,944 INFO status has been updated to successful\n"
     ]
    },
    {
     "data": {
      "application/vnd.jupyter.widget-view+json": {
       "model_id": "5b78ded120214d208c82142cb569ea8d",
       "version_major": 2,
       "version_minor": 0
      },
      "text/plain": [
       "fa9b2b7aab0eebb7ef0b613581d2aedc.nc:   0%|          | 0.00/21.8M [00:00<?, ?B/s]"
      ]
     },
     "metadata": {},
     "output_type": "display_data"
    },
    {
     "name": "stdout",
     "output_type": "stream",
     "text": [
      "Now processing month  05 \n",
      "\n"
     ]
    },
    {
     "name": "stderr",
     "output_type": "stream",
     "text": [
      "2025-03-06 05:00:50,251 INFO [2024-09-26T00:00:00] Watch our [Forum](https://forum.ecmwf.int/) for Announcements, news and other discussed topics.\n",
      "2025-03-06 05:00:50,252 WARNING [2024-06-16T00:00:00] CDS API syntax is changed and some keys or parameter names may have also changed. To avoid requests failing, please use the \"Show API request code\" tool on the dataset Download Form to check you are using the correct syntax for your API request.\n",
      "2025-03-06 05:00:50,671 INFO Request ID is 44c24dd2-8c3c-4f45-afec-84b626b77e44\n",
      "2025-03-06 05:00:50,822 INFO status has been updated to accepted\n",
      "2025-03-06 05:00:59,609 INFO status has been updated to running\n",
      "Recovering from connection error [HTTPSConnectionPool(host='cds.climate.copernicus.eu', port=443): Read timed out. (read timeout=60)], attemps 1 of 500\n",
      "Retrying in 120 seconds\n",
      "2025-03-06 06:26:06,792 INFO status has been updated to successful\n"
     ]
    },
    {
     "data": {
      "application/vnd.jupyter.widget-view+json": {
       "model_id": "b31301665fd4439ca2ad11f1a15e2fe6",
       "version_major": 2,
       "version_minor": 0
      },
      "text/plain": [
       "4af4a4d4842e6ea5d2baf841bca95c84.nc:   0%|          | 0.00/23.0M [00:00<?, ?B/s]"
      ]
     },
     "metadata": {},
     "output_type": "display_data"
    },
    {
     "name": "stdout",
     "output_type": "stream",
     "text": [
      "Now processing month  06 \n",
      "\n"
     ]
    },
    {
     "name": "stderr",
     "output_type": "stream",
     "text": [
      "2025-03-06 06:26:10,302 INFO [2024-09-26T00:00:00] Watch our [Forum](https://forum.ecmwf.int/) for Announcements, news and other discussed topics.\n",
      "2025-03-06 06:26:10,303 WARNING [2024-06-16T00:00:00] CDS API syntax is changed and some keys or parameter names may have also changed. To avoid requests failing, please use the \"Show API request code\" tool on the dataset Download Form to check you are using the correct syntax for your API request.\n",
      "2025-03-06 06:26:10,656 INFO Request ID is a125828b-eda3-4068-83f2-1eed3ce5e1a0\n",
      "2025-03-06 06:26:10,827 INFO status has been updated to accepted\n",
      "Recovering from connection error [HTTPSConnectionPool(host='cds.climate.copernicus.eu', port=443): Read timed out. (read timeout=60)], attemps 1 of 500\n",
      "Retrying in 120 seconds\n",
      "2025-03-06 08:01:49,777 INFO status has been updated to successful\n"
     ]
    },
    {
     "data": {
      "application/vnd.jupyter.widget-view+json": {
       "model_id": "3598c8fba90d4f2d92cc4706f21edb07",
       "version_major": 2,
       "version_minor": 0
      },
      "text/plain": [
       "d19ac6bccb5025b79ca4c85c08e9f044.nc:   0%|          | 0.00/20.1M [00:00<?, ?B/s]"
      ]
     },
     "metadata": {},
     "output_type": "display_data"
    },
    {
     "name": "stdout",
     "output_type": "stream",
     "text": [
      "Now processing month  07 \n",
      "\n"
     ]
    },
    {
     "name": "stderr",
     "output_type": "stream",
     "text": [
      "2025-03-06 08:01:53,274 INFO [2024-09-26T00:00:00] Watch our [Forum](https://forum.ecmwf.int/) for Announcements, news and other discussed topics.\n",
      "2025-03-06 08:01:53,275 WARNING [2024-06-16T00:00:00] CDS API syntax is changed and some keys or parameter names may have also changed. To avoid requests failing, please use the \"Show API request code\" tool on the dataset Download Form to check you are using the correct syntax for your API request.\n",
      "2025-03-06 08:01:53,638 INFO Request ID is 5424c6d9-dd21-4a28-a1b1-fef9c28afac0\n",
      "2025-03-06 08:01:53,796 INFO status has been updated to accepted\n",
      "2025-03-06 08:02:02,603 INFO status has been updated to running\n",
      "Recovering from connection error [HTTPSConnectionPool(host='cds.climate.copernicus.eu', port=443): Read timed out. (read timeout=60)], attemps 1 of 500\n",
      "Retrying in 120 seconds\n",
      "Recovering from connection error [HTTPSConnectionPool(host='cds.climate.copernicus.eu', port=443): Max retries exceeded with url: /api/retrieve/v1/jobs/5424c6d9-dd21-4a28-a1b1-fef9c28afac0?log=True&request=True (Caused by NameResolutionError(\"<urllib3.connection.HTTPSConnection object>: Failed to resolve 'cds.climate.copernicus.eu' ([Errno 8] nodename nor servname provided, or not known)\"))], attemps 2 of 500\n",
      "Retrying in 120 seconds\n",
      "2025-03-06 10:10:27,455 INFO status has been updated to successful\n"
     ]
    },
    {
     "data": {
      "application/vnd.jupyter.widget-view+json": {
       "model_id": "ea9da59b2aa046b79e659bf361a87c96",
       "version_major": 2,
       "version_minor": 0
      },
      "text/plain": [
       "1a4f913cba0a5f56439a442d3fc437f7.nc:   0%|          | 0.00/22.8M [00:00<?, ?B/s]"
      ]
     },
     "metadata": {},
     "output_type": "display_data"
    },
    {
     "name": "stdout",
     "output_type": "stream",
     "text": [
      "Now processing month  08 \n",
      "\n"
     ]
    },
    {
     "name": "stderr",
     "output_type": "stream",
     "text": [
      "2025-03-06 10:11:06,185 INFO [2024-09-26T00:00:00] Watch our [Forum](https://forum.ecmwf.int/) for Announcements, news and other discussed topics.\n",
      "2025-03-06 10:11:06,186 WARNING [2024-06-16T00:00:00] CDS API syntax is changed and some keys or parameter names may have also changed. To avoid requests failing, please use the \"Show API request code\" tool on the dataset Download Form to check you are using the correct syntax for your API request.\n",
      "2025-03-06 10:11:06,713 INFO Request ID is 654ab4e7-d72c-490e-b758-dcfaec456c64\n",
      "2025-03-06 10:11:06,854 INFO status has been updated to accepted\n",
      "2025-03-06 10:11:15,738 INFO status has been updated to running\n",
      "Recovering from connection error [HTTPSConnectionPool(host='cds.climate.copernicus.eu', port=443): Read timed out. (read timeout=60)], attemps 1 of 500\n",
      "Retrying in 120 seconds\n",
      "2025-03-06 10:33:19,728 INFO status has been updated to successful\n"
     ]
    },
    {
     "data": {
      "application/vnd.jupyter.widget-view+json": {
       "model_id": "f9c90aefb5aa4e26b3a85789b1b7534f",
       "version_major": 2,
       "version_minor": 0
      },
      "text/plain": [
       "593eed1e2f25b17aebd76573a7d633af.nc:   0%|          | 0.00/23.4M [00:00<?, ?B/s]"
      ]
     },
     "metadata": {},
     "output_type": "display_data"
    },
    {
     "name": "stdout",
     "output_type": "stream",
     "text": [
      "Now processing month  09 \n",
      "\n"
     ]
    },
    {
     "name": "stderr",
     "output_type": "stream",
     "text": [
      "2025-03-06 10:33:23,795 INFO [2024-09-26T00:00:00] Watch our [Forum](https://forum.ecmwf.int/) for Announcements, news and other discussed topics.\n",
      "2025-03-06 10:33:23,795 WARNING [2024-06-16T00:00:00] CDS API syntax is changed and some keys or parameter names may have also changed. To avoid requests failing, please use the \"Show API request code\" tool on the dataset Download Form to check you are using the correct syntax for your API request.\n",
      "2025-03-06 10:33:24,109 INFO Request ID is 4d3ae6eb-7df7-4d8b-b2c5-e9186b5f3d94\n",
      "2025-03-06 10:33:24,238 INFO status has been updated to accepted\n",
      "2025-03-06 10:33:45,855 INFO status has been updated to running\n",
      "2025-03-06 10:39:44,564 INFO status has been updated to successful\n"
     ]
    },
    {
     "data": {
      "application/vnd.jupyter.widget-view+json": {
       "model_id": "4d7b005b6c504001916fcb07e8202c63",
       "version_major": 2,
       "version_minor": 0
      },
      "text/plain": [
       "bac1c442f6c1d6acc8462fbb619209fc.nc:   0%|          | 0.00/21.2M [00:00<?, ?B/s]"
      ]
     },
     "metadata": {},
     "output_type": "display_data"
    },
    {
     "name": "stdout",
     "output_type": "stream",
     "text": [
      "Now processing month  10 \n",
      "\n"
     ]
    },
    {
     "name": "stderr",
     "output_type": "stream",
     "text": [
      "2025-03-06 10:39:49,533 INFO [2024-09-26T00:00:00] Watch our [Forum](https://forum.ecmwf.int/) for Announcements, news and other discussed topics.\n",
      "2025-03-06 10:39:49,534 WARNING [2024-06-16T00:00:00] CDS API syntax is changed and some keys or parameter names may have also changed. To avoid requests failing, please use the \"Show API request code\" tool on the dataset Download Form to check you are using the correct syntax for your API request.\n",
      "2025-03-06 10:39:49,833 INFO Request ID is e10135dd-3323-4f07-88e0-4d5b85a600eb\n",
      "2025-03-06 10:39:49,945 INFO status has been updated to accepted\n",
      "2025-03-06 10:40:25,364 INFO status has been updated to running\n",
      "2025-03-06 10:44:12,177 INFO status has been updated to successful\n"
     ]
    },
    {
     "data": {
      "application/vnd.jupyter.widget-view+json": {
       "model_id": "2037de160e8a4ab49ccce1c2566e9e2d",
       "version_major": 2,
       "version_minor": 0
      },
      "text/plain": [
       "a08d6791e29bf9ca54e72673eff8832e.nc:   0%|          | 0.00/23.5M [00:00<?, ?B/s]"
      ]
     },
     "metadata": {},
     "output_type": "display_data"
    },
    {
     "name": "stdout",
     "output_type": "stream",
     "text": [
      "Now processing month  11 \n",
      "\n"
     ]
    },
    {
     "name": "stderr",
     "output_type": "stream",
     "text": [
      "2025-03-06 10:44:29,941 INFO [2024-09-26T00:00:00] Watch our [Forum](https://forum.ecmwf.int/) for Announcements, news and other discussed topics.\n",
      "2025-03-06 10:44:29,941 WARNING [2024-06-16T00:00:00] CDS API syntax is changed and some keys or parameter names may have also changed. To avoid requests failing, please use the \"Show API request code\" tool on the dataset Download Form to check you are using the correct syntax for your API request.\n",
      "2025-03-06 10:44:30,416 INFO Request ID is 3c82d50e-08af-463c-88d6-24fbf4381eae\n",
      "2025-03-06 10:44:30,628 INFO status has been updated to accepted\n",
      "2025-03-06 10:44:53,721 INFO status has been updated to running\n",
      "2025-03-06 10:50:54,038 INFO status has been updated to successful\n"
     ]
    },
    {
     "data": {
      "application/vnd.jupyter.widget-view+json": {
       "model_id": "bd17a9a226784c87b2ed251cdd29ce51",
       "version_major": 2,
       "version_minor": 0
      },
      "text/plain": [
       "c0c85103951cd02a36abf4cddb9df38a.nc:   0%|          | 0.00/20.9M [00:00<?, ?B/s]"
      ]
     },
     "metadata": {},
     "output_type": "display_data"
    },
    {
     "name": "stdout",
     "output_type": "stream",
     "text": [
      "Now processing month  12 \n",
      "\n"
     ]
    },
    {
     "name": "stderr",
     "output_type": "stream",
     "text": [
      "2025-03-06 10:51:01,012 INFO [2024-09-26T00:00:00] Watch our [Forum](https://forum.ecmwf.int/) for Announcements, news and other discussed topics.\n",
      "2025-03-06 10:51:01,013 WARNING [2024-06-16T00:00:00] CDS API syntax is changed and some keys or parameter names may have also changed. To avoid requests failing, please use the \"Show API request code\" tool on the dataset Download Form to check you are using the correct syntax for your API request.\n",
      "2025-03-06 10:51:01,330 INFO Request ID is 440220ff-e711-426f-8e40-2f392bce5cbb\n",
      "2025-03-06 10:51:01,461 INFO status has been updated to accepted\n",
      "2025-03-06 10:51:16,013 INFO status has been updated to running\n",
      "2025-03-06 10:57:22,301 INFO status has been updated to successful\n"
     ]
    },
    {
     "data": {
      "application/vnd.jupyter.widget-view+json": {
       "model_id": "d9b019aff1dc496398c10c8b3c97273c",
       "version_major": 2,
       "version_minor": 0
      },
      "text/plain": [
       "30c65ee5e68ffea1795a8156cd51650c.nc:   0%|          | 0.00/23.3M [00:00<?, ?B/s]"
      ]
     },
     "metadata": {},
     "output_type": "display_data"
    },
    {
     "name": "stdout",
     "output_type": "stream",
     "text": [
      "Now processing year  2012 \n",
      "\n",
      "Now processing month  01 \n",
      "\n"
     ]
    },
    {
     "name": "stderr",
     "output_type": "stream",
     "text": [
      "2025-03-06 10:57:28,703 INFO [2024-09-26T00:00:00] Watch our [Forum](https://forum.ecmwf.int/) for Announcements, news and other discussed topics.\n",
      "2025-03-06 10:57:28,704 WARNING [2024-06-16T00:00:00] CDS API syntax is changed and some keys or parameter names may have also changed. To avoid requests failing, please use the \"Show API request code\" tool on the dataset Download Form to check you are using the correct syntax for your API request.\n",
      "2025-03-06 10:57:29,446 INFO Request ID is f1646491-2f20-4da2-abf2-731dc1d9f843\n",
      "2025-03-06 10:57:29,585 INFO status has been updated to accepted\n",
      "2025-03-06 11:03:51,419 INFO status has been updated to running\n",
      "2025-03-06 11:15:54,705 INFO status has been updated to successful\n"
     ]
    },
    {
     "data": {
      "application/vnd.jupyter.widget-view+json": {
       "model_id": "d3ae9541ef874543b5a89319c19c23c4",
       "version_major": 2,
       "version_minor": 0
      },
      "text/plain": [
       "357563ffc71c1b2eb9fc66bdfb45d7f1.nc:   0%|          | 0.00/22.8M [00:00<?, ?B/s]"
      ]
     },
     "metadata": {},
     "output_type": "display_data"
    },
    {
     "name": "stdout",
     "output_type": "stream",
     "text": [
      "Now processing month  02 \n",
      "\n"
     ]
    },
    {
     "name": "stderr",
     "output_type": "stream",
     "text": [
      "2025-03-06 11:15:58,899 INFO [2024-09-26T00:00:00] Watch our [Forum](https://forum.ecmwf.int/) for Announcements, news and other discussed topics.\n",
      "2025-03-06 11:15:58,900 WARNING [2024-06-16T00:00:00] CDS API syntax is changed and some keys or parameter names may have also changed. To avoid requests failing, please use the \"Show API request code\" tool on the dataset Download Form to check you are using the correct syntax for your API request.\n",
      "2025-03-06 11:15:59,253 INFO Request ID is 754d82e7-8b3e-44ac-b487-59af4669ed00\n",
      "2025-03-06 11:15:59,369 INFO status has been updated to accepted\n"
     ]
    }
   ],
   "source": [
    "for year_str in query_years_str:\n",
    "    # Track progress\n",
    "    print(\"Now processing year \", year_str, \"\\n\")\n",
    "\n",
    "    # For each year, the query is divided into each month sections. \n",
    "    # If a request is too large, it will not be accepted by the CDS servers, \n",
    "    # so this division of requests is required.\n",
    "\n",
    "    for month_str in query_months_str:\n",
    "        # Track progress\n",
    "        print(\"Now processing month \", month_str, \"\\n\")\n",
    "\n",
    "        # The below is the formatted API request language. All of the inputs\n",
    "        # specified below in proper formatting can be identified by forming a \n",
    "        # request using the Copernicus CDS point-and-click interface for data\n",
    "        # requests. https://cds.climate.copernicus.eu/cdsapp#!/dataset/reanalysis-era5-land?tab=form\n",
    "        # Select the variables, timing, and netcdf as the output format, and then \n",
    "        # select \"Show API Request\" at the bottom of the screen. \n",
    "    \n",
    "        # Note that the argument in the download() function is the file path and \n",
    "        # file name that data will be exported to and stored at. If using a loop, \n",
    "        # ensure that the unique features of each request are noted in the output.\n",
    "\n",
    "        # Note: need to create \"ERA5_Out\" subfolder on your path\n",
    " \n",
    "        dataset = \"reanalysis-era5-land\"\n",
    "        request = {\n",
    "                    \"product_type\": \"reanalysis\",\n",
    "                    \"variable\": [\"2m_dewpoint_temperature\",\n",
    "                                 \"2m_temperature\",\n",
    "                                 \"skin_temperature\"], \n",
    "                    \"year\": year_str,\n",
    "                    \"month\": month_str,\n",
    "                    \"day\": [  \n",
    "                            \"01\", \"02\", \"03\",\n",
    "                            \"04\", \"05\", \"06\",\n",
    "                            \"07\", \"08\", \"09\",\n",
    "                            \"10\", \"11\", \"12\",\n",
    "                            \"13\", \"14\", \"15\",\n",
    "                            \"16\", \"17\", \"18\",\n",
    "                            \"19\", \"20\", \"21\",\n",
    "                            \"22\", \"23\", \"24\",\n",
    "                            \"25\", \"26\", \"27\",\n",
    "                            \"28\", \"29\", \"30\",\n",
    "                            \"31\"],\n",
    "                    \"time\": [\n",
    "                             \"00:00\", \"01:00\", \"02:00\",\n",
    "                             \"03:00\", \"04:00\", \"05:00\",\n",
    "                             \"06:00\", \"07:00\", \"08:00\",\n",
    "                             \"09:00\", \"10:00\", \"11:00\",\n",
    "                             \"12:00\", \"13:00\", \"14:00\",\n",
    "                             \"15:00\", \"16:00\", \"17:00\",\n",
    "                             \"18:00\", \"19:00\", \"20:00\",\n",
    "                             \"21:00\", \"22:00\", \"23:00\"],\n",
    "                    \"data_format\": \"netcdf\",\n",
    "                    \"download_format\": \"unarchived\",\n",
    "                    \"area\": query_area\n",
    "        }\n",
    "\n",
    "        client = cdsapi.Client()\n",
    "        client.retrieve(dataset, request).download(os.path.join(output_dir, \n",
    "                                                                \"{}_{}.nc\".format(year_str, month_str)))\n"
   ]
  },
  {
   "cell_type": "markdown",
   "metadata": {},
   "source": [
    "From the logs, it looks like one month of data takes approximately 10 minutes. In this query, we might end up with 48 hours of downloading for the full 24 years. Clearly this will need to be multithreaded/paralleled to be efficient."
   ]
  },
  {
   "cell_type": "markdown",
   "metadata": {},
   "source": [
    "## Testing Soil Moisture Downloads"
   ]
  },
  {
   "cell_type": "code",
   "execution_count": 6,
   "metadata": {},
   "outputs": [
    {
     "name": "stderr",
     "output_type": "stream",
     "text": [
      "2025-05-13 12:55:08,967 INFO [2024-09-26T00:00:00] Watch our [Forum](https://forum.ecmwf.int/) for Announcements, news and other discussed topics.\n",
      "2025-05-13 12:55:08,968 WARNING [2024-06-16T00:00:00] CDS API syntax is changed and some keys or parameter names may have also changed. To avoid requests failing, please use the \"Show API request code\" tool on the dataset Download Form to check you are using the correct syntax for your API request.\n",
      "2025-05-13 12:55:09,296 INFO Request ID is 7cc51283-7f15-4176-9cca-5b596a7a2280\n",
      "2025-05-13 12:55:09,840 INFO status has been updated to accepted\n",
      "2025-05-13 12:55:43,013 INFO status has been updated to running\n",
      "2025-05-13 12:56:00,367 INFO status has been updated to successful\n",
      "                                                                                        \r"
     ]
    },
    {
     "data": {
      "text/plain": [
       "'aafb095eaccbe4c07bd91711fa10f7b7.nc'"
      ]
     },
     "execution_count": 6,
     "metadata": {},
     "output_type": "execute_result"
    }
   ],
   "source": [
    "import cdsapi\n",
    "\n",
    "dataset = \"reanalysis-era5-land\"\n",
    "request = {\n",
    "    \"variable\": [\"volumetric_soil_water_layer_1\"],\n",
    "    \"year\": \"2009\",\n",
    "    \"month\": \"01\",\n",
    "    \"day\": [\"01\"],\n",
    "    \"time\": [\"01:00\"],\n",
    "    \"data_format\": \"netcdf\",\n",
    "    \"download_format\": \"unarchived\"\n",
    "}\n",
    "\n",
    "client = cdsapi.Client()\n",
    "client.retrieve(dataset, request).download()"
   ]
  },
  {
   "cell_type": "code",
   "execution_count": 4,
   "metadata": {},
   "outputs": [],
   "source": [
    "from pyprojroot.here import here\n",
    "\n",
    "ecmw_dir = here(\"notes/prototypes/\")"
   ]
  },
  {
   "cell_type": "code",
   "execution_count": 7,
   "metadata": {},
   "outputs": [
    {
     "data": {
      "text/plain": [
       "PosixPath('/net/rcstorenfs02/ifs/rc_labs/dominici_lab/lab/data_processing/csph-era5_sandbox/notes/prototypes/soil.nc')"
      ]
     },
     "execution_count": 7,
     "metadata": {},
     "output_type": "execute_result"
    }
   ],
   "source": [
    "ecmw_dir / \"soil.nc\""
   ]
  },
  {
   "cell_type": "code",
   "execution_count": 10,
   "metadata": {},
   "outputs": [],
   "source": [
    "import xarray\n",
    "import os\n",
    "\n",
    "temp_file = xarray.open_dataset(os.path.join(ecmw_dir / \"soil.nc\"), decode_coords=\"all\")"
   ]
  },
  {
   "cell_type": "code",
   "execution_count": 11,
   "metadata": {},
   "outputs": [
    {
     "data": {
      "text/html": [
       "<div><svg style=\"position: absolute; width: 0; height: 0; overflow: hidden\">\n",
       "<defs>\n",
       "<symbol id=\"icon-database\" viewBox=\"0 0 32 32\">\n",
       "<path d=\"M16 0c-8.837 0-16 2.239-16 5v4c0 2.761 7.163 5 16 5s16-2.239 16-5v-4c0-2.761-7.163-5-16-5z\"></path>\n",
       "<path d=\"M16 17c-8.837 0-16-2.239-16-5v6c0 2.761 7.163 5 16 5s16-2.239 16-5v-6c0 2.761-7.163 5-16 5z\"></path>\n",
       "<path d=\"M16 26c-8.837 0-16-2.239-16-5v6c0 2.761 7.163 5 16 5s16-2.239 16-5v-6c0 2.761-7.163 5-16 5z\"></path>\n",
       "</symbol>\n",
       "<symbol id=\"icon-file-text2\" viewBox=\"0 0 32 32\">\n",
       "<path d=\"M28.681 7.159c-0.694-0.947-1.662-2.053-2.724-3.116s-2.169-2.030-3.116-2.724c-1.612-1.182-2.393-1.319-2.841-1.319h-15.5c-1.378 0-2.5 1.121-2.5 2.5v27c0 1.378 1.122 2.5 2.5 2.5h23c1.378 0 2.5-1.122 2.5-2.5v-19.5c0-0.448-0.137-1.23-1.319-2.841zM24.543 5.457c0.959 0.959 1.712 1.825 2.268 2.543h-4.811v-4.811c0.718 0.556 1.584 1.309 2.543 2.268zM28 29.5c0 0.271-0.229 0.5-0.5 0.5h-23c-0.271 0-0.5-0.229-0.5-0.5v-27c0-0.271 0.229-0.5 0.5-0.5 0 0 15.499-0 15.5 0v7c0 0.552 0.448 1 1 1h7v19.5z\"></path>\n",
       "<path d=\"M23 26h-14c-0.552 0-1-0.448-1-1s0.448-1 1-1h14c0.552 0 1 0.448 1 1s-0.448 1-1 1z\"></path>\n",
       "<path d=\"M23 22h-14c-0.552 0-1-0.448-1-1s0.448-1 1-1h14c0.552 0 1 0.448 1 1s-0.448 1-1 1z\"></path>\n",
       "<path d=\"M23 18h-14c-0.552 0-1-0.448-1-1s0.448-1 1-1h14c0.552 0 1 0.448 1 1s-0.448 1-1 1z\"></path>\n",
       "</symbol>\n",
       "</defs>\n",
       "</svg>\n",
       "<style>/* CSS stylesheet for displaying xarray objects in jupyterlab.\n",
       " *\n",
       " */\n",
       "\n",
       ":root {\n",
       "  --xr-font-color0: var(--jp-content-font-color0, rgba(0, 0, 0, 1));\n",
       "  --xr-font-color2: var(--jp-content-font-color2, rgba(0, 0, 0, 0.54));\n",
       "  --xr-font-color3: var(--jp-content-font-color3, rgba(0, 0, 0, 0.38));\n",
       "  --xr-border-color: var(--jp-border-color2, #e0e0e0);\n",
       "  --xr-disabled-color: var(--jp-layout-color3, #bdbdbd);\n",
       "  --xr-background-color: var(--jp-layout-color0, white);\n",
       "  --xr-background-color-row-even: var(--jp-layout-color1, white);\n",
       "  --xr-background-color-row-odd: var(--jp-layout-color2, #eeeeee);\n",
       "}\n",
       "\n",
       "html[theme=\"dark\"],\n",
       "html[data-theme=\"dark\"],\n",
       "body[data-theme=\"dark\"],\n",
       "body.vscode-dark {\n",
       "  --xr-font-color0: rgba(255, 255, 255, 1);\n",
       "  --xr-font-color2: rgba(255, 255, 255, 0.54);\n",
       "  --xr-font-color3: rgba(255, 255, 255, 0.38);\n",
       "  --xr-border-color: #1f1f1f;\n",
       "  --xr-disabled-color: #515151;\n",
       "  --xr-background-color: #111111;\n",
       "  --xr-background-color-row-even: #111111;\n",
       "  --xr-background-color-row-odd: #313131;\n",
       "}\n",
       "\n",
       ".xr-wrap {\n",
       "  display: block !important;\n",
       "  min-width: 300px;\n",
       "  max-width: 700px;\n",
       "}\n",
       "\n",
       ".xr-text-repr-fallback {\n",
       "  /* fallback to plain text repr when CSS is not injected (untrusted notebook) */\n",
       "  display: none;\n",
       "}\n",
       "\n",
       ".xr-header {\n",
       "  padding-top: 6px;\n",
       "  padding-bottom: 6px;\n",
       "  margin-bottom: 4px;\n",
       "  border-bottom: solid 1px var(--xr-border-color);\n",
       "}\n",
       "\n",
       ".xr-header > div,\n",
       ".xr-header > ul {\n",
       "  display: inline;\n",
       "  margin-top: 0;\n",
       "  margin-bottom: 0;\n",
       "}\n",
       "\n",
       ".xr-obj-type,\n",
       ".xr-array-name {\n",
       "  margin-left: 2px;\n",
       "  margin-right: 10px;\n",
       "}\n",
       "\n",
       ".xr-obj-type {\n",
       "  color: var(--xr-font-color2);\n",
       "}\n",
       "\n",
       ".xr-sections {\n",
       "  padding-left: 0 !important;\n",
       "  display: grid;\n",
       "  grid-template-columns: 150px auto auto 1fr 0 20px 0 20px;\n",
       "}\n",
       "\n",
       ".xr-section-item {\n",
       "  display: contents;\n",
       "}\n",
       "\n",
       ".xr-section-item input {\n",
       "  display: inline-block;\n",
       "  opacity: 0;\n",
       "  height: 0;\n",
       "}\n",
       "\n",
       ".xr-section-item input + label {\n",
       "  color: var(--xr-disabled-color);\n",
       "}\n",
       "\n",
       ".xr-section-item input:enabled + label {\n",
       "  cursor: pointer;\n",
       "  color: var(--xr-font-color2);\n",
       "}\n",
       "\n",
       ".xr-section-item input:focus + label {\n",
       "  border: 2px solid var(--xr-font-color0);\n",
       "}\n",
       "\n",
       ".xr-section-item input:enabled + label:hover {\n",
       "  color: var(--xr-font-color0);\n",
       "}\n",
       "\n",
       ".xr-section-summary {\n",
       "  grid-column: 1;\n",
       "  color: var(--xr-font-color2);\n",
       "  font-weight: 500;\n",
       "}\n",
       "\n",
       ".xr-section-summary > span {\n",
       "  display: inline-block;\n",
       "  padding-left: 0.5em;\n",
       "}\n",
       "\n",
       ".xr-section-summary-in:disabled + label {\n",
       "  color: var(--xr-font-color2);\n",
       "}\n",
       "\n",
       ".xr-section-summary-in + label:before {\n",
       "  display: inline-block;\n",
       "  content: \"►\";\n",
       "  font-size: 11px;\n",
       "  width: 15px;\n",
       "  text-align: center;\n",
       "}\n",
       "\n",
       ".xr-section-summary-in:disabled + label:before {\n",
       "  color: var(--xr-disabled-color);\n",
       "}\n",
       "\n",
       ".xr-section-summary-in:checked + label:before {\n",
       "  content: \"▼\";\n",
       "}\n",
       "\n",
       ".xr-section-summary-in:checked + label > span {\n",
       "  display: none;\n",
       "}\n",
       "\n",
       ".xr-section-summary,\n",
       ".xr-section-inline-details {\n",
       "  padding-top: 4px;\n",
       "  padding-bottom: 4px;\n",
       "}\n",
       "\n",
       ".xr-section-inline-details {\n",
       "  grid-column: 2 / -1;\n",
       "}\n",
       "\n",
       ".xr-section-details {\n",
       "  display: none;\n",
       "  grid-column: 1 / -1;\n",
       "  margin-bottom: 5px;\n",
       "}\n",
       "\n",
       ".xr-section-summary-in:checked ~ .xr-section-details {\n",
       "  display: contents;\n",
       "}\n",
       "\n",
       ".xr-array-wrap {\n",
       "  grid-column: 1 / -1;\n",
       "  display: grid;\n",
       "  grid-template-columns: 20px auto;\n",
       "}\n",
       "\n",
       ".xr-array-wrap > label {\n",
       "  grid-column: 1;\n",
       "  vertical-align: top;\n",
       "}\n",
       "\n",
       ".xr-preview {\n",
       "  color: var(--xr-font-color3);\n",
       "}\n",
       "\n",
       ".xr-array-preview,\n",
       ".xr-array-data {\n",
       "  padding: 0 5px !important;\n",
       "  grid-column: 2;\n",
       "}\n",
       "\n",
       ".xr-array-data,\n",
       ".xr-array-in:checked ~ .xr-array-preview {\n",
       "  display: none;\n",
       "}\n",
       "\n",
       ".xr-array-in:checked ~ .xr-array-data,\n",
       ".xr-array-preview {\n",
       "  display: inline-block;\n",
       "}\n",
       "\n",
       ".xr-dim-list {\n",
       "  display: inline-block !important;\n",
       "  list-style: none;\n",
       "  padding: 0 !important;\n",
       "  margin: 0;\n",
       "}\n",
       "\n",
       ".xr-dim-list li {\n",
       "  display: inline-block;\n",
       "  padding: 0;\n",
       "  margin: 0;\n",
       "}\n",
       "\n",
       ".xr-dim-list:before {\n",
       "  content: \"(\";\n",
       "}\n",
       "\n",
       ".xr-dim-list:after {\n",
       "  content: \")\";\n",
       "}\n",
       "\n",
       ".xr-dim-list li:not(:last-child):after {\n",
       "  content: \",\";\n",
       "  padding-right: 5px;\n",
       "}\n",
       "\n",
       ".xr-has-index {\n",
       "  font-weight: bold;\n",
       "}\n",
       "\n",
       ".xr-var-list,\n",
       ".xr-var-item {\n",
       "  display: contents;\n",
       "}\n",
       "\n",
       ".xr-var-item > div,\n",
       ".xr-var-item label,\n",
       ".xr-var-item > .xr-var-name span {\n",
       "  background-color: var(--xr-background-color-row-even);\n",
       "  margin-bottom: 0;\n",
       "}\n",
       "\n",
       ".xr-var-item > .xr-var-name:hover span {\n",
       "  padding-right: 5px;\n",
       "}\n",
       "\n",
       ".xr-var-list > li:nth-child(odd) > div,\n",
       ".xr-var-list > li:nth-child(odd) > label,\n",
       ".xr-var-list > li:nth-child(odd) > .xr-var-name span {\n",
       "  background-color: var(--xr-background-color-row-odd);\n",
       "}\n",
       "\n",
       ".xr-var-name {\n",
       "  grid-column: 1;\n",
       "}\n",
       "\n",
       ".xr-var-dims {\n",
       "  grid-column: 2;\n",
       "}\n",
       "\n",
       ".xr-var-dtype {\n",
       "  grid-column: 3;\n",
       "  text-align: right;\n",
       "  color: var(--xr-font-color2);\n",
       "}\n",
       "\n",
       ".xr-var-preview {\n",
       "  grid-column: 4;\n",
       "}\n",
       "\n",
       ".xr-index-preview {\n",
       "  grid-column: 2 / 5;\n",
       "  color: var(--xr-font-color2);\n",
       "}\n",
       "\n",
       ".xr-var-name,\n",
       ".xr-var-dims,\n",
       ".xr-var-dtype,\n",
       ".xr-preview,\n",
       ".xr-attrs dt {\n",
       "  white-space: nowrap;\n",
       "  overflow: hidden;\n",
       "  text-overflow: ellipsis;\n",
       "  padding-right: 10px;\n",
       "}\n",
       "\n",
       ".xr-var-name:hover,\n",
       ".xr-var-dims:hover,\n",
       ".xr-var-dtype:hover,\n",
       ".xr-attrs dt:hover {\n",
       "  overflow: visible;\n",
       "  width: auto;\n",
       "  z-index: 1;\n",
       "}\n",
       "\n",
       ".xr-var-attrs,\n",
       ".xr-var-data,\n",
       ".xr-index-data {\n",
       "  display: none;\n",
       "  background-color: var(--xr-background-color) !important;\n",
       "  padding-bottom: 5px !important;\n",
       "}\n",
       "\n",
       ".xr-var-attrs-in:checked ~ .xr-var-attrs,\n",
       ".xr-var-data-in:checked ~ .xr-var-data,\n",
       ".xr-index-data-in:checked ~ .xr-index-data {\n",
       "  display: block;\n",
       "}\n",
       "\n",
       ".xr-var-data > table {\n",
       "  float: right;\n",
       "}\n",
       "\n",
       ".xr-var-name span,\n",
       ".xr-var-data,\n",
       ".xr-index-name div,\n",
       ".xr-index-data,\n",
       ".xr-attrs {\n",
       "  padding-left: 25px !important;\n",
       "}\n",
       "\n",
       ".xr-attrs,\n",
       ".xr-var-attrs,\n",
       ".xr-var-data,\n",
       ".xr-index-data {\n",
       "  grid-column: 1 / -1;\n",
       "}\n",
       "\n",
       "dl.xr-attrs {\n",
       "  padding: 0;\n",
       "  margin: 0;\n",
       "  display: grid;\n",
       "  grid-template-columns: 125px auto;\n",
       "}\n",
       "\n",
       ".xr-attrs dt,\n",
       ".xr-attrs dd {\n",
       "  padding: 0;\n",
       "  margin: 0;\n",
       "  float: left;\n",
       "  padding-right: 10px;\n",
       "  width: auto;\n",
       "}\n",
       "\n",
       ".xr-attrs dt {\n",
       "  font-weight: normal;\n",
       "  grid-column: 1;\n",
       "}\n",
       "\n",
       ".xr-attrs dt:hover span {\n",
       "  display: inline-block;\n",
       "  background: var(--xr-background-color);\n",
       "  padding-right: 10px;\n",
       "}\n",
       "\n",
       ".xr-attrs dd {\n",
       "  grid-column: 2;\n",
       "  white-space: pre-wrap;\n",
       "  word-break: break-all;\n",
       "}\n",
       "\n",
       ".xr-icon-database,\n",
       ".xr-icon-file-text2,\n",
       ".xr-no-icon {\n",
       "  display: inline-block;\n",
       "  vertical-align: middle;\n",
       "  width: 1em;\n",
       "  height: 1.5em !important;\n",
       "  stroke-width: 0;\n",
       "  stroke: currentColor;\n",
       "  fill: currentColor;\n",
       "}\n",
       "</style><pre class='xr-text-repr-fallback'>&lt;xarray.Dataset&gt; Size: 26MB\n",
       "Dimensions:     (valid_time: 1, latitude: 1801, longitude: 3600)\n",
       "Coordinates:\n",
       "    number      int64 8B ...\n",
       "  * valid_time  (valid_time) datetime64[ns] 8B 2009-01-01T01:00:00\n",
       "  * latitude    (latitude) float64 14kB 90.0 89.9 89.8 ... -89.8 -89.9 -90.0\n",
       "  * longitude   (longitude) float64 29kB 0.0 0.1 0.2 0.3 ... 359.7 359.8 359.9\n",
       "    expver      &lt;U4 16B ...\n",
       "Data variables:\n",
       "    swvl1       (valid_time, latitude, longitude) float32 26MB ...\n",
       "Attributes:\n",
       "    GRIB_centre:             ecmf\n",
       "    GRIB_centreDescription:  European Centre for Medium-Range Weather Forecasts\n",
       "    GRIB_subCentre:          0\n",
       "    Conventions:             CF-1.7\n",
       "    institution:             European Centre for Medium-Range Weather Forecasts\n",
       "    history:                 2025-05-13T16:55 GRIB to CDM+CF via cfgrib-0.9.1...</pre><div class='xr-wrap' style='display:none'><div class='xr-header'><div class='xr-obj-type'>xarray.Dataset</div></div><ul class='xr-sections'><li class='xr-section-item'><input id='section-9f4c450d-9523-4ef9-ad9b-318700331102' class='xr-section-summary-in' type='checkbox' disabled ><label for='section-9f4c450d-9523-4ef9-ad9b-318700331102' class='xr-section-summary'  title='Expand/collapse section'>Dimensions:</label><div class='xr-section-inline-details'><ul class='xr-dim-list'><li><span class='xr-has-index'>valid_time</span>: 1</li><li><span class='xr-has-index'>latitude</span>: 1801</li><li><span class='xr-has-index'>longitude</span>: 3600</li></ul></div><div class='xr-section-details'></div></li><li class='xr-section-item'><input id='section-f525c2fe-49a5-4354-bb01-649f907cdfad' class='xr-section-summary-in' type='checkbox'  checked><label for='section-f525c2fe-49a5-4354-bb01-649f907cdfad' class='xr-section-summary' >Coordinates: <span>(5)</span></label><div class='xr-section-inline-details'></div><div class='xr-section-details'><ul class='xr-var-list'><li class='xr-var-item'><div class='xr-var-name'><span>number</span></div><div class='xr-var-dims'>()</div><div class='xr-var-dtype'>int64</div><div class='xr-var-preview xr-preview'>...</div><input id='attrs-0c629641-f9e1-42cc-bd00-9e981ee43d30' class='xr-var-attrs-in' type='checkbox' ><label for='attrs-0c629641-f9e1-42cc-bd00-9e981ee43d30' title='Show/Hide attributes'><svg class='icon xr-icon-file-text2'><use xlink:href='#icon-file-text2'></use></svg></label><input id='data-75d217d8-250e-4329-99e2-562d567cd601' class='xr-var-data-in' type='checkbox'><label for='data-75d217d8-250e-4329-99e2-562d567cd601' title='Show/Hide data repr'><svg class='icon xr-icon-database'><use xlink:href='#icon-database'></use></svg></label><div class='xr-var-attrs'><dl class='xr-attrs'><dt><span>long_name :</span></dt><dd>ensemble member numerical id</dd><dt><span>units :</span></dt><dd>1</dd><dt><span>standard_name :</span></dt><dd>realization</dd></dl></div><div class='xr-var-data'><pre>[1 values with dtype=int64]</pre></div></li><li class='xr-var-item'><div class='xr-var-name'><span class='xr-has-index'>valid_time</span></div><div class='xr-var-dims'>(valid_time)</div><div class='xr-var-dtype'>datetime64[ns]</div><div class='xr-var-preview xr-preview'>2009-01-01T01:00:00</div><input id='attrs-52b82019-5488-44cb-bccf-7551949326b1' class='xr-var-attrs-in' type='checkbox' ><label for='attrs-52b82019-5488-44cb-bccf-7551949326b1' title='Show/Hide attributes'><svg class='icon xr-icon-file-text2'><use xlink:href='#icon-file-text2'></use></svg></label><input id='data-4ded892a-b1a6-4259-8c19-eb4a4ad23417' class='xr-var-data-in' type='checkbox'><label for='data-4ded892a-b1a6-4259-8c19-eb4a4ad23417' title='Show/Hide data repr'><svg class='icon xr-icon-database'><use xlink:href='#icon-database'></use></svg></label><div class='xr-var-attrs'><dl class='xr-attrs'><dt><span>long_name :</span></dt><dd>time</dd><dt><span>standard_name :</span></dt><dd>time</dd></dl></div><div class='xr-var-data'><pre>array([&#x27;2009-01-01T01:00:00.000000000&#x27;], dtype=&#x27;datetime64[ns]&#x27;)</pre></div></li><li class='xr-var-item'><div class='xr-var-name'><span class='xr-has-index'>latitude</span></div><div class='xr-var-dims'>(latitude)</div><div class='xr-var-dtype'>float64</div><div class='xr-var-preview xr-preview'>90.0 89.9 89.8 ... -89.9 -90.0</div><input id='attrs-7fb04419-de48-433f-b513-2cf780872b56' class='xr-var-attrs-in' type='checkbox' ><label for='attrs-7fb04419-de48-433f-b513-2cf780872b56' title='Show/Hide attributes'><svg class='icon xr-icon-file-text2'><use xlink:href='#icon-file-text2'></use></svg></label><input id='data-6d7d0966-7198-40ac-936e-4af17bd18328' class='xr-var-data-in' type='checkbox'><label for='data-6d7d0966-7198-40ac-936e-4af17bd18328' title='Show/Hide data repr'><svg class='icon xr-icon-database'><use xlink:href='#icon-database'></use></svg></label><div class='xr-var-attrs'><dl class='xr-attrs'><dt><span>units :</span></dt><dd>degrees_north</dd><dt><span>standard_name :</span></dt><dd>latitude</dd><dt><span>long_name :</span></dt><dd>latitude</dd><dt><span>stored_direction :</span></dt><dd>decreasing</dd></dl></div><div class='xr-var-data'><pre>array([ 90. ,  89.9,  89.8, ..., -89.8, -89.9, -90. ], shape=(1801,))</pre></div></li><li class='xr-var-item'><div class='xr-var-name'><span class='xr-has-index'>longitude</span></div><div class='xr-var-dims'>(longitude)</div><div class='xr-var-dtype'>float64</div><div class='xr-var-preview xr-preview'>0.0 0.1 0.2 ... 359.7 359.8 359.9</div><input id='attrs-1437a092-797f-40f0-a410-ef903fcc8518' class='xr-var-attrs-in' type='checkbox' ><label for='attrs-1437a092-797f-40f0-a410-ef903fcc8518' title='Show/Hide attributes'><svg class='icon xr-icon-file-text2'><use xlink:href='#icon-file-text2'></use></svg></label><input id='data-ce9f4083-e121-4160-b80b-5ec849027d72' class='xr-var-data-in' type='checkbox'><label for='data-ce9f4083-e121-4160-b80b-5ec849027d72' title='Show/Hide data repr'><svg class='icon xr-icon-database'><use xlink:href='#icon-database'></use></svg></label><div class='xr-var-attrs'><dl class='xr-attrs'><dt><span>units :</span></dt><dd>degrees_east</dd><dt><span>standard_name :</span></dt><dd>longitude</dd><dt><span>long_name :</span></dt><dd>longitude</dd></dl></div><div class='xr-var-data'><pre>array([0.000e+00, 1.000e-01, 2.000e-01, ..., 3.597e+02, 3.598e+02, 3.599e+02],\n",
       "      shape=(3600,))</pre></div></li><li class='xr-var-item'><div class='xr-var-name'><span>expver</span></div><div class='xr-var-dims'>()</div><div class='xr-var-dtype'>&lt;U4</div><div class='xr-var-preview xr-preview'>...</div><input id='attrs-f5b83701-cc54-4932-bea8-a471f1c2d46f' class='xr-var-attrs-in' type='checkbox' disabled><label for='attrs-f5b83701-cc54-4932-bea8-a471f1c2d46f' title='Show/Hide attributes'><svg class='icon xr-icon-file-text2'><use xlink:href='#icon-file-text2'></use></svg></label><input id='data-0e6f5640-7a1d-4500-87a0-801eb172f338' class='xr-var-data-in' type='checkbox'><label for='data-0e6f5640-7a1d-4500-87a0-801eb172f338' title='Show/Hide data repr'><svg class='icon xr-icon-database'><use xlink:href='#icon-database'></use></svg></label><div class='xr-var-attrs'><dl class='xr-attrs'></dl></div><div class='xr-var-data'><pre>[1 values with dtype=&lt;U4]</pre></div></li></ul></div></li><li class='xr-section-item'><input id='section-9fae5a3b-fc1c-4487-9e86-244fc314d403' class='xr-section-summary-in' type='checkbox'  checked><label for='section-9fae5a3b-fc1c-4487-9e86-244fc314d403' class='xr-section-summary' >Data variables: <span>(1)</span></label><div class='xr-section-inline-details'></div><div class='xr-section-details'><ul class='xr-var-list'><li class='xr-var-item'><div class='xr-var-name'><span>swvl1</span></div><div class='xr-var-dims'>(valid_time, latitude, longitude)</div><div class='xr-var-dtype'>float32</div><div class='xr-var-preview xr-preview'>...</div><input id='attrs-cd755ada-2838-454b-a054-285f6f776ab9' class='xr-var-attrs-in' type='checkbox' ><label for='attrs-cd755ada-2838-454b-a054-285f6f776ab9' title='Show/Hide attributes'><svg class='icon xr-icon-file-text2'><use xlink:href='#icon-file-text2'></use></svg></label><input id='data-ae28709f-6fa8-4bb5-bcab-4e1b3ea7be30' class='xr-var-data-in' type='checkbox'><label for='data-ae28709f-6fa8-4bb5-bcab-4e1b3ea7be30' title='Show/Hide data repr'><svg class='icon xr-icon-database'><use xlink:href='#icon-database'></use></svg></label><div class='xr-var-attrs'><dl class='xr-attrs'><dt><span>GRIB_paramId :</span></dt><dd>39</dd><dt><span>GRIB_dataType :</span></dt><dd>an</dd><dt><span>GRIB_numberOfPoints :</span></dt><dd>6483600</dd><dt><span>GRIB_typeOfLevel :</span></dt><dd>depthBelowLandLayer</dd><dt><span>GRIB_stepUnits :</span></dt><dd>1</dd><dt><span>GRIB_stepType :</span></dt><dd>instant</dd><dt><span>GRIB_gridType :</span></dt><dd>regular_ll</dd><dt><span>GRIB_uvRelativeToGrid :</span></dt><dd>0</dd><dt><span>GRIB_NV :</span></dt><dd>0</dd><dt><span>GRIB_Nx :</span></dt><dd>3600</dd><dt><span>GRIB_Ny :</span></dt><dd>1801</dd><dt><span>GRIB_cfName :</span></dt><dd>unknown</dd><dt><span>GRIB_cfVarName :</span></dt><dd>swvl1</dd><dt><span>GRIB_gridDefinitionDescription :</span></dt><dd>Latitude/Longitude Grid</dd><dt><span>GRIB_iDirectionIncrementInDegrees :</span></dt><dd>0.1</dd><dt><span>GRIB_iScansNegatively :</span></dt><dd>0</dd><dt><span>GRIB_jDirectionIncrementInDegrees :</span></dt><dd>0.1</dd><dt><span>GRIB_jPointsAreConsecutive :</span></dt><dd>0</dd><dt><span>GRIB_jScansPositively :</span></dt><dd>0</dd><dt><span>GRIB_latitudeOfFirstGridPointInDegrees :</span></dt><dd>90.0</dd><dt><span>GRIB_latitudeOfLastGridPointInDegrees :</span></dt><dd>-90.0</dd><dt><span>GRIB_longitudeOfFirstGridPointInDegrees :</span></dt><dd>0.0</dd><dt><span>GRIB_longitudeOfLastGridPointInDegrees :</span></dt><dd>359.9</dd><dt><span>GRIB_missingValue :</span></dt><dd>3.4028234663852886e+38</dd><dt><span>GRIB_name :</span></dt><dd>Volumetric soil water layer 1</dd><dt><span>GRIB_shortName :</span></dt><dd>swvl1</dd><dt><span>GRIB_totalNumber :</span></dt><dd>0</dd><dt><span>GRIB_units :</span></dt><dd>m**3 m**-3</dd><dt><span>long_name :</span></dt><dd>Volumetric soil water layer 1</dd><dt><span>units :</span></dt><dd>m**3 m**-3</dd><dt><span>standard_name :</span></dt><dd>unknown</dd><dt><span>GRIB_depthBelowLandLayer :</span></dt><dd>0.0</dd></dl></div><div class='xr-var-data'><pre>[6483600 values with dtype=float32]</pre></div></li></ul></div></li><li class='xr-section-item'><input id='section-1d65958a-7e1d-4afc-8862-217ceb339a5e' class='xr-section-summary-in' type='checkbox'  ><label for='section-1d65958a-7e1d-4afc-8862-217ceb339a5e' class='xr-section-summary' >Indexes: <span>(3)</span></label><div class='xr-section-inline-details'></div><div class='xr-section-details'><ul class='xr-var-list'><li class='xr-var-item'><div class='xr-index-name'><div>valid_time</div></div><div class='xr-index-preview'>PandasIndex</div><input type='checkbox' disabled/><label></label><input id='index-37bb70e9-1500-411c-9ea0-71e7cf42f376' class='xr-index-data-in' type='checkbox'/><label for='index-37bb70e9-1500-411c-9ea0-71e7cf42f376' title='Show/Hide index repr'><svg class='icon xr-icon-database'><use xlink:href='#icon-database'></use></svg></label><div class='xr-index-data'><pre>PandasIndex(DatetimeIndex([&#x27;2009-01-01 01:00:00&#x27;], dtype=&#x27;datetime64[ns]&#x27;, name=&#x27;valid_time&#x27;, freq=None))</pre></div></li><li class='xr-var-item'><div class='xr-index-name'><div>latitude</div></div><div class='xr-index-preview'>PandasIndex</div><input type='checkbox' disabled/><label></label><input id='index-69ee3f51-ffa0-4135-98a2-48c0db96f54d' class='xr-index-data-in' type='checkbox'/><label for='index-69ee3f51-ffa0-4135-98a2-48c0db96f54d' title='Show/Hide index repr'><svg class='icon xr-icon-database'><use xlink:href='#icon-database'></use></svg></label><div class='xr-index-data'><pre>PandasIndex(Index([              90.0,               89.9,  89.80000000000001,\n",
       "        89.70000000000002,  89.60000000000002,  89.50000000000003,\n",
       "        89.40000000000003,  89.30000000000004,  89.20000000000005,\n",
       "        89.10000000000005,\n",
       "       ...\n",
       "       -89.09999999999837, -89.19999999999837, -89.29999999999836,\n",
       "       -89.39999999999836, -89.49999999999835, -89.59999999999835,\n",
       "       -89.69999999999834, -89.79999999999833, -89.89999999999833,\n",
       "                    -90.0],\n",
       "      dtype=&#x27;float64&#x27;, name=&#x27;latitude&#x27;, length=1801))</pre></div></li><li class='xr-var-item'><div class='xr-index-name'><div>longitude</div></div><div class='xr-index-preview'>PandasIndex</div><input type='checkbox' disabled/><label></label><input id='index-fe968589-6a8f-4165-8490-06c546e49a14' class='xr-index-data-in' type='checkbox'/><label for='index-fe968589-6a8f-4165-8490-06c546e49a14' title='Show/Hide index repr'><svg class='icon xr-icon-database'><use xlink:href='#icon-database'></use></svg></label><div class='xr-index-data'><pre>PandasIndex(Index([                0.0, 0.09999999999999999, 0.19999999999999998,\n",
       "                       0.3, 0.39999999999999997, 0.49999999999999994,\n",
       "                       0.6,                 0.7,  0.7999999999999999,\n",
       "        0.8999999999999999,\n",
       "       ...\n",
       "        359.00000000001313,  359.10000000001315,   359.2000000000132,\n",
       "         359.3000000000132,   359.4000000000132,  359.50000000001324,\n",
       "        359.60000000001327,   359.7000000000133,   359.8000000000133,\n",
       "                     359.9],\n",
       "      dtype=&#x27;float64&#x27;, name=&#x27;longitude&#x27;, length=3600))</pre></div></li></ul></div></li><li class='xr-section-item'><input id='section-847411fc-9abc-4c26-94c7-b43f2156da7f' class='xr-section-summary-in' type='checkbox'  checked><label for='section-847411fc-9abc-4c26-94c7-b43f2156da7f' class='xr-section-summary' >Attributes: <span>(6)</span></label><div class='xr-section-inline-details'></div><div class='xr-section-details'><dl class='xr-attrs'><dt><span>GRIB_centre :</span></dt><dd>ecmf</dd><dt><span>GRIB_centreDescription :</span></dt><dd>European Centre for Medium-Range Weather Forecasts</dd><dt><span>GRIB_subCentre :</span></dt><dd>0</dd><dt><span>Conventions :</span></dt><dd>CF-1.7</dd><dt><span>institution :</span></dt><dd>European Centre for Medium-Range Weather Forecasts</dd><dt><span>history :</span></dt><dd>2025-05-13T16:55 GRIB to CDM+CF via cfgrib-0.9.15.0/ecCodes-2.39.0 with {&quot;source&quot;: &quot;data.grib&quot;, &quot;filter_by_keys&quot;: {}, &quot;encode_cf&quot;: [&quot;parameter&quot;, &quot;time&quot;, &quot;geography&quot;, &quot;vertical&quot;]}</dd></dl></div></li></ul></div></div>"
      ],
      "text/plain": [
       "<xarray.Dataset> Size: 26MB\n",
       "Dimensions:     (valid_time: 1, latitude: 1801, longitude: 3600)\n",
       "Coordinates:\n",
       "    number      int64 8B ...\n",
       "  * valid_time  (valid_time) datetime64[ns] 8B 2009-01-01T01:00:00\n",
       "  * latitude    (latitude) float64 14kB 90.0 89.9 89.8 ... -89.8 -89.9 -90.0\n",
       "  * longitude   (longitude) float64 29kB 0.0 0.1 0.2 0.3 ... 359.7 359.8 359.9\n",
       "    expver      <U4 16B ...\n",
       "Data variables:\n",
       "    swvl1       (valid_time, latitude, longitude) float32 26MB ...\n",
       "Attributes:\n",
       "    GRIB_centre:             ecmf\n",
       "    GRIB_centreDescription:  European Centre for Medium-Range Weather Forecasts\n",
       "    GRIB_subCentre:          0\n",
       "    Conventions:             CF-1.7\n",
       "    institution:             European Centre for Medium-Range Weather Forecasts\n",
       "    history:                 2025-05-13T16:55 GRIB to CDM+CF via cfgrib-0.9.1..."
      ]
     },
     "execution_count": 11,
     "metadata": {},
     "output_type": "execute_result"
    }
   ],
   "source": [
    "temp_file"
   ]
  },
  {
   "cell_type": "code",
   "execution_count": 12,
   "metadata": {},
   "outputs": [
    {
     "data": {
      "text/plain": [
       "<matplotlib.collections.QuadMesh at 0x150b05439410>"
      ]
     },
     "execution_count": 12,
     "metadata": {},
     "output_type": "execute_result"
    },
    {
     "data": {
      "image/png": "[encoded data removed]",
      "text/plain": [
       "<Figure size 640x480 with 2 Axes>"
      ]
     },
     "metadata": {},
     "output_type": "display_data"
    }
   ],
   "source": [
    "temp_file['swvl1'].plot()"
   ]
  },
  {
   "cell_type": "code",
   "execution_count": null,
   "metadata": {},
   "outputs": [],
   "source": []
  }
 ],
 "metadata": {
  "kernelspec": {
   "display_name": "era5_sandbox",
   "language": "python",
   "name": "python3"
  },
  "language_info": {
   "codemirror_mode": {
    "name": "ipython",
    "version": 3
   },
   "file_extension": ".py",
   "mimetype": "text/x-python",
   "name": "python",
   "nbconvert_exporter": "python",
   "pygments_lexer": "ipython3",
   "version": "3.11.11"
  }
 },
 "nbformat": 4,
 "nbformat_minor": 2
}
